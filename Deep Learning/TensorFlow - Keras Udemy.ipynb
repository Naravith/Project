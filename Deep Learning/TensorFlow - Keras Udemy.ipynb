{
 "cells": [
  {
   "cell_type": "markdown",
   "metadata": {},
   "source": [
    "# -- The First Section is learned from Udemy course -- "
   ]
  },
  {
   "cell_type": "code",
   "execution_count": 44,
   "metadata": {},
   "outputs": [],
   "source": [
    "import pandas as pd\n",
    "import numpy as np\n",
    "import seaborn as sns\n",
    "\n",
    "from sklearn.model_selection import train_test_split\n",
    "from sklearn.preprocessing import MinMaxScaler\n",
    "from sklearn.metrics import mean_absolute_error, mean_squared_error\n",
    "\n",
    "from tensorflow.keras.models import Sequential\n",
    "from tensorflow.keras.layers import Dense, Activation"
   ]
  },
  {
   "cell_type": "code",
   "execution_count": 45,
   "metadata": {},
   "outputs": [],
   "source": [
    "df = pd.read_csv('C:/Users/Naravith/Desktop/4thyear/Project - github/TensorFlow_FILES/DATA/fake_reg.csv')"
   ]
  },
  {
   "cell_type": "code",
   "execution_count": 46,
   "metadata": {},
   "outputs": [
    {
     "data": {
      "text/html": [
       "<div>\n",
       "<style scoped>\n",
       "    .dataframe tbody tr th:only-of-type {\n",
       "        vertical-align: middle;\n",
       "    }\n",
       "\n",
       "    .dataframe tbody tr th {\n",
       "        vertical-align: top;\n",
       "    }\n",
       "\n",
       "    .dataframe thead th {\n",
       "        text-align: right;\n",
       "    }\n",
       "</style>\n",
       "<table border=\"1\" class=\"dataframe\">\n",
       "  <thead>\n",
       "    <tr style=\"text-align: right;\">\n",
       "      <th></th>\n",
       "      <th>price</th>\n",
       "      <th>feature1</th>\n",
       "      <th>feature2</th>\n",
       "    </tr>\n",
       "  </thead>\n",
       "  <tbody>\n",
       "    <tr>\n",
       "      <th>0</th>\n",
       "      <td>461.527929</td>\n",
       "      <td>999.787558</td>\n",
       "      <td>999.766096</td>\n",
       "    </tr>\n",
       "    <tr>\n",
       "      <th>1</th>\n",
       "      <td>548.130011</td>\n",
       "      <td>998.861615</td>\n",
       "      <td>1001.042403</td>\n",
       "    </tr>\n",
       "    <tr>\n",
       "      <th>2</th>\n",
       "      <td>410.297162</td>\n",
       "      <td>1000.070267</td>\n",
       "      <td>998.844015</td>\n",
       "    </tr>\n",
       "    <tr>\n",
       "      <th>3</th>\n",
       "      <td>540.382220</td>\n",
       "      <td>999.952251</td>\n",
       "      <td>1000.440940</td>\n",
       "    </tr>\n",
       "    <tr>\n",
       "      <th>4</th>\n",
       "      <td>546.024553</td>\n",
       "      <td>1000.446011</td>\n",
       "      <td>1000.338531</td>\n",
       "    </tr>\n",
       "  </tbody>\n",
       "</table>\n",
       "</div>"
      ],
      "text/plain": [
       "        price     feature1     feature2\n",
       "0  461.527929   999.787558   999.766096\n",
       "1  548.130011   998.861615  1001.042403\n",
       "2  410.297162  1000.070267   998.844015\n",
       "3  540.382220   999.952251  1000.440940\n",
       "4  546.024553  1000.446011  1000.338531"
      ]
     },
     "execution_count": 46,
     "metadata": {},
     "output_type": "execute_result"
    }
   ],
   "source": [
    "df.head()"
   ]
  },
  {
   "cell_type": "code",
   "execution_count": 47,
   "metadata": {},
   "outputs": [
    {
     "name": "stdout",
     "output_type": "stream",
     "text": [
      "[[ 999.78755752  999.7660962 ]\n",
      " [ 998.86161491 1001.04240315]\n",
      " [1000.07026691  998.84401463]\n",
      " ...\n",
      " [1001.45164617  998.84760554]\n",
      " [1000.77102275  998.56285086]\n",
      " [ 999.2322436  1001.45140713]]\n"
     ]
    }
   ],
   "source": [
    "X = df[['feature1','feature2']].values\n",
    "print(X)"
   ]
  },
  {
   "cell_type": "code",
   "execution_count": 48,
   "metadata": {},
   "outputs": [],
   "source": [
    "y = df['price'].values"
   ]
  },
  {
   "cell_type": "markdown",
   "metadata": {},
   "source": [
    "# 1. Test - Train Split"
   ]
  },
  {
   "cell_type": "code",
   "execution_count": 49,
   "metadata": {},
   "outputs": [],
   "source": [
    "X_train, X_test, y_train, y_test = train_test_split(X, y, test_size=0.33, random_state=42)"
   ]
  },
  {
   "cell_type": "code",
   "execution_count": 50,
   "metadata": {},
   "outputs": [
    {
     "data": {
      "text/plain": [
       "(670, 2)"
      ]
     },
     "execution_count": 50,
     "metadata": {},
     "output_type": "execute_result"
    }
   ],
   "source": [
    "X_train.shape"
   ]
  },
  {
   "cell_type": "code",
   "execution_count": 51,
   "metadata": {},
   "outputs": [
    {
     "data": {
      "text/plain": [
       "(330, 2)"
      ]
     },
     "execution_count": 51,
     "metadata": {},
     "output_type": "execute_result"
    }
   ],
   "source": [
    "X_test.shape"
   ]
  },
  {
   "cell_type": "markdown",
   "metadata": {},
   "source": [
    "# 2. Scaling Data\n",
    "\n",
    "#### Scale Features, Don't need to scale the label. "
   ]
  },
  {
   "cell_type": "code",
   "execution_count": 52,
   "metadata": {},
   "outputs": [],
   "source": [
    "scaler = MinMaxScaler()"
   ]
  },
  {
   "cell_type": "code",
   "execution_count": 53,
   "metadata": {},
   "outputs": [
    {
     "data": {
      "text/plain": [
       "MinMaxScaler()"
      ]
     },
     "execution_count": 53,
     "metadata": {},
     "output_type": "execute_result"
    }
   ],
   "source": [
    "# Calculate what's needed for the transformation (Train set only)\n",
    "scaler.fit(X_train)"
   ]
  },
  {
   "cell_type": "code",
   "execution_count": 54,
   "metadata": {},
   "outputs": [],
   "source": [
    "# Perform Transformation\n",
    "X_train = scaler.transform(X_train)"
   ]
  },
  {
   "cell_type": "code",
   "execution_count": 55,
   "metadata": {},
   "outputs": [],
   "source": [
    "X_test = scaler.transform(X_test)"
   ]
  },
  {
   "cell_type": "code",
   "execution_count": 56,
   "metadata": {},
   "outputs": [
    {
     "data": {
      "text/plain": [
       "1.0"
      ]
     },
     "execution_count": 56,
     "metadata": {},
     "output_type": "execute_result"
    }
   ],
   "source": [
    "X_train.max()  # Value is now between 0 - 1"
   ]
  },
  {
   "cell_type": "markdown",
   "metadata": {},
   "source": [
    "# 3. Building and Compile a Model"
   ]
  },
  {
   "cell_type": "markdown",
   "metadata": {},
   "source": [
    "model = Sequential([\n",
    "    Dense(4,activation='relu'),\n",
    "    Dense(2,activation='relu'),\n",
    "    Dense(1)\n",
    "])\n",
    "\n",
    "or using"
   ]
  },
  {
   "cell_type": "code",
   "execution_count": 57,
   "metadata": {},
   "outputs": [],
   "source": [
    "model = Sequential()\n",
    "\n",
    "model.add(Dense(4,activation='relu'))\n",
    "model.add(Dense(4,activation='relu'))\n",
    "model.add(Dense(4,activation='relu'))\n",
    "model.add(Dense(1))\n"
   ]
  },
  {
   "cell_type": "code",
   "execution_count": 58,
   "metadata": {},
   "outputs": [],
   "source": [
    "model.compile(\n",
    "    optimizer='rmsprop',\n",
    "    loss='mse'\n",
    ")"
   ]
  },
  {
   "cell_type": "code",
   "execution_count": 59,
   "metadata": {},
   "outputs": [
    {
     "name": "stdout",
     "output_type": "stream",
     "text": [
      "Train on 670 samples\n",
      "Epoch 1/250\n",
      "670/670 [==============================] - 0s 606us/sample - loss: 256590.4646\n",
      "Epoch 2/250\n",
      "670/670 [==============================] - 0s 30us/sample - loss: 256464.8577\n",
      "Epoch 3/250\n",
      "670/670 [==============================] - 0s 30us/sample - loss: 256331.1886\n",
      "Epoch 4/250\n",
      "670/670 [==============================] - 0s 30us/sample - loss: 256179.4133\n",
      "Epoch 5/250\n",
      "670/670 [==============================] - 0s 36us/sample - loss: 256004.3517\n",
      "Epoch 6/250\n",
      "670/670 [==============================] - 0s 42us/sample - loss: 255797.6671\n",
      "Epoch 7/250\n",
      "670/670 [==============================] - 0s 29us/sample - loss: 255561.0743\n",
      "Epoch 8/250\n",
      "670/670 [==============================] - 0s 34us/sample - loss: 255295.5174\n",
      "Epoch 9/250\n",
      "670/670 [==============================] - 0s 30us/sample - loss: 254999.6561\n",
      "Epoch 10/250\n",
      "670/670 [==============================] - 0s 33us/sample - loss: 254670.6944\n",
      "Epoch 11/250\n",
      "670/670 [==============================] - 0s 33us/sample - loss: 254308.2215\n",
      "Epoch 12/250\n",
      "670/670 [==============================] - 0s 34us/sample - loss: 253908.4838\n",
      "Epoch 13/250\n",
      "670/670 [==============================] - 0s 36us/sample - loss: 253466.4351\n",
      "Epoch 14/250\n",
      "670/670 [==============================] - 0s 34us/sample - loss: 252982.6632\n",
      "Epoch 15/250\n",
      "670/670 [==============================] - 0s 33us/sample - loss: 252456.2408\n",
      "Epoch 16/250\n",
      "670/670 [==============================] - 0s 31us/sample - loss: 251883.6456\n",
      "Epoch 17/250\n",
      "670/670 [==============================] - 0s 30us/sample - loss: 251259.3613\n",
      "Epoch 18/250\n",
      "670/670 [==============================] - 0s 33us/sample - loss: 250582.1105\n",
      "Epoch 19/250\n",
      "670/670 [==============================] - 0s 33us/sample - loss: 249851.1581\n",
      "Epoch 20/250\n",
      "670/670 [==============================] - 0s 28us/sample - loss: 249058.6759\n",
      "Epoch 21/250\n",
      "670/670 [==============================] - 0s 31us/sample - loss: 248209.2236\n",
      "Epoch 22/250\n",
      "670/670 [==============================] - 0s 31us/sample - loss: 247291.3274\n",
      "Epoch 23/250\n",
      "670/670 [==============================] - 0s 30us/sample - loss: 246313.9622\n",
      "Epoch 24/250\n",
      "670/670 [==============================] - 0s 31us/sample - loss: 245261.2141\n",
      "Epoch 25/250\n",
      "670/670 [==============================] - 0s 31us/sample - loss: 244138.7546\n",
      "Epoch 26/250\n",
      "670/670 [==============================] - 0s 36us/sample - loss: 242938.4859\n",
      "Epoch 27/250\n",
      "670/670 [==============================] - 0s 28us/sample - loss: 241665.9491\n",
      "Epoch 28/250\n",
      "670/670 [==============================] - 0s 28us/sample - loss: 240310.8810\n",
      "Epoch 29/250\n",
      "670/670 [==============================] - 0s 28us/sample - loss: 238872.1058\n",
      "Epoch 30/250\n",
      "670/670 [==============================] - 0s 28us/sample - loss: 237345.3828\n",
      "Epoch 31/250\n",
      "670/670 [==============================] - 0s 27us/sample - loss: 235733.0132\n",
      "Epoch 32/250\n",
      "670/670 [==============================] - 0s 28us/sample - loss: 234016.7898\n",
      "Epoch 33/250\n",
      "670/670 [==============================] - 0s 30us/sample - loss: 232209.7072\n",
      "Epoch 34/250\n",
      "670/670 [==============================] - 0s 28us/sample - loss: 230313.1730\n",
      "Epoch 35/250\n",
      "670/670 [==============================] - 0s 33us/sample - loss: 228313.1833\n",
      "Epoch 36/250\n",
      "670/670 [==============================] - 0s 25us/sample - loss: 226202.8563\n",
      "Epoch 37/250\n",
      "670/670 [==============================] - 0s 30us/sample - loss: 223990.6647\n",
      "Epoch 38/250\n",
      "670/670 [==============================] - 0s 31us/sample - loss: 221676.1605\n",
      "Epoch 39/250\n",
      "670/670 [==============================] - 0s 30us/sample - loss: 219248.2686\n",
      "Epoch 40/250\n",
      "670/670 [==============================] - 0s 25us/sample - loss: 216714.8694\n",
      "Epoch 41/250\n",
      "670/670 [==============================] - 0s 31us/sample - loss: 214061.8815\n",
      "Epoch 42/250\n",
      "670/670 [==============================] - 0s 34us/sample - loss: 211282.0360\n",
      "Epoch 43/250\n",
      "670/670 [==============================] - 0s 31us/sample - loss: 208387.7195\n",
      "Epoch 44/250\n",
      "670/670 [==============================] - 0s 26us/sample - loss: 205396.6496\n",
      "Epoch 45/250\n",
      "670/670 [==============================] - 0s 28us/sample - loss: 202273.9514\n",
      "Epoch 46/250\n",
      "670/670 [==============================] - 0s 33us/sample - loss: 199028.6774\n",
      "Epoch 47/250\n",
      "670/670 [==============================] - 0s 31us/sample - loss: 195651.6650\n",
      "Epoch 48/250\n",
      "670/670 [==============================] - 0s 28us/sample - loss: 192153.8875\n",
      "Epoch 49/250\n",
      "670/670 [==============================] - 0s 30us/sample - loss: 188550.5428\n",
      "Epoch 50/250\n",
      "670/670 [==============================] - 0s 29us/sample - loss: 184804.6656\n",
      "Epoch 51/250\n",
      "670/670 [==============================] - 0s 30us/sample - loss: 180959.4547\n",
      "Epoch 52/250\n",
      "670/670 [==============================] - 0s 28us/sample - loss: 177001.6962\n",
      "Epoch 53/250\n",
      "670/670 [==============================] - 0s 30us/sample - loss: 172912.4291\n",
      "Epoch 54/250\n",
      "670/670 [==============================] - 0s 30us/sample - loss: 168704.4109\n",
      "Epoch 55/250\n",
      "670/670 [==============================] - 0s 27us/sample - loss: 164364.3754\n",
      "Epoch 56/250\n",
      "670/670 [==============================] - 0s 27us/sample - loss: 159924.7332\n",
      "Epoch 57/250\n",
      "670/670 [==============================] - 0s 30us/sample - loss: 155357.3036\n",
      "Epoch 58/250\n",
      "670/670 [==============================] - 0s 28us/sample - loss: 150692.7154\n",
      "Epoch 59/250\n",
      "670/670 [==============================] - 0s 27us/sample - loss: 145936.2070\n",
      "Epoch 60/250\n",
      "670/670 [==============================] - 0s 27us/sample - loss: 141055.2561\n",
      "Epoch 61/250\n",
      "670/670 [==============================] - 0s 27us/sample - loss: 136099.8766\n",
      "Epoch 62/250\n",
      "670/670 [==============================] - 0s 27us/sample - loss: 131058.7556\n",
      "Epoch 63/250\n",
      "670/670 [==============================] - 0s 27us/sample - loss: 125920.5489\n",
      "Epoch 64/250\n",
      "670/670 [==============================] - 0s 27us/sample - loss: 120710.0915\n",
      "Epoch 65/250\n",
      "670/670 [==============================] - 0s 27us/sample - loss: 115454.1821\n",
      "Epoch 66/250\n",
      "670/670 [==============================] - 0s 28us/sample - loss: 110113.7772\n",
      "Epoch 67/250\n",
      "670/670 [==============================] - 0s 28us/sample - loss: 104746.2447\n",
      "Epoch 68/250\n",
      "670/670 [==============================] - 0s 28us/sample - loss: 99318.2178\n",
      "Epoch 69/250\n",
      "670/670 [==============================] - 0s 27us/sample - loss: 93930.6705\n",
      "Epoch 70/250\n",
      "670/670 [==============================] - 0s 30us/sample - loss: 88449.0441\n",
      "Epoch 71/250\n",
      "670/670 [==============================] - 0s 30us/sample - loss: 83005.8084\n",
      "Epoch 72/250\n",
      "670/670 [==============================] - 0s 28us/sample - loss: 77560.8366\n",
      "Epoch 73/250\n",
      "670/670 [==============================] - 0s 31us/sample - loss: 72138.1365\n",
      "Epoch 74/250\n",
      "670/670 [==============================] - 0s 25us/sample - loss: 66778.1943\n",
      "Epoch 75/250\n",
      "670/670 [==============================] - 0s 27us/sample - loss: 61437.9813\n",
      "Epoch 76/250\n",
      "670/670 [==============================] - 0s 27us/sample - loss: 56199.3586\n",
      "Epoch 77/250\n",
      "670/670 [==============================] - 0s 34us/sample - loss: 51103.1382\n",
      "Epoch 78/250\n",
      "670/670 [==============================] - 0s 33us/sample - loss: 46092.6924\n",
      "Epoch 79/250\n",
      "670/670 [==============================] - 0s 28us/sample - loss: 41264.1915\n",
      "Epoch 80/250\n",
      "670/670 [==============================] - 0s 27us/sample - loss: 36599.2668\n",
      "Epoch 81/250\n",
      "670/670 [==============================] - 0s 27us/sample - loss: 32061.3984\n",
      "Epoch 82/250\n",
      "670/670 [==============================] - 0s 28us/sample - loss: 27761.9027\n",
      "Epoch 83/250\n",
      "670/670 [==============================] - 0s 27us/sample - loss: 23778.6109\n",
      "Epoch 84/250\n",
      "670/670 [==============================] - 0s 28us/sample - loss: 20036.6374\n",
      "Epoch 85/250\n",
      "670/670 [==============================] - 0s 27us/sample - loss: 16557.8962\n",
      "Epoch 86/250\n",
      "670/670 [==============================] - 0s 30us/sample - loss: 13405.4763\n",
      "Epoch 87/250\n",
      "670/670 [==============================] - 0s 28us/sample - loss: 10649.4852\n",
      "Epoch 88/250\n",
      "670/670 [==============================] - 0s 27us/sample - loss: 8286.5141\n",
      "Epoch 89/250\n",
      "670/670 [==============================] - 0s 29us/sample - loss: 6322.5325\n",
      "Epoch 90/250\n",
      "670/670 [==============================] - 0s 28us/sample - loss: 4814.2858\n",
      "Epoch 91/250\n"
     ]
    },
    {
     "name": "stdout",
     "output_type": "stream",
     "text": [
      "670/670 [==============================] - 0s 25us/sample - loss: 3731.1044\n",
      "Epoch 92/250\n",
      "670/670 [==============================] - 0s 27us/sample - loss: 3106.1302\n",
      "Epoch 93/250\n",
      "670/670 [==============================] - 0s 27us/sample - loss: 2837.7109\n",
      "Epoch 94/250\n",
      "670/670 [==============================] - 0s 30us/sample - loss: 2758.4543\n",
      "Epoch 95/250\n",
      "670/670 [==============================] - 0s 27us/sample - loss: 2719.9677\n",
      "Epoch 96/250\n",
      "670/670 [==============================] - 0s 27us/sample - loss: 2687.1530\n",
      "Epoch 97/250\n",
      "670/670 [==============================] - 0s 30us/sample - loss: 2651.7294\n",
      "Epoch 98/250\n",
      "670/670 [==============================] - 0s 27us/sample - loss: 2611.7946\n",
      "Epoch 99/250\n",
      "670/670 [==============================] - 0s 27us/sample - loss: 2579.3335\n",
      "Epoch 100/250\n",
      "670/670 [==============================] - 0s 27us/sample - loss: 2550.4926\n",
      "Epoch 101/250\n",
      "670/670 [==============================] - 0s 30us/sample - loss: 2516.9372\n",
      "Epoch 102/250\n",
      "670/670 [==============================] - 0s 26us/sample - loss: 2484.1397\n",
      "Epoch 103/250\n",
      "670/670 [==============================] - 0s 28us/sample - loss: 2448.2588\n",
      "Epoch 104/250\n",
      "670/670 [==============================] - 0s 27us/sample - loss: 2416.3563\n",
      "Epoch 105/250\n",
      "670/670 [==============================] - 0s 30us/sample - loss: 2381.5003\n",
      "Epoch 106/250\n",
      "670/670 [==============================] - 0s 33us/sample - loss: 2351.3974\n",
      "Epoch 107/250\n",
      "670/670 [==============================] - 0s 31us/sample - loss: 2320.0061\n",
      "Epoch 108/250\n",
      "670/670 [==============================] - 0s 28us/sample - loss: 2291.6290\n",
      "Epoch 109/250\n",
      "670/670 [==============================] - 0s 28us/sample - loss: 2253.8907\n",
      "Epoch 110/250\n",
      "670/670 [==============================] - 0s 29us/sample - loss: 2219.4554\n",
      "Epoch 111/250\n",
      "670/670 [==============================] - 0s 30us/sample - loss: 2182.4676\n",
      "Epoch 112/250\n",
      "670/670 [==============================] - 0s 28us/sample - loss: 2146.7416\n",
      "Epoch 113/250\n",
      "670/670 [==============================] - 0s 30us/sample - loss: 2115.9738\n",
      "Epoch 114/250\n",
      "670/670 [==============================] - 0s 28us/sample - loss: 2082.0968\n",
      "Epoch 115/250\n",
      "670/670 [==============================] - 0s 28us/sample - loss: 2045.9502\n",
      "Epoch 116/250\n",
      "670/670 [==============================] - 0s 31us/sample - loss: 2011.2704\n",
      "Epoch 117/250\n",
      "670/670 [==============================] - 0s 30us/sample - loss: 1983.8125\n",
      "Epoch 118/250\n",
      "670/670 [==============================] - 0s 30us/sample - loss: 1951.1583\n",
      "Epoch 119/250\n",
      "670/670 [==============================] - 0s 29us/sample - loss: 1920.5830\n",
      "Epoch 120/250\n",
      "670/670 [==============================] - 0s 28us/sample - loss: 1889.9074\n",
      "Epoch 121/250\n",
      "670/670 [==============================] - 0s 30us/sample - loss: 1855.7668\n",
      "Epoch 122/250\n",
      "670/670 [==============================] - 0s 31us/sample - loss: 1825.9504\n",
      "Epoch 123/250\n",
      "670/670 [==============================] - 0s 31us/sample - loss: 1795.0195\n",
      "Epoch 124/250\n",
      "670/670 [==============================] - 0s 31us/sample - loss: 1766.1634\n",
      "Epoch 125/250\n",
      "670/670 [==============================] - 0s 30us/sample - loss: 1732.2610\n",
      "Epoch 126/250\n",
      "670/670 [==============================] - 0s 28us/sample - loss: 1695.3386\n",
      "Epoch 127/250\n",
      "670/670 [==============================] - 0s 31us/sample - loss: 1667.9266\n",
      "Epoch 128/250\n",
      "670/670 [==============================] - 0s 30us/sample - loss: 1635.8416\n",
      "Epoch 129/250\n",
      "670/670 [==============================] - 0s 28us/sample - loss: 1601.4324\n",
      "Epoch 130/250\n",
      "670/670 [==============================] - 0s 30us/sample - loss: 1572.3483\n",
      "Epoch 131/250\n",
      "670/670 [==============================] - 0s 30us/sample - loss: 1541.8916\n",
      "Epoch 132/250\n",
      "670/670 [==============================] - 0s 28us/sample - loss: 1512.9876\n",
      "Epoch 133/250\n",
      "670/670 [==============================] - 0s 30us/sample - loss: 1482.7474\n",
      "Epoch 134/250\n",
      "670/670 [==============================] - 0s 30us/sample - loss: 1454.6086\n",
      "Epoch 135/250\n",
      "670/670 [==============================] - 0s 28us/sample - loss: 1424.3681\n",
      "Epoch 136/250\n",
      "670/670 [==============================] - 0s 31us/sample - loss: 1397.7795\n",
      "Epoch 137/250\n",
      "670/670 [==============================] - 0s 34us/sample - loss: 1369.7566\n",
      "Epoch 138/250\n",
      "670/670 [==============================] - 0s 31us/sample - loss: 1339.8064\n",
      "Epoch 139/250\n",
      "670/670 [==============================] - 0s 30us/sample - loss: 1318.8699\n",
      "Epoch 140/250\n",
      "670/670 [==============================] - 0s 31us/sample - loss: 1292.4252\n",
      "Epoch 141/250\n",
      "670/670 [==============================] - 0s 30us/sample - loss: 1265.7851\n",
      "Epoch 142/250\n",
      "670/670 [==============================] - 0s 30us/sample - loss: 1233.6662\n",
      "Epoch 143/250\n",
      "670/670 [==============================] - 0s 30us/sample - loss: 1206.3964\n",
      "Epoch 144/250\n",
      "670/670 [==============================] - 0s 28us/sample - loss: 1176.5638\n",
      "Epoch 145/250\n",
      "670/670 [==============================] - 0s 28us/sample - loss: 1146.9036\n",
      "Epoch 146/250\n",
      "670/670 [==============================] - 0s 29us/sample - loss: 1118.0875\n",
      "Epoch 147/250\n",
      "670/670 [==============================] - 0s 28us/sample - loss: 1091.3458\n",
      "Epoch 148/250\n",
      "670/670 [==============================] - 0s 30us/sample - loss: 1065.2677\n",
      "Epoch 149/250\n",
      "670/670 [==============================] - 0s 30us/sample - loss: 1037.6143\n",
      "Epoch 150/250\n",
      "670/670 [==============================] - 0s 30us/sample - loss: 1013.9230\n",
      "Epoch 151/250\n",
      "670/670 [==============================] - 0s 30us/sample - loss: 983.4940\n",
      "Epoch 152/250\n",
      "670/670 [==============================] - 0s 33us/sample - loss: 960.7759\n",
      "Epoch 153/250\n",
      "670/670 [==============================] - 0s 27us/sample - loss: 935.7018\n",
      "Epoch 154/250\n",
      "670/670 [==============================] - 0s 28us/sample - loss: 914.5174\n",
      "Epoch 155/250\n",
      "670/670 [==============================] - 0s 28us/sample - loss: 890.9834\n",
      "Epoch 156/250\n",
      "670/670 [==============================] - 0s 32us/sample - loss: 870.2797\n",
      "Epoch 157/250\n",
      "670/670 [==============================] - 0s 30us/sample - loss: 845.5900\n",
      "Epoch 158/250\n",
      "670/670 [==============================] - 0s 28us/sample - loss: 823.4649\n",
      "Epoch 159/250\n",
      "670/670 [==============================] - 0s 30us/sample - loss: 801.5885\n",
      "Epoch 160/250\n",
      "670/670 [==============================] - 0s 30us/sample - loss: 775.4304\n",
      "Epoch 161/250\n",
      "670/670 [==============================] - 0s 30us/sample - loss: 751.1782\n",
      "Epoch 162/250\n",
      "670/670 [==============================] - 0s 27us/sample - loss: 723.0322\n",
      "Epoch 163/250\n",
      "670/670 [==============================] - 0s 27us/sample - loss: 703.9321\n",
      "Epoch 164/250\n",
      "670/670 [==============================] - 0s 30us/sample - loss: 681.4727\n",
      "Epoch 165/250\n",
      "670/670 [==============================] - 0s 30us/sample - loss: 658.0603\n",
      "Epoch 166/250\n",
      "670/670 [==============================] - 0s 31us/sample - loss: 635.1511\n",
      "Epoch 167/250\n",
      "670/670 [==============================] - 0s 33us/sample - loss: 613.6437\n",
      "Epoch 168/250\n",
      "670/670 [==============================] - 0s 30us/sample - loss: 591.6801\n",
      "Epoch 169/250\n",
      "670/670 [==============================] - 0s 30us/sample - loss: 573.5683\n",
      "Epoch 170/250\n",
      "670/670 [==============================] - 0s 31us/sample - loss: 550.5881\n",
      "Epoch 171/250\n",
      "670/670 [==============================] - 0s 29us/sample - loss: 527.5170\n",
      "Epoch 172/250\n",
      "670/670 [==============================] - 0s 28us/sample - loss: 507.1587\n",
      "Epoch 173/250\n",
      "670/670 [==============================] - 0s 28us/sample - loss: 490.2548\n",
      "Epoch 174/250\n",
      "670/670 [==============================] - 0s 32us/sample - loss: 471.5144\n",
      "Epoch 175/250\n",
      "670/670 [==============================] - 0s 30us/sample - loss: 450.9379\n",
      "Epoch 176/250\n",
      "670/670 [==============================] - 0s 28us/sample - loss: 437.0178\n",
      "Epoch 177/250\n",
      "670/670 [==============================] - 0s 30us/sample - loss: 420.2954\n",
      "Epoch 178/250\n",
      "670/670 [==============================] - 0s 27us/sample - loss: 401.5887\n",
      "Epoch 179/250\n",
      "670/670 [==============================] - 0s 31us/sample - loss: 383.3701\n",
      "Epoch 180/250\n",
      "670/670 [==============================] - 0s 28us/sample - loss: 366.4029\n",
      "Epoch 181/250\n",
      "670/670 [==============================] - 0s 28us/sample - loss: 349.6883\n",
      "Epoch 182/250\n"
     ]
    },
    {
     "name": "stdout",
     "output_type": "stream",
     "text": [
      "670/670 [==============================] - 0s 30us/sample - loss: 333.2748\n",
      "Epoch 183/250\n",
      "670/670 [==============================] - 0s 31us/sample - loss: 316.3919\n",
      "Epoch 184/250\n",
      "670/670 [==============================] - 0s 30us/sample - loss: 301.5593\n",
      "Epoch 185/250\n",
      "670/670 [==============================] - 0s 27us/sample - loss: 286.0341\n",
      "Epoch 186/250\n",
      "670/670 [==============================] - 0s 28us/sample - loss: 270.5986\n",
      "Epoch 187/250\n",
      "670/670 [==============================] - 0s 28us/sample - loss: 256.1523\n",
      "Epoch 188/250\n",
      "670/670 [==============================] - 0s 30us/sample - loss: 242.1710\n",
      "Epoch 189/250\n",
      "670/670 [==============================] - 0s 29us/sample - loss: 228.2600\n",
      "Epoch 190/250\n",
      "670/670 [==============================] - 0s 31us/sample - loss: 216.4259\n",
      "Epoch 191/250\n",
      "670/670 [==============================] - 0s 34us/sample - loss: 206.3287\n",
      "Epoch 192/250\n",
      "670/670 [==============================] - 0s 30us/sample - loss: 192.5225\n",
      "Epoch 193/250\n",
      "670/670 [==============================] - 0s 28us/sample - loss: 180.0749\n",
      "Epoch 194/250\n",
      "670/670 [==============================] - 0s 28us/sample - loss: 171.3350\n",
      "Epoch 195/250\n",
      "670/670 [==============================] - 0s 30us/sample - loss: 159.8938\n",
      "Epoch 196/250\n",
      "670/670 [==============================] - 0s 31us/sample - loss: 149.6224\n",
      "Epoch 197/250\n",
      "670/670 [==============================] - 0s 28us/sample - loss: 139.2848\n",
      "Epoch 198/250\n",
      "670/670 [==============================] - 0s 30us/sample - loss: 130.0333\n",
      "Epoch 199/250\n",
      "670/670 [==============================] - 0s 34us/sample - loss: 121.8138\n",
      "Epoch 200/250\n",
      "670/670 [==============================] - 0s 28us/sample - loss: 113.0480\n",
      "Epoch 201/250\n",
      "670/670 [==============================] - 0s 30us/sample - loss: 104.8724\n",
      "Epoch 202/250\n",
      "670/670 [==============================] - 0s 30us/sample - loss: 96.1559\n",
      "Epoch 203/250\n",
      "670/670 [==============================] - 0s 31us/sample - loss: 89.5917\n",
      "Epoch 204/250\n",
      "670/670 [==============================] - 0s 33us/sample - loss: 82.8894\n",
      "Epoch 205/250\n",
      "670/670 [==============================] - 0s 30us/sample - loss: 76.4091\n",
      "Epoch 206/250\n",
      "670/670 [==============================] - 0s 31us/sample - loss: 71.3479\n",
      "Epoch 207/250\n",
      "670/670 [==============================] - 0s 32us/sample - loss: 66.1990\n",
      "Epoch 208/250\n",
      "670/670 [==============================] - 0s 30us/sample - loss: 61.1348\n",
      "Epoch 209/250\n",
      "670/670 [==============================] - 0s 28us/sample - loss: 56.8971\n",
      "Epoch 210/250\n",
      "670/670 [==============================] - 0s 30us/sample - loss: 52.0905\n",
      "Epoch 211/250\n",
      "670/670 [==============================] - 0s 31us/sample - loss: 49.5540\n",
      "Epoch 212/250\n",
      "670/670 [==============================] - 0s 31us/sample - loss: 46.2159\n",
      "Epoch 213/250\n",
      "670/670 [==============================] - 0s 33us/sample - loss: 43.3375\n",
      "Epoch 214/250\n",
      "670/670 [==============================] - 0s 31us/sample - loss: 40.2910\n",
      "Epoch 215/250\n",
      "670/670 [==============================] - 0s 27us/sample - loss: 37.6414\n",
      "Epoch 216/250\n",
      "670/670 [==============================] - 0s 28us/sample - loss: 35.1488\n",
      "Epoch 217/250\n",
      "670/670 [==============================] - 0s 30us/sample - loss: 33.7539\n",
      "Epoch 218/250\n",
      "670/670 [==============================] - 0s 30us/sample - loss: 32.0769\n",
      "Epoch 219/250\n",
      "670/670 [==============================] - 0s 31us/sample - loss: 30.4942\n",
      "Epoch 220/250\n",
      "670/670 [==============================] - 0s 30us/sample - loss: 29.9212\n",
      "Epoch 221/250\n",
      "670/670 [==============================] - 0s 28us/sample - loss: 28.6355\n",
      "Epoch 222/250\n",
      "670/670 [==============================] - 0s 31us/sample - loss: 27.9681\n",
      "Epoch 223/250\n",
      "670/670 [==============================] - 0s 31us/sample - loss: 27.4696\n",
      "Epoch 224/250\n",
      "670/670 [==============================] - 0s 30us/sample - loss: 26.6599\n",
      "Epoch 225/250\n",
      "670/670 [==============================] - 0s 28us/sample - loss: 26.0920\n",
      "Epoch 226/250\n",
      "670/670 [==============================] - 0s 30us/sample - loss: 25.9194\n",
      "Epoch 227/250\n",
      "670/670 [==============================] - 0s 31us/sample - loss: 25.9933\n",
      "Epoch 228/250\n",
      "670/670 [==============================] - 0s 34us/sample - loss: 25.4709\n",
      "Epoch 229/250\n",
      "670/670 [==============================] - 0s 28us/sample - loss: 25.5157\n",
      "Epoch 230/250\n",
      "670/670 [==============================] - 0s 30us/sample - loss: 25.5068\n",
      "Epoch 231/250\n",
      "670/670 [==============================] - 0s 31us/sample - loss: 24.8891\n",
      "Epoch 232/250\n",
      "670/670 [==============================] - 0s 31us/sample - loss: 25.1019\n",
      "Epoch 233/250\n",
      "670/670 [==============================] - 0s 28us/sample - loss: 25.0055\n",
      "Epoch 234/250\n",
      "670/670 [==============================] - 0s 30us/sample - loss: 25.2071\n",
      "Epoch 235/250\n",
      "670/670 [==============================] - 0s 28us/sample - loss: 24.8037\n",
      "Epoch 236/250\n",
      "670/670 [==============================] - 0s 28us/sample - loss: 24.9466\n",
      "Epoch 237/250\n",
      "670/670 [==============================] - 0s 30us/sample - loss: 24.6635\n",
      "Epoch 238/250\n",
      "670/670 [==============================] - 0s 30us/sample - loss: 24.8699\n",
      "Epoch 239/250\n",
      "670/670 [==============================] - 0s 34us/sample - loss: 24.8393\n",
      "Epoch 240/250\n",
      "670/670 [==============================] - ETA: 0s - loss: 31.67 - 0s 28us/sample - loss: 24.5831\n",
      "Epoch 241/250\n",
      "670/670 [==============================] - 0s 28us/sample - loss: 24.6233\n",
      "Epoch 242/250\n",
      "670/670 [==============================] - 0s 29us/sample - loss: 24.7614\n",
      "Epoch 243/250\n",
      "670/670 [==============================] - 0s 28us/sample - loss: 24.7171\n",
      "Epoch 244/250\n",
      "670/670 [==============================] - 0s 33us/sample - loss: 24.3213\n",
      "Epoch 245/250\n",
      "670/670 [==============================] - 0s 27us/sample - loss: 24.2725\n",
      "Epoch 246/250\n",
      "670/670 [==============================] - 0s 28us/sample - loss: 24.5595\n",
      "Epoch 247/250\n",
      "670/670 [==============================] - 0s 27us/sample - loss: 24.5904\n",
      "Epoch 248/250\n",
      "670/670 [==============================] - 0s 28us/sample - loss: 24.5963\n",
      "Epoch 249/250\n",
      "670/670 [==============================] - 0s 31us/sample - loss: 24.6179\n",
      "Epoch 250/250\n",
      "670/670 [==============================] - 0s 30us/sample - loss: 24.7617\n"
     ]
    },
    {
     "data": {
      "text/plain": [
       "<tensorflow.python.keras.callbacks.History at 0x2511268fd08>"
      ]
     },
     "execution_count": 59,
     "metadata": {},
     "output_type": "execute_result"
    }
   ],
   "source": [
    "model.fit(x=X_train, y=y_train, epochs=250, verbose=1)"
   ]
  },
  {
   "cell_type": "code",
   "execution_count": 60,
   "metadata": {
    "scrolled": true
   },
   "outputs": [
    {
     "data": {
      "text/plain": [
       "<AxesSubplot:>"
      ]
     },
     "execution_count": 60,
     "metadata": {},
     "output_type": "execute_result"
    },
    {
     "data": {
      "image/png": "[encoded data removed]",
      "text/plain": [
       "<Figure size 432x288 with 1 Axes>"
      ]
     },
     "metadata": {
      "needs_background": "light"
     },
     "output_type": "display_data"
    }
   ],
   "source": [
    "# Looking at Training history\n",
    "\n",
    "loss_df = pd.DataFrame(model.history.history)\n",
    "loss_df.plot()"
   ]
  },
  {
   "cell_type": "markdown",
   "metadata": {},
   "source": [
    "# 4. Evaluate Model"
   ]
  },
  {
   "cell_type": "code",
   "execution_count": 61,
   "metadata": {},
   "outputs": [
    {
     "data": {
      "text/plain": [
       "24.306211309721977"
      ]
     },
     "execution_count": 61,
     "metadata": {},
     "output_type": "execute_result"
    }
   ],
   "source": [
    "model.evaluate(X_test,y_test,verbose=0)\n",
    "\n",
    "# Calculate the MSE"
   ]
  },
  {
   "cell_type": "code",
   "execution_count": 62,
   "metadata": {},
   "outputs": [],
   "source": [
    "test_predictions = model.predict(X_test)"
   ]
  },
  {
   "cell_type": "code",
   "execution_count": 63,
   "metadata": {},
   "outputs": [
    {
     "data": {
      "text/plain": [
       "array([[405.50378],\n",
       "       [623.6442 ],\n",
       "       [592.2411 ],\n",
       "       [572.38184],\n",
       "       [366.8984 ],\n",
       "       [579.3134 ],\n",
       "       [515.2587 ],\n",
       "       [459.2758 ],\n",
       "       [549.41156],\n",
       "       [447.69   ],\n",
       "       [611.8952 ],\n",
       "       [549.0399 ],\n",
       "       [419.31076],\n",
       "       [409.0934 ],\n",
       "       [651.28235],\n",
       "       [437.48383],\n",
       "       [508.5748 ],\n",
       "       [660.0595 ],\n",
       "       [662.6865 ],\n",
       "       [565.65216],\n",
       "       [334.50226],\n",
       "       [445.03125],\n",
       "       [382.77036],\n",
       "       [378.98038],\n",
       "       [566.732  ],\n",
       "       [610.72894],\n",
       "       [532.5485 ],\n",
       "       [428.05865],\n",
       "       [655.56177],\n",
       "       [414.27243],\n",
       "       [442.81317],\n",
       "       [485.302  ],\n",
       "       [438.60846],\n",
       "       [681.946  ],\n",
       "       [424.93082],\n",
       "       [417.9147 ],\n",
       "       [502.0417 ],\n",
       "       [550.61304],\n",
       "       [509.93277],\n",
       "       [395.6224 ],\n",
       "       [618.6881 ],\n",
       "       [416.8229 ],\n",
       "       [604.5552 ],\n",
       "       [446.11972],\n",
       "       [502.15598],\n",
       "       [581.7893 ],\n",
       "       [669.04456],\n",
       "       [490.55576],\n",
       "       [318.81488],\n",
       "       [485.60614],\n",
       "       [517.41504],\n",
       "       [381.99524],\n",
       "       [542.01904],\n",
       "       [408.80606],\n",
       "       [641.60376],\n",
       "       [491.25748],\n",
       "       [628.0856 ],\n",
       "       [627.06366],\n",
       "       [447.262  ],\n",
       "       [484.90283],\n",
       "       [491.3269 ],\n",
       "       [474.7079 ],\n",
       "       [682.8566 ],\n",
       "       [403.5213 ],\n",
       "       [701.20044],\n",
       "       [586.53754],\n",
       "       [583.24316],\n",
       "       [537.985  ],\n",
       "       [484.75433],\n",
       "       [516.7448 ],\n",
       "       [361.45642],\n",
       "       [540.904  ],\n",
       "       [570.77454],\n",
       "       [528.5625 ],\n",
       "       [453.90457],\n",
       "       [531.2812 ],\n",
       "       [507.345  ],\n",
       "       [443.5605 ],\n",
       "       [543.5244 ],\n",
       "       [640.81964],\n",
       "       [466.245  ],\n",
       "       [567.38275],\n",
       "       [690.80646],\n",
       "       [458.94183],\n",
       "       [709.00555],\n",
       "       [472.88474],\n",
       "       [403.45993],\n",
       "       [585.2347 ],\n",
       "       [436.91833],\n",
       "       [489.11984],\n",
       "       [617.139  ],\n",
       "       [439.65274],\n",
       "       [455.54843],\n",
       "       [435.47067],\n",
       "       [507.1094 ],\n",
       "       [608.57654],\n",
       "       [321.8918 ],\n",
       "       [436.46042],\n",
       "       [536.4825 ],\n",
       "       [518.8187 ],\n",
       "       [605.20294],\n",
       "       [525.6144 ],\n",
       "       [334.3599 ],\n",
       "       [576.2609 ],\n",
       "       [432.0431 ],\n",
       "       [562.64014],\n",
       "       [513.56384],\n",
       "       [391.32593],\n",
       "       [566.43915],\n",
       "       [454.9441 ],\n",
       "       [448.69812],\n",
       "       [641.0573 ],\n",
       "       [524.50714],\n",
       "       [550.8086 ],\n",
       "       [417.908  ],\n",
       "       [478.9326 ],\n",
       "       [586.6505 ],\n",
       "       [667.48584],\n",
       "       [700.5535 ],\n",
       "       [659.5365 ],\n",
       "       [560.7074 ],\n",
       "       [503.32056],\n",
       "       [390.61548],\n",
       "       [281.63632],\n",
       "       [479.7842 ],\n",
       "       [616.45087],\n",
       "       [373.51236],\n",
       "       [512.42487],\n",
       "       [511.234  ],\n",
       "       [493.6813 ],\n",
       "       [480.63885],\n",
       "       [424.03568],\n",
       "       [493.644  ],\n",
       "       [471.65308],\n",
       "       [600.5321 ],\n",
       "       [573.667  ],\n",
       "       [415.2255 ],\n",
       "       [630.74634],\n",
       "       [466.54306],\n",
       "       [564.45654],\n",
       "       [405.90936],\n",
       "       [532.3369 ],\n",
       "       [572.7775 ],\n",
       "       [357.33942],\n",
       "       [549.9986 ],\n",
       "       [603.48096],\n",
       "       [384.5436 ],\n",
       "       [542.5697 ],\n",
       "       [562.73444],\n",
       "       [453.05545],\n",
       "       [632.30884],\n",
       "       [372.52853],\n",
       "       [474.4637 ],\n",
       "       [529.0613 ],\n",
       "       [372.5204 ],\n",
       "       [461.45648],\n",
       "       [436.54367],\n",
       "       [498.6741 ],\n",
       "       [346.3313 ],\n",
       "       [395.49484],\n",
       "       [604.6906 ],\n",
       "       [506.81265],\n",
       "       [468.81097],\n",
       "       [490.52438],\n",
       "       [535.3978 ],\n",
       "       [344.75888],\n",
       "       [512.42883],\n",
       "       [251.08377],\n",
       "       [504.25818],\n",
       "       [541.3004 ],\n",
       "       [489.55777],\n",
       "       [471.22293],\n",
       "       [392.77005],\n",
       "       [416.42294],\n",
       "       [549.7401 ],\n",
       "       [476.00986],\n",
       "       [580.1098 ],\n",
       "       [489.9842 ],\n",
       "       [601.1553 ],\n",
       "       [547.12537],\n",
       "       [542.10034],\n",
       "       [500.75214],\n",
       "       [645.95166],\n",
       "       [560.571  ],\n",
       "       [578.0245 ],\n",
       "       [444.29117],\n",
       "       [415.70377],\n",
       "       [420.2827 ],\n",
       "       [569.23846],\n",
       "       [609.1492 ],\n",
       "       [437.9392 ],\n",
       "       [488.13904],\n",
       "       [587.91705],\n",
       "       [525.56885],\n",
       "       [357.6186 ],\n",
       "       [645.53925],\n",
       "       [528.21704],\n",
       "       [337.46588],\n",
       "       [492.87384],\n",
       "       [410.34134],\n",
       "       [606.7158 ],\n",
       "       [346.75058],\n",
       "       [522.55066],\n",
       "       [404.89435],\n",
       "       [258.7613 ],\n",
       "       [520.0409 ],\n",
       "       [341.09583],\n",
       "       [362.3266 ],\n",
       "       [576.521  ],\n",
       "       [416.8565 ],\n",
       "       [551.15533],\n",
       "       [521.26514],\n",
       "       [511.00122],\n",
       "       [324.99973],\n",
       "       [404.41537],\n",
       "       [602.5533 ],\n",
       "       [618.00085],\n",
       "       [603.45264],\n",
       "       [566.39496],\n",
       "       [473.64374],\n",
       "       [460.5583 ],\n",
       "       [508.6097 ],\n",
       "       [446.08066],\n",
       "       [511.44495],\n",
       "       [502.59808],\n",
       "       [400.34436],\n",
       "       [605.6556 ],\n",
       "       [258.43668],\n",
       "       [628.35144],\n",
       "       [589.2064 ],\n",
       "       [327.38007],\n",
       "       [479.76248],\n",
       "       [595.4643 ],\n",
       "       [378.62177],\n",
       "       [460.35254],\n",
       "       [325.23914],\n",
       "       [518.829  ],\n",
       "       [409.7962 ],\n",
       "       [556.3829 ],\n",
       "       [641.9826 ],\n",
       "       [536.9879 ],\n",
       "       [503.33197],\n",
       "       [635.119  ],\n",
       "       [515.39124],\n",
       "       [531.86816],\n",
       "       [519.0161 ],\n",
       "       [457.62585],\n",
       "       [505.97   ],\n",
       "       [461.28632],\n",
       "       [591.785  ],\n",
       "       [466.1145 ],\n",
       "       [427.4159 ],\n",
       "       [541.7758 ],\n",
       "       [493.987  ],\n",
       "       [679.8226 ],\n",
       "       [373.0068 ],\n",
       "       [551.75824],\n",
       "       [578.09955],\n",
       "       [434.19794],\n",
       "       [543.1939 ],\n",
       "       [586.095  ],\n",
       "       [579.3513 ],\n",
       "       [721.0132 ],\n",
       "       [432.99338],\n",
       "       [398.80057],\n",
       "       [314.25522],\n",
       "       [448.49832],\n",
       "       [388.27023],\n",
       "       [543.37933],\n",
       "       [522.908  ],\n",
       "       [564.58344],\n",
       "       [448.21103],\n",
       "       [534.55316],\n",
       "       [382.0122 ],\n",
       "       [501.68155],\n",
       "       [637.2368 ],\n",
       "       [496.68326],\n",
       "       [568.55054],\n",
       "       [470.31857],\n",
       "       [273.53885],\n",
       "       [517.55066],\n",
       "       [621.52625],\n",
       "       [350.75992],\n",
       "       [450.68103],\n",
       "       [499.48358],\n",
       "       [543.1297 ],\n",
       "       [611.9248 ],\n",
       "       [388.44684],\n",
       "       [449.64105],\n",
       "       [482.58286],\n",
       "       [598.455  ],\n",
       "       [499.59354],\n",
       "       [321.71573],\n",
       "       [555.2948 ],\n",
       "       [444.8279 ],\n",
       "       [529.2186 ],\n",
       "       [515.56934],\n",
       "       [609.75775],\n",
       "       [417.1405 ],\n",
       "       [411.10556],\n",
       "       [459.78363],\n",
       "       [350.29657],\n",
       "       [511.9472 ],\n",
       "       [709.1105 ],\n",
       "       [441.40808],\n",
       "       [510.36374],\n",
       "       [566.7933 ],\n",
       "       [463.7625 ],\n",
       "       [519.7646 ],\n",
       "       [564.326  ],\n",
       "       [611.2204 ],\n",
       "       [570.1347 ],\n",
       "       [483.64764],\n",
       "       [501.44772],\n",
       "       [363.65228],\n",
       "       [586.22906],\n",
       "       [450.23434],\n",
       "       [400.60245],\n",
       "       [639.328  ],\n",
       "       [483.56805],\n",
       "       [590.0793 ],\n",
       "       [648.64874],\n",
       "       [412.59293],\n",
       "       [340.82886],\n",
       "       [423.63187],\n",
       "       [535.22003],\n",
       "       [433.53726],\n",
       "       [370.95966],\n",
       "       [499.20752],\n",
       "       [497.32513]], dtype=float32)"
      ]
     },
     "execution_count": 63,
     "metadata": {},
     "output_type": "execute_result"
    }
   ],
   "source": [
    "test_predictions"
   ]
  },
  {
   "cell_type": "code",
   "execution_count": 64,
   "metadata": {},
   "outputs": [
    {
     "data": {
      "text/plain": [
       "0      405.503784\n",
       "1      623.644226\n",
       "2      592.241089\n",
       "3      572.381836\n",
       "4      366.898407\n",
       "          ...    \n",
       "325    535.220032\n",
       "326    433.537262\n",
       "327    370.959656\n",
       "328    499.207520\n",
       "329    497.325134\n",
       "Length: 330, dtype: float32"
      ]
     },
     "execution_count": 64,
     "metadata": {},
     "output_type": "execute_result"
    }
   ],
   "source": [
    "# Numpy array -> Pandas Series\n",
    "test_predictions = pd.Series(test_predictions.reshape(330,))\n",
    "test_predictions"
   ]
  },
  {
   "cell_type": "code",
   "execution_count": 65,
   "metadata": {},
   "outputs": [],
   "source": [
    "pred_df = pd.DataFrame(y_test,columns=['Test True Y'])"
   ]
  },
  {
   "cell_type": "code",
   "execution_count": 66,
   "metadata": {},
   "outputs": [],
   "source": [
    "pred_df = pd.concat([pred_df,test_predictions], axis=1)"
   ]
  },
  {
   "cell_type": "code",
   "execution_count": 67,
   "metadata": {},
   "outputs": [
    {
     "data": {
      "text/html": [
       "<div>\n",
       "<style scoped>\n",
       "    .dataframe tbody tr th:only-of-type {\n",
       "        vertical-align: middle;\n",
       "    }\n",
       "\n",
       "    .dataframe tbody tr th {\n",
       "        vertical-align: top;\n",
       "    }\n",
       "\n",
       "    .dataframe thead th {\n",
       "        text-align: right;\n",
       "    }\n",
       "</style>\n",
       "<table border=\"1\" class=\"dataframe\">\n",
       "  <thead>\n",
       "    <tr style=\"text-align: right;\">\n",
       "      <th></th>\n",
       "      <th>Test True Y</th>\n",
       "      <th>Model Predictions</th>\n",
       "    </tr>\n",
       "  </thead>\n",
       "  <tbody>\n",
       "    <tr>\n",
       "      <th>0</th>\n",
       "      <td>402.296319</td>\n",
       "      <td>405.503784</td>\n",
       "    </tr>\n",
       "    <tr>\n",
       "      <th>1</th>\n",
       "      <td>624.156198</td>\n",
       "      <td>623.644226</td>\n",
       "    </tr>\n",
       "    <tr>\n",
       "      <th>2</th>\n",
       "      <td>582.455066</td>\n",
       "      <td>592.241089</td>\n",
       "    </tr>\n",
       "    <tr>\n",
       "      <th>3</th>\n",
       "      <td>578.588606</td>\n",
       "      <td>572.381836</td>\n",
       "    </tr>\n",
       "    <tr>\n",
       "      <th>4</th>\n",
       "      <td>371.224104</td>\n",
       "      <td>366.898407</td>\n",
       "    </tr>\n",
       "    <tr>\n",
       "      <th>...</th>\n",
       "      <td>...</td>\n",
       "      <td>...</td>\n",
       "    </tr>\n",
       "    <tr>\n",
       "      <th>325</th>\n",
       "      <td>535.543676</td>\n",
       "      <td>535.220032</td>\n",
       "    </tr>\n",
       "    <tr>\n",
       "      <th>326</th>\n",
       "      <td>425.843651</td>\n",
       "      <td>433.537262</td>\n",
       "    </tr>\n",
       "    <tr>\n",
       "      <th>327</th>\n",
       "      <td>368.920095</td>\n",
       "      <td>370.959656</td>\n",
       "    </tr>\n",
       "    <tr>\n",
       "      <th>328</th>\n",
       "      <td>505.631884</td>\n",
       "      <td>499.207520</td>\n",
       "    </tr>\n",
       "    <tr>\n",
       "      <th>329</th>\n",
       "      <td>489.794598</td>\n",
       "      <td>497.325134</td>\n",
       "    </tr>\n",
       "  </tbody>\n",
       "</table>\n",
       "<p>330 rows × 2 columns</p>\n",
       "</div>"
      ],
      "text/plain": [
       "     Test True Y  Model Predictions\n",
       "0     402.296319         405.503784\n",
       "1     624.156198         623.644226\n",
       "2     582.455066         592.241089\n",
       "3     578.588606         572.381836\n",
       "4     371.224104         366.898407\n",
       "..           ...                ...\n",
       "325   535.543676         535.220032\n",
       "326   425.843651         433.537262\n",
       "327   368.920095         370.959656\n",
       "328   505.631884         499.207520\n",
       "329   489.794598         497.325134\n",
       "\n",
       "[330 rows x 2 columns]"
      ]
     },
     "execution_count": 67,
     "metadata": {},
     "output_type": "execute_result"
    }
   ],
   "source": [
    "pred_df.columns = ['Test True Y','Model Predictions']\n",
    "pred_df"
   ]
  },
  {
   "cell_type": "code",
   "execution_count": 68,
   "metadata": {},
   "outputs": [
    {
     "data": {
      "text/plain": [
       "<AxesSubplot:xlabel='Test True Y', ylabel='Model Predictions'>"
      ]
     },
     "execution_count": 68,
     "metadata": {},
     "output_type": "execute_result"
    },
    {
     "data": {
      "image/png": "[encoded data removed]",
      "text/plain": [
       "<Figure size 432x288 with 1 Axes>"
      ]
     },
     "metadata": {
      "needs_background": "light"
     },
     "output_type": "display_data"
    }
   ],
   "source": [
    "sns.scatterplot(x='Test True Y', y='Model Predictions', data=pred_df)"
   ]
  },
  {
   "cell_type": "code",
   "execution_count": 69,
   "metadata": {},
   "outputs": [
    {
     "data": {
      "text/plain": [
       "3.9519285701901143"
      ]
     },
     "execution_count": 69,
     "metadata": {},
     "output_type": "execute_result"
    }
   ],
   "source": [
    "mean_absolute_error(pred_df['Test True Y'], pred_df['Model Predictions'])"
   ]
  },
  {
   "cell_type": "code",
   "execution_count": 70,
   "metadata": {},
   "outputs": [
    {
     "data": {
      "text/html": [
       "<div>\n",
       "<style scoped>\n",
       "    .dataframe tbody tr th:only-of-type {\n",
       "        vertical-align: middle;\n",
       "    }\n",
       "\n",
       "    .dataframe tbody tr th {\n",
       "        vertical-align: top;\n",
       "    }\n",
       "\n",
       "    .dataframe thead th {\n",
       "        text-align: right;\n",
       "    }\n",
       "</style>\n",
       "<table border=\"1\" class=\"dataframe\">\n",
       "  <thead>\n",
       "    <tr style=\"text-align: right;\">\n",
       "      <th></th>\n",
       "      <th>price</th>\n",
       "      <th>feature1</th>\n",
       "      <th>feature2</th>\n",
       "    </tr>\n",
       "  </thead>\n",
       "  <tbody>\n",
       "    <tr>\n",
       "      <th>count</th>\n",
       "      <td>1000.000000</td>\n",
       "      <td>1000.000000</td>\n",
       "      <td>1000.000000</td>\n",
       "    </tr>\n",
       "    <tr>\n",
       "      <th>mean</th>\n",
       "      <td>498.673029</td>\n",
       "      <td>1000.014171</td>\n",
       "      <td>999.979847</td>\n",
       "    </tr>\n",
       "    <tr>\n",
       "      <th>std</th>\n",
       "      <td>93.785431</td>\n",
       "      <td>0.974018</td>\n",
       "      <td>0.948330</td>\n",
       "    </tr>\n",
       "    <tr>\n",
       "      <th>min</th>\n",
       "      <td>223.346793</td>\n",
       "      <td>997.058347</td>\n",
       "      <td>996.995651</td>\n",
       "    </tr>\n",
       "    <tr>\n",
       "      <th>25%</th>\n",
       "      <td>433.025732</td>\n",
       "      <td>999.332068</td>\n",
       "      <td>999.316106</td>\n",
       "    </tr>\n",
       "    <tr>\n",
       "      <th>50%</th>\n",
       "      <td>502.382117</td>\n",
       "      <td>1000.009915</td>\n",
       "      <td>1000.002243</td>\n",
       "    </tr>\n",
       "    <tr>\n",
       "      <th>75%</th>\n",
       "      <td>564.921588</td>\n",
       "      <td>1000.637580</td>\n",
       "      <td>1000.645380</td>\n",
       "    </tr>\n",
       "    <tr>\n",
       "      <th>max</th>\n",
       "      <td>774.407854</td>\n",
       "      <td>1003.207934</td>\n",
       "      <td>1002.666308</td>\n",
       "    </tr>\n",
       "  </tbody>\n",
       "</table>\n",
       "</div>"
      ],
      "text/plain": [
       "             price     feature1     feature2\n",
       "count  1000.000000  1000.000000  1000.000000\n",
       "mean    498.673029  1000.014171   999.979847\n",
       "std      93.785431     0.974018     0.948330\n",
       "min     223.346793   997.058347   996.995651\n",
       "25%     433.025732   999.332068   999.316106\n",
       "50%     502.382117  1000.009915  1000.002243\n",
       "75%     564.921588  1000.637580  1000.645380\n",
       "max     774.407854  1003.207934  1002.666308"
      ]
     },
     "execution_count": 70,
     "metadata": {},
     "output_type": "execute_result"
    }
   ],
   "source": [
    "df.describe()\n",
    "\n",
    "# See that our MAE is around 4, mean price = 400 which means that\n",
    "# Error of price prediction is just about 1% (4/400) -> Pretty Good"
   ]
  },
  {
   "cell_type": "markdown",
   "metadata": {},
   "source": [
    "# 5. Predict on new set of data "
   ]
  },
  {
   "cell_type": "code",
   "execution_count": 71,
   "metadata": {},
   "outputs": [],
   "source": [
    "new_gem = [[998,1000]]"
   ]
  },
  {
   "cell_type": "code",
   "execution_count": 72,
   "metadata": {},
   "outputs": [],
   "source": [
    "new_gem = scaler.transform(new_gem)"
   ]
  },
  {
   "cell_type": "code",
   "execution_count": 73,
   "metadata": {},
   "outputs": [
    {
     "data": {
      "text/plain": [
       "array([[419.93842]], dtype=float32)"
      ]
     },
     "execution_count": 73,
     "metadata": {},
     "output_type": "execute_result"
    }
   ],
   "source": [
    "model.predict(new_gem)"
   ]
  },
  {
   "cell_type": "code",
   "execution_count": null,
   "metadata": {},
   "outputs": [],
   "source": []
  },
  {
   "cell_type": "markdown",
   "metadata": {},
   "source": [
    "# 6. Save - Load a model"
   ]
  },
  {
   "cell_type": "code",
   "execution_count": 74,
   "metadata": {},
   "outputs": [],
   "source": [
    "from tensorflow.keras.models import load_model"
   ]
  },
  {
   "cell_type": "code",
   "execution_count": 75,
   "metadata": {},
   "outputs": [],
   "source": [
    "model.save('C:/Users/Naravith/Desktop/my_gem_model.h5')"
   ]
  },
  {
   "cell_type": "code",
   "execution_count": 76,
   "metadata": {},
   "outputs": [
    {
     "name": "stdout",
     "output_type": "stream",
     "text": [
      "WARNING:tensorflow:Sequential models without an `input_shape` passed to the first layer cannot reload their optimizer state. As a result, your model isstarting with a freshly initialized optimizer.\n"
     ]
    }
   ],
   "source": [
    "later_model = load_model('C:/Users/Naravith/Desktop/my_gem_model.h5')"
   ]
  },
  {
   "cell_type": "code",
   "execution_count": 77,
   "metadata": {},
   "outputs": [
    {
     "data": {
      "text/plain": [
       "array([[419.93842]], dtype=float32)"
      ]
     },
     "execution_count": 77,
     "metadata": {},
     "output_type": "execute_result"
    }
   ],
   "source": [
    "later_model.predict(new_gem)"
   ]
  },
  {
   "cell_type": "code",
   "execution_count": null,
   "metadata": {},
   "outputs": [],
   "source": []
  },
  {
   "cell_type": "markdown",
   "metadata": {},
   "source": [
    "# -- The second section is from Keras website --\n",
    "\n",
    "##### https://keras.io/guides/sequential_model/#what-to-do-once-you-have-a-model "
   ]
  },
  {
   "cell_type": "code",
   "execution_count": 1,
   "metadata": {},
   "outputs": [],
   "source": [
    "import numpy as np\n",
    "import tensorflow as tf\n",
    "from tensorflow import keras\n",
    "from tensorflow.keras import layers"
   ]
  },
  {
   "cell_type": "markdown",
   "metadata": {},
   "source": [
    "### The Functional API \n",
    "###### Functional API is a way to create models that are more flexible than the tf.keras.Sequential API\n",
    "\n",
    "###### \"Keras also provides the functional API, a way to define complex models, such as multi-output models, directed acyclic graphs, or models with shared layers.\""
   ]
  },
  {
   "cell_type": "code",
   "execution_count": 2,
   "metadata": {},
   "outputs": [],
   "source": [
    "inputs = keras.Input(shape=(784,)) \n",
    "# The shape of the data is set as a 784-dimensional vector. \n",
    "# The batch size is always omitted since only the shape of each sample is specified"
   ]
  },
  {
   "cell_type": "code",
   "execution_count": 3,
   "metadata": {},
   "outputs": [
    {
     "data": {
      "text/plain": [
       "TensorShape([None, 784])"
      ]
     },
     "execution_count": 3,
     "metadata": {},
     "output_type": "execute_result"
    }
   ],
   "source": [
    "inputs.shape"
   ]
  },
  {
   "cell_type": "code",
   "execution_count": 4,
   "metadata": {},
   "outputs": [],
   "source": [
    "dense = layers.Dense(64,activation=\"relu\")\n",
    "x = dense(inputs)"
   ]
  },
  {
   "cell_type": "code",
   "execution_count": 6,
   "metadata": {},
   "outputs": [],
   "source": [
    "x = layers.Dense(64, activation=\"relu\")(x)\n",
    "x = layers.Dense(32, activation=\"relu\")(x)\n",
    "\n",
    "# Output Layer\n",
    "outputs = layers.Dense(10)(x)"
   ]
  },
  {
   "cell_type": "code",
   "execution_count": 7,
   "metadata": {},
   "outputs": [],
   "source": [
    "model = keras.Model(inputs=inputs, outputs=outputs, name=\"mnist_model\")"
   ]
  },
  {
   "cell_type": "code",
   "execution_count": 9,
   "metadata": {},
   "outputs": [
    {
     "name": "stdout",
     "output_type": "stream",
     "text": [
      "Model: \"mnist_model\"\n",
      "_________________________________________________________________\n",
      "Layer (type)                 Output Shape              Param #   \n",
      "=================================================================\n",
      "input_1 (InputLayer)         [(None, 784)]             0         \n",
      "_________________________________________________________________\n",
      "dense (Dense)                (None, 64)                50240     \n",
      "_________________________________________________________________\n",
      "dense_1 (Dense)              (None, 64)                4160      \n",
      "_________________________________________________________________\n",
      "dense_2 (Dense)              (None, 64)                4160      \n",
      "_________________________________________________________________\n",
      "dense_3 (Dense)              (None, 32)                2080      \n",
      "_________________________________________________________________\n",
      "dense_4 (Dense)              (None, 10)                330       \n",
      "=================================================================\n",
      "Total params: 60,970\n",
      "Trainable params: 60,970\n",
      "Non-trainable params: 0\n",
      "_________________________________________________________________\n"
     ]
    }
   ],
   "source": [
    "model.summary()"
   ]
  },
  {
   "cell_type": "code",
   "execution_count": null,
   "metadata": {},
   "outputs": [],
   "source": []
  },
  {
   "cell_type": "code",
   "execution_count": null,
   "metadata": {},
   "outputs": [],
   "source": []
  }
 ],
 "metadata": {
  "kernelspec": {
   "display_name": "Python 3",
   "language": "python",
   "name": "python3"
  },
  "language_info": {
   "codemirror_mode": {
    "name": "ipython",
    "version": 3
   },
   "file_extension": ".py",
   "mimetype": "text/x-python",
   "name": "python",
   "nbconvert_exporter": "python",
   "pygments_lexer": "ipython3",
   "version": "3.7.9"
  }
 },
 "nbformat": 4,
 "nbformat_minor": 2
}
