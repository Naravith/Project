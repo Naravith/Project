{
 "cells": [
  {
   "cell_type": "markdown",
   "metadata": {},
   "source": [
    "# -- The First Section is learned from Udemy course -- "
   ]
  },
  {
   "cell_type": "code",
   "execution_count": 25,
   "metadata": {},
   "outputs": [],
   "source": [
    "import pandas as pd\n",
    "import numpy as np\n",
    "import seaborn as sns\n",
    "\n",
    "from sklearn.model_selection import train_test_split\n",
    "from sklearn.preprocessing import MinMaxScaler\n",
    "from sklearn.metrics import mean_absolute_error, mean_squared_error\n",
    "\n",
    "from tensorflow.keras.models import Sequential\n",
    "from tensorflow.keras.layers import Dense, Activation"
   ]
  },
  {
   "cell_type": "code",
   "execution_count": 2,
   "metadata": {},
   "outputs": [],
   "source": [
    "df = pd.read_csv('C:/Users/Naravith/Desktop/ปี4/Project - github/TensorFlow_FILES/DATA/fake_reg.csv')"
   ]
  },
  {
   "cell_type": "code",
   "execution_count": 3,
   "metadata": {},
   "outputs": [
    {
     "data": {
      "text/html": [
       "<div>\n",
       "<style scoped>\n",
       "    .dataframe tbody tr th:only-of-type {\n",
       "        vertical-align: middle;\n",
       "    }\n",
       "\n",
       "    .dataframe tbody tr th {\n",
       "        vertical-align: top;\n",
       "    }\n",
       "\n",
       "    .dataframe thead th {\n",
       "        text-align: right;\n",
       "    }\n",
       "</style>\n",
       "<table border=\"1\" class=\"dataframe\">\n",
       "  <thead>\n",
       "    <tr style=\"text-align: right;\">\n",
       "      <th></th>\n",
       "      <th>price</th>\n",
       "      <th>feature1</th>\n",
       "      <th>feature2</th>\n",
       "    </tr>\n",
       "  </thead>\n",
       "  <tbody>\n",
       "    <tr>\n",
       "      <td>0</td>\n",
       "      <td>461.527929</td>\n",
       "      <td>999.787558</td>\n",
       "      <td>999.766096</td>\n",
       "    </tr>\n",
       "    <tr>\n",
       "      <td>1</td>\n",
       "      <td>548.130011</td>\n",
       "      <td>998.861615</td>\n",
       "      <td>1001.042403</td>\n",
       "    </tr>\n",
       "    <tr>\n",
       "      <td>2</td>\n",
       "      <td>410.297162</td>\n",
       "      <td>1000.070267</td>\n",
       "      <td>998.844015</td>\n",
       "    </tr>\n",
       "    <tr>\n",
       "      <td>3</td>\n",
       "      <td>540.382220</td>\n",
       "      <td>999.952251</td>\n",
       "      <td>1000.440940</td>\n",
       "    </tr>\n",
       "    <tr>\n",
       "      <td>4</td>\n",
       "      <td>546.024553</td>\n",
       "      <td>1000.446011</td>\n",
       "      <td>1000.338531</td>\n",
       "    </tr>\n",
       "  </tbody>\n",
       "</table>\n",
       "</div>"
      ],
      "text/plain": [
       "        price     feature1     feature2\n",
       "0  461.527929   999.787558   999.766096\n",
       "1  548.130011   998.861615  1001.042403\n",
       "2  410.297162  1000.070267   998.844015\n",
       "3  540.382220   999.952251  1000.440940\n",
       "4  546.024553  1000.446011  1000.338531"
      ]
     },
     "execution_count": 3,
     "metadata": {},
     "output_type": "execute_result"
    }
   ],
   "source": [
    "df.head()"
   ]
  },
  {
   "cell_type": "code",
   "execution_count": 4,
   "metadata": {},
   "outputs": [
    {
     "name": "stdout",
     "output_type": "stream",
     "text": [
      "[[ 999.78755752  999.7660962 ]\n",
      " [ 998.86161491 1001.04240315]\n",
      " [1000.07026691  998.84401463]\n",
      " ...\n",
      " [1001.45164617  998.84760554]\n",
      " [1000.77102275  998.56285086]\n",
      " [ 999.2322436  1001.45140713]]\n"
     ]
    }
   ],
   "source": [
    "X = df[['feature1','feature2']].values\n",
    "print(X)"
   ]
  },
  {
   "cell_type": "code",
   "execution_count": 5,
   "metadata": {},
   "outputs": [],
   "source": [
    "y = df['price'].values"
   ]
  },
  {
   "cell_type": "markdown",
   "metadata": {},
   "source": [
    "# 1. Test - Train Split"
   ]
  },
  {
   "cell_type": "code",
   "execution_count": 6,
   "metadata": {},
   "outputs": [],
   "source": [
    "X_train, X_test, y_train, y_test = train_test_split(X, y, test_size=0.33, random_state=42)"
   ]
  },
  {
   "cell_type": "code",
   "execution_count": 7,
   "metadata": {},
   "outputs": [
    {
     "data": {
      "text/plain": [
       "(670, 2)"
      ]
     },
     "execution_count": 7,
     "metadata": {},
     "output_type": "execute_result"
    }
   ],
   "source": [
    "X_train.shape"
   ]
  },
  {
   "cell_type": "code",
   "execution_count": 8,
   "metadata": {},
   "outputs": [
    {
     "data": {
      "text/plain": [
       "(330, 2)"
      ]
     },
     "execution_count": 8,
     "metadata": {},
     "output_type": "execute_result"
    }
   ],
   "source": [
    "X_test.shape"
   ]
  },
  {
   "cell_type": "markdown",
   "metadata": {},
   "source": [
    "# 2. Scaling Data\n",
    "\n",
    "#### Scale Features, Don't need to scale the label. "
   ]
  },
  {
   "cell_type": "code",
   "execution_count": 9,
   "metadata": {},
   "outputs": [],
   "source": [
    "scaler = MinMaxScaler()"
   ]
  },
  {
   "cell_type": "code",
   "execution_count": 10,
   "metadata": {},
   "outputs": [
    {
     "data": {
      "text/plain": [
       "MinMaxScaler(copy=True, feature_range=(0, 1))"
      ]
     },
     "execution_count": 10,
     "metadata": {},
     "output_type": "execute_result"
    }
   ],
   "source": [
    "# Calculate what's needed for the transformation (Train set only)\n",
    "scaler.fit(X_train)"
   ]
  },
  {
   "cell_type": "code",
   "execution_count": 11,
   "metadata": {},
   "outputs": [],
   "source": [
    "# Perform Transformation\n",
    "X_train = scaler.transform(X_train)"
   ]
  },
  {
   "cell_type": "code",
   "execution_count": 12,
   "metadata": {},
   "outputs": [],
   "source": [
    "X_test = scaler.transform(X_test)"
   ]
  },
  {
   "cell_type": "code",
   "execution_count": 13,
   "metadata": {},
   "outputs": [
    {
     "data": {
      "text/plain": [
       "1.0"
      ]
     },
     "execution_count": 13,
     "metadata": {},
     "output_type": "execute_result"
    }
   ],
   "source": [
    "X_train.max()  # Value is now between 0 - 1"
   ]
  },
  {
   "cell_type": "markdown",
   "metadata": {},
   "source": [
    "# 3. Building and Compile a Model"
   ]
  },
  {
   "cell_type": "markdown",
   "metadata": {},
   "source": [
    "model = Sequential([\n",
    "    Dense(4,activation='relu'),\n",
    "    Dense(2,activation='relu'),\n",
    "    Dense(1)\n",
    "])\n",
    "\n",
    "or using"
   ]
  },
  {
   "cell_type": "code",
   "execution_count": 14,
   "metadata": {},
   "outputs": [],
   "source": [
    "model = Sequential()\n",
    "\n",
    "model.add(Dense(4,activation='relu'))\n",
    "model.add(Dense(4,activation='relu'))\n",
    "model.add(Dense(4,activation='relu'))\n",
    "model.add(Dense(1))\n",
    "\n",
    "\n",
    "\n",
    "model.compile(\n",
    "    optimizer='rmsprop',\n",
    "    loss='mse'\n",
    ")"
   ]
  },
  {
   "cell_type": "code",
   "execution_count": 15,
   "metadata": {},
   "outputs": [
    {
     "name": "stdout",
     "output_type": "stream",
     "text": [
      "Epoch 1/250\n",
      "21/21 [==============================] - 0s 2ms/step - loss: 256538.6094\n",
      "Epoch 2/250\n",
      "21/21 [==============================] - 0s 2ms/step - loss: 256239.7656\n",
      "Epoch 3/250\n",
      "21/21 [==============================] - 0s 3ms/step - loss: 255916.5781\n",
      "Epoch 4/250\n",
      "21/21 [==============================] - 0s 2ms/step - loss: 255552.7188\n",
      "Epoch 5/250\n",
      "21/21 [==============================] - 0s 2ms/step - loss: 255147.3438\n",
      "Epoch 6/250\n",
      "21/21 [==============================] - 0s 2ms/step - loss: 254707.3594\n",
      "Epoch 7/250\n",
      "21/21 [==============================] - 0s 2ms/step - loss: 254229.2031\n",
      "Epoch 8/250\n",
      "21/21 [==============================] - 0s 2ms/step - loss: 253710.1562\n",
      "Epoch 9/250\n",
      "21/21 [==============================] - 0s 2ms/step - loss: 253138.7500\n",
      "Epoch 10/250\n",
      "21/21 [==============================] - 0s 2ms/step - loss: 252497.2969\n",
      "Epoch 11/250\n",
      "21/21 [==============================] - 0s 2ms/step - loss: 251783.4219\n",
      "Epoch 12/250\n",
      "21/21 [==============================] - 0s 2ms/step - loss: 250993.9375\n",
      "Epoch 13/250\n",
      "21/21 [==============================] - 0s 2ms/step - loss: 250111.0000\n",
      "Epoch 14/250\n",
      "21/21 [==============================] - 0s 2ms/step - loss: 249132.2031\n",
      "Epoch 15/250\n",
      "21/21 [==============================] - 0s 2ms/step - loss: 248047.3594\n",
      "Epoch 16/250\n",
      "21/21 [==============================] - 0s 2ms/step - loss: 246848.7812\n",
      "Epoch 17/250\n",
      "21/21 [==============================] - 0s 2ms/step - loss: 245535.5469\n",
      "Epoch 18/250\n",
      "21/21 [==============================] - 0s 2ms/step - loss: 244089.1406\n",
      "Epoch 19/250\n",
      "21/21 [==============================] - 0s 2ms/step - loss: 242525.0156\n",
      "Epoch 20/250\n",
      "21/21 [==============================] - 0s 2ms/step - loss: 240821.4688\n",
      "Epoch 21/250\n",
      "21/21 [==============================] - 0s 2ms/step - loss: 238958.8594\n",
      "Epoch 22/250\n",
      "21/21 [==============================] - 0s 2ms/step - loss: 236952.7188\n",
      "Epoch 23/250\n",
      "21/21 [==============================] - 0s 2ms/step - loss: 234787.3125\n",
      "Epoch 24/250\n",
      "21/21 [==============================] - 0s 2ms/step - loss: 232451.9844\n",
      "Epoch 25/250\n",
      "21/21 [==============================] - 0s 2ms/step - loss: 229945.9375\n",
      "Epoch 26/250\n",
      "21/21 [==============================] - 0s 2ms/step - loss: 227252.2500\n",
      "Epoch 27/250\n",
      "21/21 [==============================] - 0s 2ms/step - loss: 224374.9062\n",
      "Epoch 28/250\n",
      "21/21 [==============================] - 0s 2ms/step - loss: 221308.3906\n",
      "Epoch 29/250\n",
      "21/21 [==============================] - 0s 3ms/step - loss: 218037.4375\n",
      "Epoch 30/250\n",
      "21/21 [==============================] - 0s 2ms/step - loss: 214576.6250\n",
      "Epoch 31/250\n",
      "21/21 [==============================] - 0s 2ms/step - loss: 210919.8281\n",
      "Epoch 32/250\n",
      "21/21 [==============================] - 0s 2ms/step - loss: 207028.1562\n",
      "Epoch 33/250\n",
      "21/21 [==============================] - 0s 2ms/step - loss: 202904.5000\n",
      "Epoch 34/250\n",
      "21/21 [==============================] - 0s 2ms/step - loss: 198590.7188\n",
      "Epoch 35/250\n",
      "21/21 [==============================] - 0s 2ms/step - loss: 194047.4375\n",
      "Epoch 36/250\n",
      "21/21 [==============================] - 0s 2ms/step - loss: 189294.3125\n",
      "Epoch 37/250\n",
      "21/21 [==============================] - 0s 2ms/step - loss: 184325.8125\n",
      "Epoch 38/250\n",
      "21/21 [==============================] - 0s 2ms/step - loss: 179114.3906\n",
      "Epoch 39/250\n",
      "21/21 [==============================] - 0s 3ms/step - loss: 173700.9375\n",
      "Epoch 40/250\n",
      "21/21 [==============================] - 0s 2ms/step - loss: 168001.0938\n",
      "Epoch 41/250\n",
      "21/21 [==============================] - 0s 2ms/step - loss: 161769.4688\n",
      "Epoch 42/250\n",
      "21/21 [==============================] - 0s 2ms/step - loss: 155292.6250\n",
      "Epoch 43/250\n",
      "21/21 [==============================] - 0s 2ms/step - loss: 148659.2031\n",
      "Epoch 44/250\n",
      "21/21 [==============================] - 0s 2ms/step - loss: 141803.2969\n",
      "Epoch 45/250\n",
      "21/21 [==============================] - 0s 2ms/step - loss: 134728.4375\n",
      "Epoch 46/250\n",
      "21/21 [==============================] - 0s 2ms/step - loss: 127506.9375\n",
      "Epoch 47/250\n",
      "21/21 [==============================] - 0s 2ms/step - loss: 120081.3750\n",
      "Epoch 48/250\n",
      "21/21 [==============================] - 0s 2ms/step - loss: 112553.3750\n",
      "Epoch 49/250\n",
      "21/21 [==============================] - 0s 2ms/step - loss: 104914.4375\n",
      "Epoch 50/250\n",
      "21/21 [==============================] - 0s 2ms/step - loss: 97179.2500\n",
      "Epoch 51/250\n",
      "21/21 [==============================] - 0s 2ms/step - loss: 89380.9141\n",
      "Epoch 52/250\n",
      "21/21 [==============================] - 0s 2ms/step - loss: 81588.5156\n",
      "Epoch 53/250\n",
      "21/21 [==============================] - 0s 2ms/step - loss: 73848.6719\n",
      "Epoch 54/250\n",
      "21/21 [==============================] - 0s 2ms/step - loss: 66175.1094\n",
      "Epoch 55/250\n",
      "21/21 [==============================] - 0s 2ms/step - loss: 58634.8906\n",
      "Epoch 56/250\n",
      "21/21 [==============================] - 0s 2ms/step - loss: 51284.9688\n",
      "Epoch 57/250\n",
      "21/21 [==============================] - 0s 2ms/step - loss: 44178.3945\n",
      "Epoch 58/250\n",
      "21/21 [==============================] - 0s 2ms/step - loss: 37394.2852\n",
      "Epoch 59/250\n",
      "21/21 [==============================] - 0s 2ms/step - loss: 30924.2695\n",
      "Epoch 60/250\n",
      "21/21 [==============================] - 0s 2ms/step - loss: 25039.5312\n",
      "Epoch 61/250\n",
      "21/21 [==============================] - 0s 2ms/step - loss: 19703.0449\n",
      "Epoch 62/250\n",
      "21/21 [==============================] - 0s 2ms/step - loss: 14913.3926\n",
      "Epoch 63/250\n",
      "21/21 [==============================] - 0s 2ms/step - loss: 10830.3398\n",
      "Epoch 64/250\n",
      "21/21 [==============================] - 0s 2ms/step - loss: 7525.0879\n",
      "Epoch 65/250\n",
      "21/21 [==============================] - 0s 2ms/step - loss: 5102.0093\n",
      "Epoch 66/250\n",
      "21/21 [==============================] - 0s 2ms/step - loss: 3534.4744\n",
      "Epoch 67/250\n",
      "21/21 [==============================] - 0s 2ms/step - loss: 2793.1150\n",
      "Epoch 68/250\n",
      "21/21 [==============================] - 0s 2ms/step - loss: 2595.1956\n",
      "Epoch 69/250\n",
      "21/21 [==============================] - 0s 2ms/step - loss: 2547.4819\n",
      "Epoch 70/250\n",
      "21/21 [==============================] - 0s 2ms/step - loss: 2501.1489\n",
      "Epoch 71/250\n",
      "21/21 [==============================] - 0s 2ms/step - loss: 2459.9741\n",
      "Epoch 72/250\n",
      "21/21 [==============================] - 0s 2ms/step - loss: 2411.8096\n",
      "Epoch 73/250\n",
      "21/21 [==============================] - 0s 2ms/step - loss: 2367.1086\n",
      "Epoch 74/250\n",
      "21/21 [==============================] - 0s 2ms/step - loss: 2312.7119\n",
      "Epoch 75/250\n",
      "21/21 [==============================] - 0s 3ms/step - loss: 2269.4348\n",
      "Epoch 76/250\n",
      "21/21 [==============================] - 0s 2ms/step - loss: 2220.1709\n",
      "Epoch 77/250\n",
      "21/21 [==============================] - 0s 2ms/step - loss: 2173.9631\n",
      "Epoch 78/250\n",
      "21/21 [==============================] - 0s 2ms/step - loss: 2128.5776\n",
      "Epoch 79/250\n",
      "21/21 [==============================] - 0s 2ms/step - loss: 2072.7283\n",
      "Epoch 80/250\n",
      "21/21 [==============================] - 0s 2ms/step - loss: 2029.1013\n",
      "Epoch 81/250\n",
      "21/21 [==============================] - 0s 2ms/step - loss: 1981.8160\n",
      "Epoch 82/250\n",
      "21/21 [==============================] - 0s 2ms/step - loss: 1934.7603\n",
      "Epoch 83/250\n",
      "21/21 [==============================] - 0s 2ms/step - loss: 1890.9017\n",
      "Epoch 84/250\n",
      "21/21 [==============================] - 0s 2ms/step - loss: 1841.1169\n",
      "Epoch 85/250\n",
      "21/21 [==============================] - 0s 2ms/step - loss: 1793.7549\n",
      "Epoch 86/250\n",
      "21/21 [==============================] - 0s 2ms/step - loss: 1752.7898\n",
      "Epoch 87/250\n",
      "21/21 [==============================] - 0s 2ms/step - loss: 1707.5487\n",
      "Epoch 88/250\n",
      "21/21 [==============================] - 0s 2ms/step - loss: 1661.4467\n",
      "Epoch 89/250\n",
      "21/21 [==============================] - 0s 2ms/step - loss: 1616.0155\n",
      "Epoch 90/250\n",
      "21/21 [==============================] - 0s 2ms/step - loss: 1578.7771\n",
      "Epoch 91/250\n",
      "21/21 [==============================] - 0s 2ms/step - loss: 1537.3274\n",
      "Epoch 92/250\n",
      "21/21 [==============================] - 0s 2ms/step - loss: 1496.3683\n",
      "Epoch 93/250\n",
      "21/21 [==============================] - 0s 2ms/step - loss: 1456.5074\n",
      "Epoch 94/250\n",
      "21/21 [==============================] - 0s 2ms/step - loss: 1419.5988\n",
      "Epoch 95/250\n",
      "21/21 [==============================] - 0s 2ms/step - loss: 1382.1473\n",
      "Epoch 96/250\n",
      "21/21 [==============================] - 0s 2ms/step - loss: 1342.9175\n",
      "Epoch 97/250\n",
      "21/21 [==============================] - 0s 2ms/step - loss: 1309.0106\n",
      "Epoch 98/250\n",
      "21/21 [==============================] - 0s 2ms/step - loss: 1264.2057\n",
      "Epoch 99/250\n",
      "21/21 [==============================] - 0s 2ms/step - loss: 1226.0619\n",
      "Epoch 100/250\n",
      "21/21 [==============================] - 0s 2ms/step - loss: 1182.7421\n",
      "Epoch 101/250\n",
      "21/21 [==============================] - 0s 2ms/step - loss: 1145.8108\n",
      "Epoch 102/250\n",
      "21/21 [==============================] - 0s 2ms/step - loss: 1111.6910\n",
      "Epoch 103/250\n",
      "21/21 [==============================] - 0s 2ms/step - loss: 1072.1497\n",
      "Epoch 104/250\n",
      "21/21 [==============================] - 0s 2ms/step - loss: 1042.1752\n",
      "Epoch 105/250\n",
      "21/21 [==============================] - 0s 2ms/step - loss: 1002.2913\n",
      "Epoch 106/250\n",
      "21/21 [==============================] - 0s 2ms/step - loss: 964.4033\n",
      "Epoch 107/250\n",
      "21/21 [==============================] - 0s 2ms/step - loss: 936.2181\n",
      "Epoch 108/250\n",
      "21/21 [==============================] - 0s 2ms/step - loss: 897.9760\n",
      "Epoch 109/250\n",
      "21/21 [==============================] - 0s 2ms/step - loss: 856.0134\n",
      "Epoch 110/250\n",
      "21/21 [==============================] - 0s 2ms/step - loss: 819.9673\n",
      "Epoch 111/250\n",
      "21/21 [==============================] - 0s 2ms/step - loss: 790.0543\n",
      "Epoch 112/250\n",
      "21/21 [==============================] - 0s 2ms/step - loss: 755.2268\n",
      "Epoch 113/250\n",
      "21/21 [==============================] - 0s 2ms/step - loss: 729.4936\n",
      "Epoch 114/250\n",
      "21/21 [==============================] - 0s 3ms/step - loss: 696.8961\n",
      "Epoch 115/250\n",
      "21/21 [==============================] - 0s 2ms/step - loss: 669.8721\n",
      "Epoch 116/250\n",
      "21/21 [==============================] - 0s 2ms/step - loss: 637.2411\n",
      "Epoch 117/250\n",
      "21/21 [==============================] - 0s 2ms/step - loss: 611.0549\n",
      "Epoch 118/250\n",
      "21/21 [==============================] - 0s 2ms/step - loss: 584.6857\n",
      "Epoch 119/250\n",
      "21/21 [==============================] - 0s 3ms/step - loss: 555.9099\n",
      "Epoch 120/250\n",
      "21/21 [==============================] - 0s 3ms/step - loss: 532.9608\n",
      "Epoch 121/250\n",
      "21/21 [==============================] - 0s 3ms/step - loss: 504.3488\n",
      "Epoch 122/250\n",
      "21/21 [==============================] - 0s 2ms/step - loss: 477.5235\n",
      "Epoch 123/250\n",
      "21/21 [==============================] - 0s 3ms/step - loss: 453.4127\n",
      "Epoch 124/250\n",
      "21/21 [==============================] - 0s 3ms/step - loss: 429.4190\n",
      "Epoch 125/250\n",
      "21/21 [==============================] - 0s 3ms/step - loss: 403.4716\n",
      "Epoch 126/250\n",
      "21/21 [==============================] - 0s 3ms/step - loss: 381.1681\n",
      "Epoch 127/250\n",
      "21/21 [==============================] - 0s 3ms/step - loss: 356.8090\n",
      "Epoch 128/250\n",
      "21/21 [==============================] - 0s 3ms/step - loss: 334.4528\n",
      "Epoch 129/250\n",
      "21/21 [==============================] - 0s 3ms/step - loss: 310.0402\n",
      "Epoch 130/250\n",
      "21/21 [==============================] - 0s 3ms/step - loss: 288.0946\n",
      "Epoch 131/250\n",
      "21/21 [==============================] - 0s 3ms/step - loss: 268.3786\n",
      "Epoch 132/250\n",
      "21/21 [==============================] - 0s 3ms/step - loss: 247.8421\n",
      "Epoch 133/250\n",
      "21/21 [==============================] - 0s 3ms/step - loss: 233.5929\n",
      "Epoch 134/250\n",
      "21/21 [==============================] - 0s 3ms/step - loss: 217.0736\n",
      "Epoch 135/250\n",
      "21/21 [==============================] - 0s 3ms/step - loss: 202.1977\n",
      "Epoch 136/250\n",
      "21/21 [==============================] - 0s 3ms/step - loss: 187.0884\n",
      "Epoch 137/250\n",
      "21/21 [==============================] - 0s 3ms/step - loss: 169.3946\n",
      "Epoch 138/250\n",
      "21/21 [==============================] - 0s 3ms/step - loss: 154.4440\n",
      "Epoch 139/250\n",
      "21/21 [==============================] - 0s 3ms/step - loss: 141.5314\n",
      "Epoch 140/250\n",
      "21/21 [==============================] - 0s 3ms/step - loss: 128.1651\n",
      "Epoch 141/250\n",
      "21/21 [==============================] - 0s 3ms/step - loss: 117.5830\n",
      "Epoch 142/250\n",
      "21/21 [==============================] - 0s 3ms/step - loss: 106.3165\n",
      "Epoch 143/250\n",
      "21/21 [==============================] - 0s 3ms/step - loss: 97.4755\n",
      "Epoch 144/250\n",
      "21/21 [==============================] - 0s 3ms/step - loss: 87.2777\n",
      "Epoch 145/250\n",
      "21/21 [==============================] - 0s 3ms/step - loss: 78.2380\n",
      "Epoch 146/250\n",
      "21/21 [==============================] - 0s 3ms/step - loss: 69.8692\n",
      "Epoch 147/250\n",
      "21/21 [==============================] - 0s 3ms/step - loss: 62.8005\n",
      "Epoch 148/250\n",
      "21/21 [==============================] - 0s 3ms/step - loss: 56.7767\n",
      "Epoch 149/250\n",
      "21/21 [==============================] - 0s 3ms/step - loss: 51.5803\n",
      "Epoch 150/250\n",
      "21/21 [==============================] - 0s 3ms/step - loss: 47.5176\n",
      "Epoch 151/250\n",
      "21/21 [==============================] - 0s 3ms/step - loss: 43.0319\n",
      "Epoch 152/250\n",
      "21/21 [==============================] - 0s 3ms/step - loss: 39.0551\n",
      "Epoch 153/250\n",
      "21/21 [==============================] - 0s 3ms/step - loss: 36.9970\n",
      "Epoch 154/250\n",
      "21/21 [==============================] - 0s 3ms/step - loss: 34.6882\n",
      "Epoch 155/250\n",
      "21/21 [==============================] - 0s 3ms/step - loss: 32.3727\n",
      "Epoch 156/250\n",
      "21/21 [==============================] - 0s 3ms/step - loss: 30.8984\n",
      "Epoch 157/250\n",
      "21/21 [==============================] - 0s 3ms/step - loss: 29.9445\n",
      "Epoch 158/250\n",
      "21/21 [==============================] - 0s 3ms/step - loss: 28.4778\n",
      "Epoch 159/250\n",
      "21/21 [==============================] - 0s 3ms/step - loss: 27.6913\n",
      "Epoch 160/250\n",
      "21/21 [==============================] - 0s 3ms/step - loss: 27.0388\n",
      "Epoch 161/250\n",
      "21/21 [==============================] - 0s 3ms/step - loss: 26.8455\n",
      "Epoch 162/250\n",
      "21/21 [==============================] - 0s 3ms/step - loss: 26.8887\n",
      "Epoch 163/250\n",
      "21/21 [==============================] - 0s 3ms/step - loss: 25.9815\n",
      "Epoch 164/250\n",
      "21/21 [==============================] - 0s 3ms/step - loss: 25.7950\n",
      "Epoch 165/250\n",
      "21/21 [==============================] - 0s 3ms/step - loss: 25.6221\n",
      "Epoch 166/250\n",
      "21/21 [==============================] - 0s 3ms/step - loss: 25.4148\n",
      "Epoch 167/250\n",
      "21/21 [==============================] - 0s 3ms/step - loss: 25.6080\n",
      "Epoch 168/250\n",
      "21/21 [==============================] - 0s 3ms/step - loss: 25.1844\n",
      "Epoch 169/250\n",
      "21/21 [==============================] - 0s 3ms/step - loss: 25.2971\n",
      "Epoch 170/250\n",
      "21/21 [==============================] - 0s 3ms/step - loss: 25.2694\n",
      "Epoch 171/250\n",
      "21/21 [==============================] - 0s 3ms/step - loss: 25.1896\n",
      "Epoch 172/250\n",
      "21/21 [==============================] - 0s 3ms/step - loss: 25.0489\n",
      "Epoch 173/250\n",
      "21/21 [==============================] - 0s 3ms/step - loss: 24.9730\n",
      "Epoch 174/250\n",
      "21/21 [==============================] - 0s 3ms/step - loss: 24.8435\n",
      "Epoch 175/250\n",
      "21/21 [==============================] - 0s 3ms/step - loss: 24.5590\n",
      "Epoch 176/250\n",
      "21/21 [==============================] - 0s 3ms/step - loss: 24.8696\n",
      "Epoch 177/250\n",
      "21/21 [==============================] - 0s 3ms/step - loss: 25.0420\n",
      "Epoch 178/250\n",
      "21/21 [==============================] - 0s 3ms/step - loss: 24.6486\n",
      "Epoch 179/250\n",
      "21/21 [==============================] - 0s 3ms/step - loss: 24.9427\n",
      "Epoch 180/250\n",
      "21/21 [==============================] - 0s 3ms/step - loss: 25.2421\n",
      "Epoch 181/250\n",
      "21/21 [==============================] - 0s 3ms/step - loss: 24.4749\n",
      "Epoch 182/250\n",
      "21/21 [==============================] - 0s 3ms/step - loss: 25.2670\n",
      "Epoch 183/250\n",
      "21/21 [==============================] - 0s 3ms/step - loss: 25.2430\n",
      "Epoch 184/250\n",
      "21/21 [==============================] - 0s 3ms/step - loss: 24.6066\n",
      "Epoch 185/250\n",
      "21/21 [==============================] - 0s 3ms/step - loss: 24.7649\n",
      "Epoch 186/250\n",
      "21/21 [==============================] - 0s 3ms/step - loss: 24.8063\n",
      "Epoch 187/250\n",
      "21/21 [==============================] - 0s 3ms/step - loss: 25.1988\n",
      "Epoch 188/250\n",
      "21/21 [==============================] - 0s 3ms/step - loss: 24.6261\n",
      "Epoch 189/250\n",
      "21/21 [==============================] - 0s 3ms/step - loss: 25.2610\n",
      "Epoch 190/250\n",
      "21/21 [==============================] - 0s 3ms/step - loss: 24.2974\n",
      "Epoch 191/250\n",
      "21/21 [==============================] - 0s 3ms/step - loss: 24.9525\n",
      "Epoch 192/250\n",
      "21/21 [==============================] - 0s 3ms/step - loss: 25.1027\n",
      "Epoch 193/250\n",
      "21/21 [==============================] - 0s 3ms/step - loss: 24.4293\n",
      "Epoch 194/250\n",
      "21/21 [==============================] - 0s 3ms/step - loss: 24.9634\n",
      "Epoch 195/250\n"
     ]
    },
    {
     "name": "stdout",
     "output_type": "stream",
     "text": [
      "21/21 [==============================] - 0s 3ms/step - loss: 25.5981\n",
      "Epoch 196/250\n",
      "21/21 [==============================] - 0s 3ms/step - loss: 24.7221\n",
      "Epoch 197/250\n",
      "21/21 [==============================] - 0s 3ms/step - loss: 24.4706\n",
      "Epoch 198/250\n",
      "21/21 [==============================] - 0s 3ms/step - loss: 25.2931\n",
      "Epoch 199/250\n",
      "21/21 [==============================] - 0s 3ms/step - loss: 24.6517\n",
      "Epoch 200/250\n",
      "21/21 [==============================] - 0s 3ms/step - loss: 24.8398\n",
      "Epoch 201/250\n",
      "21/21 [==============================] - 0s 3ms/step - loss: 24.8725\n",
      "Epoch 202/250\n",
      "21/21 [==============================] - 0s 3ms/step - loss: 25.3018\n",
      "Epoch 203/250\n",
      "21/21 [==============================] - 0s 3ms/step - loss: 25.0567\n",
      "Epoch 204/250\n",
      "21/21 [==============================] - 0s 3ms/step - loss: 24.6202\n",
      "Epoch 205/250\n",
      "21/21 [==============================] - 0s 3ms/step - loss: 25.1931\n",
      "Epoch 206/250\n",
      "21/21 [==============================] - 0s 3ms/step - loss: 24.3923\n",
      "Epoch 207/250\n",
      "21/21 [==============================] - 0s 3ms/step - loss: 24.4970\n",
      "Epoch 208/250\n",
      "21/21 [==============================] - 0s 3ms/step - loss: 24.8517\n",
      "Epoch 209/250\n",
      "21/21 [==============================] - 0s 3ms/step - loss: 25.2358\n",
      "Epoch 210/250\n",
      "21/21 [==============================] - 0s 3ms/step - loss: 24.8637\n",
      "Epoch 211/250\n",
      "21/21 [==============================] - 0s 3ms/step - loss: 25.3743\n",
      "Epoch 212/250\n",
      "21/21 [==============================] - 0s 3ms/step - loss: 24.8714\n",
      "Epoch 213/250\n",
      "21/21 [==============================] - 0s 3ms/step - loss: 24.4125\n",
      "Epoch 214/250\n",
      "21/21 [==============================] - 0s 3ms/step - loss: 25.0753\n",
      "Epoch 215/250\n",
      "21/21 [==============================] - 0s 3ms/step - loss: 24.8502\n",
      "Epoch 216/250\n",
      "21/21 [==============================] - 0s 3ms/step - loss: 24.9145\n",
      "Epoch 217/250\n",
      "21/21 [==============================] - 0s 3ms/step - loss: 24.5285\n",
      "Epoch 218/250\n",
      "21/21 [==============================] - 0s 3ms/step - loss: 25.1077\n",
      "Epoch 219/250\n",
      "21/21 [==============================] - 0s 3ms/step - loss: 24.6834\n",
      "Epoch 220/250\n",
      "21/21 [==============================] - 0s 3ms/step - loss: 25.0974\n",
      "Epoch 221/250\n",
      "21/21 [==============================] - 0s 3ms/step - loss: 24.5039\n",
      "Epoch 222/250\n",
      "21/21 [==============================] - 0s 3ms/step - loss: 24.5200\n",
      "Epoch 223/250\n",
      "21/21 [==============================] - 0s 3ms/step - loss: 24.4866\n",
      "Epoch 224/250\n",
      "21/21 [==============================] - 0s 3ms/step - loss: 25.4505\n",
      "Epoch 225/250\n",
      "21/21 [==============================] - 0s 3ms/step - loss: 24.6053\n",
      "Epoch 226/250\n",
      "21/21 [==============================] - 0s 3ms/step - loss: 24.5467\n",
      "Epoch 227/250\n",
      "21/21 [==============================] - 0s 3ms/step - loss: 24.9511\n",
      "Epoch 228/250\n",
      "21/21 [==============================] - 0s 3ms/step - loss: 25.0249\n",
      "Epoch 229/250\n",
      "21/21 [==============================] - 0s 3ms/step - loss: 24.6558\n",
      "Epoch 230/250\n",
      "21/21 [==============================] - 0s 3ms/step - loss: 25.2202\n",
      "Epoch 231/250\n",
      "21/21 [==============================] - 0s 3ms/step - loss: 24.4365\n",
      "Epoch 232/250\n",
      "21/21 [==============================] - 0s 3ms/step - loss: 24.4898\n",
      "Epoch 233/250\n",
      "21/21 [==============================] - 0s 3ms/step - loss: 24.9369\n",
      "Epoch 234/250\n",
      "21/21 [==============================] - 0s 3ms/step - loss: 24.5231\n",
      "Epoch 235/250\n",
      "21/21 [==============================] - 0s 3ms/step - loss: 25.0499\n",
      "Epoch 236/250\n",
      "21/21 [==============================] - 0s 3ms/step - loss: 25.3692\n",
      "Epoch 237/250\n",
      "21/21 [==============================] - 0s 3ms/step - loss: 25.0994\n",
      "Epoch 238/250\n",
      "21/21 [==============================] - 0s 2ms/step - loss: 24.8711\n",
      "Epoch 239/250\n",
      "21/21 [==============================] - 0s 3ms/step - loss: 25.0810\n",
      "Epoch 240/250\n",
      "21/21 [==============================] - 0s 3ms/step - loss: 24.6233\n",
      "Epoch 241/250\n",
      "21/21 [==============================] - 0s 3ms/step - loss: 25.2150\n",
      "Epoch 242/250\n",
      "21/21 [==============================] - 0s 2ms/step - loss: 24.0686\n",
      "Epoch 243/250\n",
      "21/21 [==============================] - 0s 3ms/step - loss: 24.2648\n",
      "Epoch 244/250\n",
      "21/21 [==============================] - 0s 3ms/step - loss: 24.9866\n",
      "Epoch 245/250\n",
      "21/21 [==============================] - 0s 2ms/step - loss: 24.9607\n",
      "Epoch 246/250\n",
      "21/21 [==============================] - 0s 3ms/step - loss: 24.5574\n",
      "Epoch 247/250\n",
      "21/21 [==============================] - 0s 3ms/step - loss: 25.3819\n",
      "Epoch 248/250\n",
      "21/21 [==============================] - 0s 3ms/step - loss: 24.5652\n",
      "Epoch 249/250\n",
      "21/21 [==============================] - 0s 3ms/step - loss: 24.6649\n",
      "Epoch 250/250\n",
      "21/21 [==============================] - 0s 3ms/step - loss: 24.8483\n"
     ]
    },
    {
     "data": {
      "text/plain": [
       "<tensorflow.python.keras.callbacks.History at 0x2855e9d7ec8>"
      ]
     },
     "execution_count": 15,
     "metadata": {},
     "output_type": "execute_result"
    }
   ],
   "source": [
    "model.fit(x=X_train, y=y_train, epochs=250, verbose=1)"
   ]
  },
  {
   "cell_type": "code",
   "execution_count": 16,
   "metadata": {
    "scrolled": true
   },
   "outputs": [
    {
     "data": {
      "text/plain": [
       "<matplotlib.axes._subplots.AxesSubplot at 0x285570af9c8>"
      ]
     },
     "execution_count": 16,
     "metadata": {},
     "output_type": "execute_result"
    },
    {
     "data": {
      "image/png": "[encoded data removed]",
      "text/plain": [
       "<Figure size 432x288 with 1 Axes>"
      ]
     },
     "metadata": {
      "needs_background": "light"
     },
     "output_type": "display_data"
    }
   ],
   "source": [
    "# Looking at Training history\n",
    "\n",
    "loss_df = pd.DataFrame(model.history.history)\n",
    "loss_df.plot()"
   ]
  },
  {
   "cell_type": "markdown",
   "metadata": {},
   "source": [
    "# 4. Evaluate Model"
   ]
  },
  {
   "cell_type": "code",
   "execution_count": 29,
   "metadata": {},
   "outputs": [
    {
     "data": {
      "text/plain": [
       "25.623437881469727"
      ]
     },
     "execution_count": 29,
     "metadata": {},
     "output_type": "execute_result"
    }
   ],
   "source": [
    "model.evaluate(X_test,y_test,verbose=0)\n",
    "\n",
    "# Calculate the MSE"
   ]
  },
  {
   "cell_type": "code",
   "execution_count": 18,
   "metadata": {},
   "outputs": [],
   "source": [
    "test_predictions = model.predict(X_test)"
   ]
  },
  {
   "cell_type": "code",
   "execution_count": 19,
   "metadata": {},
   "outputs": [
    {
     "data": {
      "text/plain": [
       "array([[404.37463],\n",
       "       [622.2106 ],\n",
       "       [590.87445],\n",
       "       [570.96674],\n",
       "       [365.72174],\n",
       "       [577.9265 ],\n",
       "       [513.87775],\n",
       "       [458.1114 ],\n",
       "       [548.0302 ],\n",
       "       [446.54974],\n",
       "       [610.4804 ],\n",
       "       [547.81085],\n",
       "       [418.1547 ],\n",
       "       [407.93558],\n",
       "       [649.9158 ],\n",
       "       [436.33853],\n",
       "       [507.38562],\n",
       "       [658.4882 ],\n",
       "       [661.16113],\n",
       "       [564.3398 ],\n",
       "       [333.42017],\n",
       "       [443.84064],\n",
       "       [381.63452],\n",
       "       [377.89276],\n",
       "       [565.37067],\n",
       "       [609.26013],\n",
       "       [531.2269 ],\n",
       "       [426.90753],\n",
       "       [654.02356],\n",
       "       [413.17075],\n",
       "       [441.67093],\n",
       "       [484.06186],\n",
       "       [437.44064],\n",
       "       [680.3849 ],\n",
       "       [423.84073],\n",
       "       [416.7254 ],\n",
       "       [500.88608],\n",
       "       [549.2896 ],\n",
       "       [508.57968],\n",
       "       [394.41077],\n",
       "       [617.2836 ],\n",
       "       [415.7076 ],\n",
       "       [603.1666 ],\n",
       "       [445.00568],\n",
       "       [500.88998],\n",
       "       [580.5244 ],\n",
       "       [667.6289 ],\n",
       "       [489.3474 ],\n",
       "       [317.8527 ],\n",
       "       [484.35553],\n",
       "       [516.14594],\n",
       "       [380.9465 ],\n",
       "       [540.77466],\n",
       "       [407.67578],\n",
       "       [640.1714 ],\n",
       "       [489.99033],\n",
       "       [626.5666 ],\n",
       "       [625.7108 ],\n",
       "       [446.08078],\n",
       "       [483.61386],\n",
       "       [490.04053],\n",
       "       [473.50906],\n",
       "       [681.3576 ],\n",
       "       [402.3611 ],\n",
       "       [699.66486],\n",
       "       [585.1279 ],\n",
       "       [581.87646],\n",
       "       [536.71234],\n",
       "       [483.5096 ],\n",
       "       [515.41235],\n",
       "       [360.40042],\n",
       "       [539.58514],\n",
       "       [569.38983],\n",
       "       [527.3614 ],\n",
       "       [452.72552],\n",
       "       [530.0041 ],\n",
       "       [506.13303],\n",
       "       [442.32352],\n",
       "       [542.18353],\n",
       "       [639.4284 ],\n",
       "       [464.9367 ],\n",
       "       [566.05194],\n",
       "       [689.3468 ],\n",
       "       [457.706  ],\n",
       "       [707.3957 ],\n",
       "       [471.65244],\n",
       "       [402.40613],\n",
       "       [583.8462 ],\n",
       "       [435.82318],\n",
       "       [487.9109 ],\n",
       "       [615.73346],\n",
       "       [438.52313],\n",
       "       [454.2951 ],\n",
       "       [434.28152],\n",
       "       [505.7785 ],\n",
       "       [607.13855],\n",
       "       [320.87192],\n",
       "       [435.3124 ],\n",
       "       [535.1943 ],\n",
       "       [517.4863 ],\n",
       "       [603.73083],\n",
       "       [524.29877],\n",
       "       [333.38464],\n",
       "       [574.9636 ],\n",
       "       [430.7713 ],\n",
       "       [561.3955 ],\n",
       "       [512.2946 ],\n",
       "       [390.1848 ],\n",
       "       [564.9899 ],\n",
       "       [453.8371 ],\n",
       "       [447.47772],\n",
       "       [639.60736],\n",
       "       [523.26514],\n",
       "       [549.5242 ],\n",
       "       [416.7567 ],\n",
       "       [477.6823 ],\n",
       "       [585.26917],\n",
       "       [665.9473 ],\n",
       "       [698.97205],\n",
       "       [657.95386],\n",
       "       [559.3603 ],\n",
       "       [502.10052],\n",
       "       [389.44153],\n",
       "       [280.651  ],\n",
       "       [478.57452],\n",
       "       [615.0931 ],\n",
       "       [372.49622],\n",
       "       [511.1505 ],\n",
       "       [509.88052],\n",
       "       [492.39053],\n",
       "       [479.40912],\n",
       "       [422.81238],\n",
       "       [492.37073],\n",
       "       [470.44046],\n",
       "       [599.20306],\n",
       "       [572.39966],\n",
       "       [413.9957 ],\n",
       "       [629.3184 ],\n",
       "       [465.36313],\n",
       "       [563.14667],\n",
       "       [404.77277],\n",
       "       [531.0213 ],\n",
       "       [571.4061 ],\n",
       "       [356.24222],\n",
       "       [548.6401 ],\n",
       "       [602.0702 ],\n",
       "       [383.4217 ],\n",
       "       [541.20123],\n",
       "       [561.3903 ],\n",
       "       [451.90982],\n",
       "       [630.8701 ],\n",
       "       [371.37076],\n",
       "       [473.19138],\n",
       "       [527.6956 ],\n",
       "       [371.46686],\n",
       "       [460.19818],\n",
       "       [435.31955],\n",
       "       [497.40555],\n",
       "       [345.34473],\n",
       "       [394.4192 ],\n",
       "       [603.3097 ],\n",
       "       [505.56464],\n",
       "       [467.57898],\n",
       "       [489.3166 ],\n",
       "       [534.161  ],\n",
       "       [343.6946 ],\n",
       "       [511.27136],\n",
       "       [250.19815],\n",
       "       [502.99344],\n",
       "       [539.8968 ],\n",
       "       [488.29623],\n",
       "       [470.103  ],\n",
       "       [391.66763],\n",
       "       [415.36646],\n",
       "       [548.3844 ],\n",
       "       [474.72467],\n",
       "       [578.6853 ],\n",
       "       [488.67264],\n",
       "       [599.6669 ],\n",
       "       [545.8418 ],\n",
       "       [540.812  ],\n",
       "       [499.49722],\n",
       "       [644.46466],\n",
       "       [559.20807],\n",
       "       [576.7503 ],\n",
       "       [443.18613],\n",
       "       [414.61914],\n",
       "       [419.07123],\n",
       "       [567.9299 ],\n",
       "       [607.7056 ],\n",
       "       [436.80887],\n",
       "       [486.91766],\n",
       "       [586.4694 ],\n",
       "       [524.2255 ],\n",
       "       [356.5358 ],\n",
       "       [644.04114],\n",
       "       [526.87476],\n",
       "       [336.4322 ],\n",
       "       [491.615  ],\n",
       "       [409.26672],\n",
       "       [605.3216 ],\n",
       "       [345.7654 ],\n",
       "       [521.31683],\n",
       "       [403.79688],\n",
       "       [257.73425],\n",
       "       [518.7899 ],\n",
       "       [340.15616],\n",
       "       [361.18658],\n",
       "       [575.2204 ],\n",
       "       [415.77512],\n",
       "       [549.7882 ],\n",
       "       [519.94324],\n",
       "       [509.58627],\n",
       "       [324.00482],\n",
       "       [403.20618],\n",
       "       [601.0959 ],\n",
       "       [616.53125],\n",
       "       [601.9375 ],\n",
       "       [565.11426],\n",
       "       [472.36435],\n",
       "       [459.3607 ],\n",
       "       [507.3233 ],\n",
       "       [444.9396 ],\n",
       "       [510.24026],\n",
       "       [501.24567],\n",
       "       [399.25482],\n",
       "       [604.2407 ],\n",
       "       [257.497  ],\n",
       "       [626.93744],\n",
       "       [587.93445],\n",
       "       [326.40894],\n",
       "       [478.47427],\n",
       "       [594.0887 ],\n",
       "       [377.5456 ],\n",
       "       [459.13837],\n",
       "       [324.27866],\n",
       "       [517.5979 ],\n",
       "       [408.73782],\n",
       "       [555.0696 ],\n",
       "       [640.55   ],\n",
       "       [535.6612 ],\n",
       "       [502.10156],\n",
       "       [633.7237 ],\n",
       "       [514.14154],\n",
       "       [530.5613 ],\n",
       "       [517.6776 ],\n",
       "       [456.44168],\n",
       "       [504.7575 ],\n",
       "       [460.10367],\n",
       "       [590.4836 ],\n",
       "       [464.87778],\n",
       "       [426.20874],\n",
       "       [540.4004 ],\n",
       "       [492.71896],\n",
       "       [678.17615],\n",
       "       [371.91565],\n",
       "       [550.42896],\n",
       "       [576.73535],\n",
       "       [432.9782 ],\n",
       "       [541.8416 ],\n",
       "       [584.7853 ],\n",
       "       [578.04175],\n",
       "       [719.4322 ],\n",
       "       [431.74167],\n",
       "       [397.7141 ],\n",
       "       [313.2864 ],\n",
       "       [447.27585],\n",
       "       [387.2512 ],\n",
       "       [542.01575],\n",
       "       [521.59705],\n",
       "       [563.3241 ],\n",
       "       [447.02686],\n",
       "       [533.2697 ],\n",
       "       [380.93268],\n",
       "       [500.43207],\n",
       "       [635.7385 ],\n",
       "       [495.508  ],\n",
       "       [567.157  ],\n",
       "       [469.06094],\n",
       "       [272.69815],\n",
       "       [516.2234 ],\n",
       "       [620.07526],\n",
       "       [349.70496],\n",
       "       [449.4143 ],\n",
       "       [498.1839 ],\n",
       "       [541.803  ],\n",
       "       [610.54846],\n",
       "       [387.2587 ],\n",
       "       [448.36578],\n",
       "       [481.3697 ],\n",
       "       [597.02985],\n",
       "       [498.2577 ],\n",
       "       [320.70578],\n",
       "       [553.95105],\n",
       "       [443.65005],\n",
       "       [527.8714 ],\n",
       "       [514.1209 ],\n",
       "       [608.3549 ],\n",
       "       [416.04272],\n",
       "       [409.92975],\n",
       "       [458.68533],\n",
       "       [349.27332],\n",
       "       [510.56403],\n",
       "       [707.5175 ],\n",
       "       [440.26587],\n",
       "       [509.05676],\n",
       "       [565.41046],\n",
       "       [462.5465 ],\n",
       "       [518.456  ],\n",
       "       [563.0043 ],\n",
       "       [609.78046],\n",
       "       [568.81934],\n",
       "       [482.39926],\n",
       "       [500.1949 ],\n",
       "       [362.6789 ],\n",
       "       [584.825  ],\n",
       "       [449.02655],\n",
       "       [399.43866],\n",
       "       [637.9725 ],\n",
       "       [482.32343],\n",
       "       [588.6585 ],\n",
       "       [647.09155],\n",
       "       [411.47086],\n",
       "       [339.825  ],\n",
       "       [422.51996],\n",
       "       [533.8692 ],\n",
       "       [432.43393],\n",
       "       [369.9384 ],\n",
       "       [497.89066],\n",
       "       [496.01236]], dtype=float32)"
      ]
     },
     "execution_count": 19,
     "metadata": {},
     "output_type": "execute_result"
    }
   ],
   "source": [
    "test_predictions"
   ]
  },
  {
   "cell_type": "code",
   "execution_count": 20,
   "metadata": {},
   "outputs": [
    {
     "data": {
      "text/plain": [
       "0      404.374634\n",
       "1      622.210571\n",
       "2      590.874451\n",
       "3      570.966736\n",
       "4      365.721741\n",
       "          ...    \n",
       "325    533.869202\n",
       "326    432.433929\n",
       "327    369.938385\n",
       "328    497.890656\n",
       "329    496.012360\n",
       "Length: 330, dtype: float32"
      ]
     },
     "execution_count": 20,
     "metadata": {},
     "output_type": "execute_result"
    }
   ],
   "source": [
    "# Numpy array -> Pandas Series\n",
    "test_predictions = pd.Series(test_predictions.reshape(330,))\n",
    "test_predictions"
   ]
  },
  {
   "cell_type": "code",
   "execution_count": 21,
   "metadata": {},
   "outputs": [],
   "source": [
    "pred_df = pd.DataFrame(y_test,columns=['Test True Y'])"
   ]
  },
  {
   "cell_type": "code",
   "execution_count": 22,
   "metadata": {},
   "outputs": [],
   "source": [
    "pred_df = pd.concat([pred_df,test_predictions], axis=1)"
   ]
  },
  {
   "cell_type": "code",
   "execution_count": 23,
   "metadata": {},
   "outputs": [
    {
     "data": {
      "text/html": [
       "<div>\n",
       "<style scoped>\n",
       "    .dataframe tbody tr th:only-of-type {\n",
       "        vertical-align: middle;\n",
       "    }\n",
       "\n",
       "    .dataframe tbody tr th {\n",
       "        vertical-align: top;\n",
       "    }\n",
       "\n",
       "    .dataframe thead th {\n",
       "        text-align: right;\n",
       "    }\n",
       "</style>\n",
       "<table border=\"1\" class=\"dataframe\">\n",
       "  <thead>\n",
       "    <tr style=\"text-align: right;\">\n",
       "      <th></th>\n",
       "      <th>Test True Y</th>\n",
       "      <th>Model Predictions</th>\n",
       "    </tr>\n",
       "  </thead>\n",
       "  <tbody>\n",
       "    <tr>\n",
       "      <td>0</td>\n",
       "      <td>402.296319</td>\n",
       "      <td>404.374634</td>\n",
       "    </tr>\n",
       "    <tr>\n",
       "      <td>1</td>\n",
       "      <td>624.156198</td>\n",
       "      <td>622.210571</td>\n",
       "    </tr>\n",
       "    <tr>\n",
       "      <td>2</td>\n",
       "      <td>582.455066</td>\n",
       "      <td>590.874451</td>\n",
       "    </tr>\n",
       "    <tr>\n",
       "      <td>3</td>\n",
       "      <td>578.588606</td>\n",
       "      <td>570.966736</td>\n",
       "    </tr>\n",
       "    <tr>\n",
       "      <td>4</td>\n",
       "      <td>371.224104</td>\n",
       "      <td>365.721741</td>\n",
       "    </tr>\n",
       "    <tr>\n",
       "      <td>...</td>\n",
       "      <td>...</td>\n",
       "      <td>...</td>\n",
       "    </tr>\n",
       "    <tr>\n",
       "      <td>325</td>\n",
       "      <td>535.543676</td>\n",
       "      <td>533.869202</td>\n",
       "    </tr>\n",
       "    <tr>\n",
       "      <td>326</td>\n",
       "      <td>425.843651</td>\n",
       "      <td>432.433929</td>\n",
       "    </tr>\n",
       "    <tr>\n",
       "      <td>327</td>\n",
       "      <td>368.920095</td>\n",
       "      <td>369.938385</td>\n",
       "    </tr>\n",
       "    <tr>\n",
       "      <td>328</td>\n",
       "      <td>505.631884</td>\n",
       "      <td>497.890656</td>\n",
       "    </tr>\n",
       "    <tr>\n",
       "      <td>329</td>\n",
       "      <td>489.794598</td>\n",
       "      <td>496.012360</td>\n",
       "    </tr>\n",
       "  </tbody>\n",
       "</table>\n",
       "<p>330 rows × 2 columns</p>\n",
       "</div>"
      ],
      "text/plain": [
       "     Test True Y  Model Predictions\n",
       "0     402.296319         404.374634\n",
       "1     624.156198         622.210571\n",
       "2     582.455066         590.874451\n",
       "3     578.588606         570.966736\n",
       "4     371.224104         365.721741\n",
       "..           ...                ...\n",
       "325   535.543676         533.869202\n",
       "326   425.843651         432.433929\n",
       "327   368.920095         369.938385\n",
       "328   505.631884         497.890656\n",
       "329   489.794598         496.012360\n",
       "\n",
       "[330 rows x 2 columns]"
      ]
     },
     "execution_count": 23,
     "metadata": {},
     "output_type": "execute_result"
    }
   ],
   "source": [
    "pred_df.columns = ['Test True Y','Model Predictions']\n",
    "pred_df"
   ]
  },
  {
   "cell_type": "code",
   "execution_count": 24,
   "metadata": {},
   "outputs": [
    {
     "data": {
      "text/plain": [
       "<matplotlib.axes._subplots.AxesSubplot at 0x2855ea3e848>"
      ]
     },
     "execution_count": 24,
     "metadata": {},
     "output_type": "execute_result"
    },
    {
     "data": {
      "image/png": "[encoded data removed]",
      "text/plain": [
       "<Figure size 432x288 with 1 Axes>"
      ]
     },
     "metadata": {
      "needs_background": "light"
     },
     "output_type": "display_data"
    }
   ],
   "source": [
    "sns.scatterplot(x='Test True Y', y='Model Predictions', data=pred_df)"
   ]
  },
  {
   "cell_type": "code",
   "execution_count": 26,
   "metadata": {},
   "outputs": [
    {
     "data": {
      "text/plain": [
       "4.065814791231652"
      ]
     },
     "execution_count": 26,
     "metadata": {},
     "output_type": "execute_result"
    }
   ],
   "source": [
    "mean_absolute_error(pred_df['Test True Y'], pred_df['Model Predictions'])"
   ]
  },
  {
   "cell_type": "code",
   "execution_count": 28,
   "metadata": {},
   "outputs": [
    {
     "data": {
      "text/html": [
       "<div>\n",
       "<style scoped>\n",
       "    .dataframe tbody tr th:only-of-type {\n",
       "        vertical-align: middle;\n",
       "    }\n",
       "\n",
       "    .dataframe tbody tr th {\n",
       "        vertical-align: top;\n",
       "    }\n",
       "\n",
       "    .dataframe thead th {\n",
       "        text-align: right;\n",
       "    }\n",
       "</style>\n",
       "<table border=\"1\" class=\"dataframe\">\n",
       "  <thead>\n",
       "    <tr style=\"text-align: right;\">\n",
       "      <th></th>\n",
       "      <th>price</th>\n",
       "      <th>feature1</th>\n",
       "      <th>feature2</th>\n",
       "    </tr>\n",
       "  </thead>\n",
       "  <tbody>\n",
       "    <tr>\n",
       "      <td>count</td>\n",
       "      <td>1000.000000</td>\n",
       "      <td>1000.000000</td>\n",
       "      <td>1000.000000</td>\n",
       "    </tr>\n",
       "    <tr>\n",
       "      <td>mean</td>\n",
       "      <td>498.673029</td>\n",
       "      <td>1000.014171</td>\n",
       "      <td>999.979847</td>\n",
       "    </tr>\n",
       "    <tr>\n",
       "      <td>std</td>\n",
       "      <td>93.785431</td>\n",
       "      <td>0.974018</td>\n",
       "      <td>0.948330</td>\n",
       "    </tr>\n",
       "    <tr>\n",
       "      <td>min</td>\n",
       "      <td>223.346793</td>\n",
       "      <td>997.058347</td>\n",
       "      <td>996.995651</td>\n",
       "    </tr>\n",
       "    <tr>\n",
       "      <td>25%</td>\n",
       "      <td>433.025732</td>\n",
       "      <td>999.332068</td>\n",
       "      <td>999.316106</td>\n",
       "    </tr>\n",
       "    <tr>\n",
       "      <td>50%</td>\n",
       "      <td>502.382117</td>\n",
       "      <td>1000.009915</td>\n",
       "      <td>1000.002243</td>\n",
       "    </tr>\n",
       "    <tr>\n",
       "      <td>75%</td>\n",
       "      <td>564.921588</td>\n",
       "      <td>1000.637580</td>\n",
       "      <td>1000.645380</td>\n",
       "    </tr>\n",
       "    <tr>\n",
       "      <td>max</td>\n",
       "      <td>774.407854</td>\n",
       "      <td>1003.207934</td>\n",
       "      <td>1002.666308</td>\n",
       "    </tr>\n",
       "  </tbody>\n",
       "</table>\n",
       "</div>"
      ],
      "text/plain": [
       "             price     feature1     feature2\n",
       "count  1000.000000  1000.000000  1000.000000\n",
       "mean    498.673029  1000.014171   999.979847\n",
       "std      93.785431     0.974018     0.948330\n",
       "min     223.346793   997.058347   996.995651\n",
       "25%     433.025732   999.332068   999.316106\n",
       "50%     502.382117  1000.009915  1000.002243\n",
       "75%     564.921588  1000.637580  1000.645380\n",
       "max     774.407854  1003.207934  1002.666308"
      ]
     },
     "execution_count": 28,
     "metadata": {},
     "output_type": "execute_result"
    }
   ],
   "source": [
    "df.describe()\n",
    "\n",
    "# See that our MAE is around 4, mean price = 400 which means that\n",
    "# Error of price prediction is just about 1% (4/400) -> Pretty Good"
   ]
  },
  {
   "cell_type": "markdown",
   "metadata": {},
   "source": [
    "# 5. Predict on new set of data "
   ]
  },
  {
   "cell_type": "code",
   "execution_count": 30,
   "metadata": {},
   "outputs": [],
   "source": [
    "new_gem = [[998,1000]]"
   ]
  },
  {
   "cell_type": "code",
   "execution_count": 31,
   "metadata": {},
   "outputs": [],
   "source": [
    "new_gem = scaler.transform(new_gem)"
   ]
  },
  {
   "cell_type": "code",
   "execution_count": 32,
   "metadata": {},
   "outputs": [
    {
     "data": {
      "text/plain": [
       "array([[418.6949]], dtype=float32)"
      ]
     },
     "execution_count": 32,
     "metadata": {},
     "output_type": "execute_result"
    }
   ],
   "source": [
    "model.predict(new_gem)"
   ]
  },
  {
   "cell_type": "code",
   "execution_count": null,
   "metadata": {},
   "outputs": [],
   "source": []
  },
  {
   "cell_type": "markdown",
   "metadata": {},
   "source": [
    "# 6. Save - Load a model"
   ]
  },
  {
   "cell_type": "code",
   "execution_count": 33,
   "metadata": {},
   "outputs": [],
   "source": [
    "from tensorflow.keras.models import load_model"
   ]
  },
  {
   "cell_type": "code",
   "execution_count": 34,
   "metadata": {},
   "outputs": [],
   "source": [
    "# model.save('my_gem_model.h5')\n",
    "# later_model = load_model('my_gem_model.h5')\n",
    "# later_model.predict(new_gem)"
   ]
  },
  {
   "cell_type": "code",
   "execution_count": null,
   "metadata": {},
   "outputs": [],
   "source": []
  },
  {
   "cell_type": "code",
   "execution_count": null,
   "metadata": {},
   "outputs": [],
   "source": []
  },
  {
   "cell_type": "code",
   "execution_count": null,
   "metadata": {},
   "outputs": [],
   "source": []
  },
  {
   "cell_type": "markdown",
   "metadata": {},
   "source": [
    "# -- The second section is from Keras website and Youtube --\n",
    "\n",
    "##### https://keras.io/guides/sequential_model/#what-to-do-once-you-have-a-model \n",
    "#### Keras with TensorFlow Course - Python Deep Learning and Neural Networks for Beginners Tutorial\n",
    "##### link : https://www.youtube.com/watch?v=qFJeN9V1ZsI&ab_channel=freeCodeCamp.org\n"
   ]
  },
  {
   "cell_type": "code",
   "execution_count": 1,
   "metadata": {},
   "outputs": [],
   "source": [
    "import numpy as np\n",
    "import tensorflow as tf\n",
    "from tensorflow import keras\n",
    "from tensorflow.keras import layers"
   ]
  },
  {
   "cell_type": "markdown",
   "metadata": {},
   "source": [
    "### The Functional API \n",
    "###### Functional API is a way to create models that are more flexible than the tf.keras.Sequential API"
   ]
  },
  {
   "cell_type": "code",
   "execution_count": 2,
   "metadata": {},
   "outputs": [],
   "source": [
    "inputs = keras.Input(shape=(784,)) \n",
    "# The shape of the data is set as a 784-dimensional vector. \n",
    "# The batch size is always omitted since only the shape of each sample is specified"
   ]
  },
  {
   "cell_type": "code",
   "execution_count": 3,
   "metadata": {},
   "outputs": [
    {
     "data": {
      "text/plain": [
       "TensorShape([None, 784])"
      ]
     },
     "execution_count": 3,
     "metadata": {},
     "output_type": "execute_result"
    }
   ],
   "source": [
    "inputs.shape"
   ]
  },
  {
   "cell_type": "code",
   "execution_count": 4,
   "metadata": {},
   "outputs": [],
   "source": [
    "dense = layers.Dense(64,activation=\"relu\")\n",
    "x = dense(inputs)"
   ]
  },
  {
   "cell_type": "code",
   "execution_count": 6,
   "metadata": {},
   "outputs": [],
   "source": [
    "x = layers.Dense(64, activation=\"relu\")(x)\n",
    "x = layers.Dense(32, activation=\"relu\")(x)\n",
    "\n",
    "# Output Layer\n",
    "outputs = layers.Dense(10)(x)"
   ]
  },
  {
   "cell_type": "code",
   "execution_count": 7,
   "metadata": {},
   "outputs": [],
   "source": [
    "model = keras.Model(inputs=inputs, outputs=outputs, name=\"mnist_model\")"
   ]
  },
  {
   "cell_type": "code",
   "execution_count": 9,
   "metadata": {},
   "outputs": [
    {
     "name": "stdout",
     "output_type": "stream",
     "text": [
      "Model: \"mnist_model\"\n",
      "_________________________________________________________________\n",
      "Layer (type)                 Output Shape              Param #   \n",
      "=================================================================\n",
      "input_1 (InputLayer)         [(None, 784)]             0         \n",
      "_________________________________________________________________\n",
      "dense (Dense)                (None, 64)                50240     \n",
      "_________________________________________________________________\n",
      "dense_1 (Dense)              (None, 64)                4160      \n",
      "_________________________________________________________________\n",
      "dense_2 (Dense)              (None, 64)                4160      \n",
      "_________________________________________________________________\n",
      "dense_3 (Dense)              (None, 32)                2080      \n",
      "_________________________________________________________________\n",
      "dense_4 (Dense)              (None, 10)                330       \n",
      "=================================================================\n",
      "Total params: 60,970\n",
      "Trainable params: 60,970\n",
      "Non-trainable params: 0\n",
      "_________________________________________________________________\n"
     ]
    }
   ],
   "source": [
    "model.summary()"
   ]
  },
  {
   "cell_type": "code",
   "execution_count": null,
   "metadata": {},
   "outputs": [],
   "source": []
  },
  {
   "cell_type": "code",
   "execution_count": null,
   "metadata": {},
   "outputs": [],
   "source": []
  }
 ],
 "metadata": {
  "kernelspec": {
   "display_name": "Python 3",
   "language": "python",
   "name": "python3"
  },
  "language_info": {
   "codemirror_mode": {
    "name": "ipython",
    "version": 3
   },
   "file_extension": ".py",
   "mimetype": "text/x-python",
   "name": "python",
   "nbconvert_exporter": "python",
   "pygments_lexer": "ipython3",
   "version": "3.7.4"
  }
 },
 "nbformat": 4,
 "nbformat_minor": 2
}
