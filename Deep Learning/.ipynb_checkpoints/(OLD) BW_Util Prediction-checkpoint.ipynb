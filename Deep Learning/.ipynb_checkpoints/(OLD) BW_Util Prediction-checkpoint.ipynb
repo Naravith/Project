{
 "cells": [
  {
   "cell_type": "markdown",
   "metadata": {},
   "source": [
    "## LSTM "
   ]
  },
  {
   "cell_type": "code",
   "execution_count": 26,
   "metadata": {},
   "outputs": [],
   "source": [
    "import numpy as np\n",
    "import pandas as pd\n",
    "\n",
    "import math\n",
    "\n",
    "from sklearn.metrics import mean_squared_error\n",
    "from sklearn.preprocessing import MinMaxScaler\n",
    "\n",
    "import tensorflow as tf\n",
    "from tensorflow.keras.models import Sequential\n",
    "from tensorflow.keras.layers import Dense\n",
    "from tensorflow.keras.layers import LSTM\n",
    "\n",
    "from sklearn.tree import DecisionTreeRegressor\n",
    "from sklearn.linear_model import LinearRegression\n",
    "from sklearn.model_selection import train_test_split"
   ]
  },
  {
   "cell_type": "code",
   "execution_count": null,
   "metadata": {},
   "outputs": [],
   "source": []
  },
  {
   "cell_type": "code",
   "execution_count": 27,
   "metadata": {},
   "outputs": [
    {
     "data": {
      "text/html": [
       "<div>\n",
       "<style scoped>\n",
       "    .dataframe tbody tr th:only-of-type {\n",
       "        vertical-align: middle;\n",
       "    }\n",
       "\n",
       "    .dataframe tbody tr th {\n",
       "        vertical-align: top;\n",
       "    }\n",
       "\n",
       "    .dataframe thead th {\n",
       "        text-align: right;\n",
       "    }\n",
       "</style>\n",
       "<table border=\"1\" class=\"dataframe\">\n",
       "  <thead>\n",
       "    <tr style=\"text-align: right;\">\n",
       "      <th></th>\n",
       "      <th>Timestamp</th>\n",
       "      <th>Tx_Packet</th>\n",
       "      <th>Rx_Packet</th>\n",
       "      <th>BW_Utilization</th>\n",
       "    </tr>\n",
       "  </thead>\n",
       "  <tbody>\n",
       "    <tr>\n",
       "      <td>0</td>\n",
       "      <td>2020-10-27 11:44:04</td>\n",
       "      <td>37</td>\n",
       "      <td>45</td>\n",
       "      <td>0.004477</td>\n",
       "    </tr>\n",
       "    <tr>\n",
       "      <td>1</td>\n",
       "      <td>2020-10-27 11:45:54</td>\n",
       "      <td>20</td>\n",
       "      <td>0</td>\n",
       "      <td>0.001142</td>\n",
       "    </tr>\n",
       "    <tr>\n",
       "      <td>2</td>\n",
       "      <td>2020-10-27 11:45:55</td>\n",
       "      <td>773</td>\n",
       "      <td>244</td>\n",
       "      <td>0.181570</td>\n",
       "    </tr>\n",
       "    <tr>\n",
       "      <td>3</td>\n",
       "      <td>2020-10-27 11:45:56</td>\n",
       "      <td>1319</td>\n",
       "      <td>2243</td>\n",
       "      <td>0.601182</td>\n",
       "    </tr>\n",
       "    <tr>\n",
       "      <td>4</td>\n",
       "      <td>2020-10-27 11:45:57</td>\n",
       "      <td>1307</td>\n",
       "      <td>2314</td>\n",
       "      <td>0.612060</td>\n",
       "    </tr>\n",
       "    <tr>\n",
       "      <td>...</td>\n",
       "      <td>...</td>\n",
       "      <td>...</td>\n",
       "      <td>...</td>\n",
       "      <td>...</td>\n",
       "    </tr>\n",
       "    <tr>\n",
       "      <td>274</td>\n",
       "      <td>2020-10-27 11:51:49</td>\n",
       "      <td>265</td>\n",
       "      <td>1</td>\n",
       "      <td>0.164200</td>\n",
       "    </tr>\n",
       "    <tr>\n",
       "      <td>275</td>\n",
       "      <td>2020-10-27 11:51:50</td>\n",
       "      <td>261</td>\n",
       "      <td>0</td>\n",
       "      <td>0.153910</td>\n",
       "    </tr>\n",
       "    <tr>\n",
       "      <td>276</td>\n",
       "      <td>2020-10-27 11:51:51</td>\n",
       "      <td>254</td>\n",
       "      <td>1</td>\n",
       "      <td>0.140826</td>\n",
       "    </tr>\n",
       "    <tr>\n",
       "      <td>277</td>\n",
       "      <td>2020-10-27 11:51:52</td>\n",
       "      <td>234</td>\n",
       "      <td>0</td>\n",
       "      <td>0.148933</td>\n",
       "    </tr>\n",
       "    <tr>\n",
       "      <td>278</td>\n",
       "      <td>2020-10-27 11:51:53</td>\n",
       "      <td>101</td>\n",
       "      <td>2</td>\n",
       "      <td>0.047742</td>\n",
       "    </tr>\n",
       "  </tbody>\n",
       "</table>\n",
       "<p>279 rows × 4 columns</p>\n",
       "</div>"
      ],
      "text/plain": [
       "               Timestamp  Tx_Packet  Rx_Packet  BW_Utilization\n",
       "0    2020-10-27 11:44:04         37         45        0.004477\n",
       "1    2020-10-27 11:45:54         20          0        0.001142\n",
       "2    2020-10-27 11:45:55        773        244        0.181570\n",
       "3    2020-10-27 11:45:56       1319       2243        0.601182\n",
       "4    2020-10-27 11:45:57       1307       2314        0.612060\n",
       "..                   ...        ...        ...             ...\n",
       "274  2020-10-27 11:51:49        265          1        0.164200\n",
       "275  2020-10-27 11:51:50        261          0        0.153910\n",
       "276  2020-10-27 11:51:51        254          1        0.140826\n",
       "277  2020-10-27 11:51:52        234          0        0.148933\n",
       "278  2020-10-27 11:51:53        101          2        0.047742\n",
       "\n",
       "[279 rows x 4 columns]"
      ]
     },
     "execution_count": 27,
     "metadata": {},
     "output_type": "execute_result"
    }
   ],
   "source": [
    "df = pd.read_csv('C:\\\\Users\\\\Naravith\\\\Desktop\\\\ปี4\\\\Project - github\\\\Project\\\\RYU\\\\link4.csv')\n",
    "df"
   ]
  },
  {
   "cell_type": "code",
   "execution_count": 28,
   "metadata": {},
   "outputs": [],
   "source": [
    "# Because we will predict BW Util\n",
    "\n",
    "df1 = df.reset_index()['BW_Utilization']"
   ]
  },
  {
   "cell_type": "code",
   "execution_count": 29,
   "metadata": {},
   "outputs": [
    {
     "data": {
      "text/plain": [
       "[<matplotlib.lines.Line2D at 0x24cdb229748>]"
      ]
     },
     "execution_count": 29,
     "metadata": {},
     "output_type": "execute_result"
    },
    {
     "data": {
      "image/png": "[encoded data removed]",
      "text/plain": [
       "<Figure size 432x288 with 1 Axes>"
      ]
     },
     "metadata": {
      "needs_background": "light"
     },
     "output_type": "display_data"
    }
   ],
   "source": [
    "import matplotlib.pyplot as plt\n",
    "plt.plot(df1)"
   ]
  },
  {
   "cell_type": "code",
   "execution_count": 30,
   "metadata": {},
   "outputs": [
    {
     "data": {
      "text/plain": [
       "array([[0.00445695],\n",
       "       [0.        ],\n",
       "       [0.24115216],\n",
       "       [0.80198687],\n",
       "       [0.81652623],\n",
       "       [0.82492642],\n",
       "       [0.83265879],\n",
       "       [0.79893885],\n",
       "       [0.84536329],\n",
       "       [0.82974079],\n",
       "       [0.82441962],\n",
       "       [0.83048079],\n",
       "       [0.83726749],\n",
       "       [0.84499772],\n",
       "       [0.82135824],\n",
       "       [0.8431811 ],\n",
       "       [0.81406638],\n",
       "       [0.8562063 ],\n",
       "       [0.774825  ],\n",
       "       [0.79559837],\n",
       "       [0.74804664],\n",
       "       [0.86527195],\n",
       "       [0.84732511],\n",
       "       [0.82651574],\n",
       "       [0.83170648],\n",
       "       [0.8381839 ],\n",
       "       [0.83505838],\n",
       "       [0.81122454],\n",
       "       [0.82268305],\n",
       "       [0.82736139],\n",
       "       [0.80978094],\n",
       "       [0.84317886],\n",
       "       [0.81939468],\n",
       "       [0.81868731],\n",
       "       [0.82671326],\n",
       "       [0.82235654],\n",
       "       [0.8208542 ],\n",
       "       [0.81949747],\n",
       "       [0.82397635],\n",
       "       [0.83431063],\n",
       "       [0.80452962],\n",
       "       [0.81222509],\n",
       "       [0.83546045],\n",
       "       [0.84444035],\n",
       "       [0.83084758],\n",
       "       [0.81093117],\n",
       "       [0.81371172],\n",
       "       [0.78749502],\n",
       "       [0.77240899],\n",
       "       [0.808579  ],\n",
       "       [0.76205208],\n",
       "       [0.7611219 ],\n",
       "       [0.53042964],\n",
       "       [0.54075097],\n",
       "       [0.54218978],\n",
       "       [0.53659798],\n",
       "       [0.5255803 ],\n",
       "       [0.54278458],\n",
       "       [0.52893882],\n",
       "       [0.55179955],\n",
       "       [0.53757354],\n",
       "       [0.52925585],\n",
       "       [0.50988468],\n",
       "       [0.4840413 ],\n",
       "       [0.54694256],\n",
       "       [0.52835126],\n",
       "       [0.5345191 ],\n",
       "       [0.54931563],\n",
       "       [0.53010252],\n",
       "       [0.54142102],\n",
       "       [0.51844231],\n",
       "       [0.52382078],\n",
       "       [0.53271125],\n",
       "       [0.5205523 ],\n",
       "       [0.51732766],\n",
       "       [0.52373299],\n",
       "       [0.52374257],\n",
       "       [0.51257683],\n",
       "       [0.52445505],\n",
       "       [0.51326941],\n",
       "       [0.52779613],\n",
       "       [0.52721153],\n",
       "       [0.49402856],\n",
       "       [0.52473628],\n",
       "       [0.48935278],\n",
       "       [0.66813311],\n",
       "       [0.91038575],\n",
       "       [0.96193791],\n",
       "       [0.96425388],\n",
       "       [0.99454485],\n",
       "       [0.98424463],\n",
       "       [1.        ],\n",
       "       [0.86767439],\n",
       "       [0.99860819],\n",
       "       [0.91620841],\n",
       "       [0.93614531],\n",
       "       [0.89943333],\n",
       "       [0.8223337 ],\n",
       "       [0.92032723],\n",
       "       [0.88762903],\n",
       "       [0.91758369],\n",
       "       [0.8455503 ],\n",
       "       [0.99056552],\n",
       "       [0.83203259],\n",
       "       [0.78919856],\n",
       "       [0.80863478],\n",
       "       [0.81806855],\n",
       "       [0.79568586],\n",
       "       [0.80852934],\n",
       "       [0.8962922 ],\n",
       "       [0.84266778],\n",
       "       [0.7609355 ],\n",
       "       [0.79045402],\n",
       "       [0.77335029],\n",
       "       [0.68103115],\n",
       "       [0.66923491],\n",
       "       [0.64710716],\n",
       "       [0.62803181],\n",
       "       [0.74967757],\n",
       "       [0.64009072],\n",
       "       [0.550747  ],\n",
       "       [0.55416926],\n",
       "       [0.50743329],\n",
       "       [0.51554929],\n",
       "       [0.55193813],\n",
       "       [0.53478442],\n",
       "       [0.52680232],\n",
       "       [0.5229268 ],\n",
       "       [0.52456946],\n",
       "       [0.53802629],\n",
       "       [0.29621887],\n",
       "       [0.31862776],\n",
       "       [0.27610871],\n",
       "       [0.28008253],\n",
       "       [0.27352955],\n",
       "       [0.23032078],\n",
       "       [0.20850566],\n",
       "       [0.18540969],\n",
       "       [0.17107346],\n",
       "       [0.19036345],\n",
       "       [0.21437054],\n",
       "       [0.18931325],\n",
       "       [0.202243  ],\n",
       "       [0.19884858],\n",
       "       [0.21871594],\n",
       "       [0.01166316],\n",
       "       [0.14685366],\n",
       "       [0.68701105],\n",
       "       [0.82165916],\n",
       "       [0.82401816],\n",
       "       [0.82358478],\n",
       "       [0.82270569],\n",
       "       [0.82609521],\n",
       "       [0.81778099],\n",
       "       [0.81880478],\n",
       "       [0.8239424 ],\n",
       "       [0.82189216],\n",
       "       [0.82197455],\n",
       "       [0.82225977],\n",
       "       [0.82997511],\n",
       "       [0.82101154],\n",
       "       [0.82465232],\n",
       "       [0.82576605],\n",
       "       [0.81850407],\n",
       "       [0.82179957],\n",
       "       [0.825179  ],\n",
       "       [0.82569559],\n",
       "       [0.81485288],\n",
       "       [0.8237356 ],\n",
       "       [0.82791244],\n",
       "       [0.82826088],\n",
       "       [0.82158737],\n",
       "       [0.82260535],\n",
       "       [0.82303832],\n",
       "       [0.82516911],\n",
       "       [0.82633913],\n",
       "       [0.8236945 ],\n",
       "       [0.82226303],\n",
       "       [0.82164131],\n",
       "       [0.82205572],\n",
       "       [0.82823059],\n",
       "       [0.8227579 ],\n",
       "       [0.82230667],\n",
       "       [0.82929058],\n",
       "       [0.81847235],\n",
       "       [0.81575543],\n",
       "       [0.81984682],\n",
       "       [0.81794353],\n",
       "       [0.8143052 ],\n",
       "       [0.82362037],\n",
       "       [0.82582162],\n",
       "       [0.78794145],\n",
       "       [0.75649067],\n",
       "       [0.75369177],\n",
       "       [0.75997289],\n",
       "       [0.75794784],\n",
       "       [0.62075739],\n",
       "       [0.53008325],\n",
       "       [0.52978029],\n",
       "       [0.53681926],\n",
       "       [0.53843408],\n",
       "       [0.54427458],\n",
       "       [0.53400445],\n",
       "       [0.52657431],\n",
       "       [0.53520108],\n",
       "       [0.53106839],\n",
       "       [0.538761  ],\n",
       "       [0.41722934],\n",
       "       [0.42455312],\n",
       "       [0.42916977],\n",
       "       [0.43372115],\n",
       "       [0.42665301],\n",
       "       [0.41390121],\n",
       "       [0.42677926],\n",
       "       [0.44709376],\n",
       "       [0.42473137],\n",
       "       [0.42001336],\n",
       "       [0.41397605],\n",
       "       [0.54875469],\n",
       "       [0.8728789 ],\n",
       "       [0.8695941 ],\n",
       "       [0.87765819],\n",
       "       [0.86308252],\n",
       "       [0.82051382],\n",
       "       [0.87502131],\n",
       "       [0.87651295],\n",
       "       [0.86732228],\n",
       "       [0.74858831],\n",
       "       [0.79283465],\n",
       "       [0.85359655],\n",
       "       [0.8093859 ],\n",
       "       [0.8213512 ],\n",
       "       [0.831785  ],\n",
       "       [0.83257691],\n",
       "       [0.84554061],\n",
       "       [0.84292189],\n",
       "       [0.83629703],\n",
       "       [0.91191471],\n",
       "       [0.89322205],\n",
       "       [0.84262842],\n",
       "       [0.8665731 ],\n",
       "       [0.77729861],\n",
       "       [0.80481147],\n",
       "       [0.83417103],\n",
       "       [0.84412699],\n",
       "       [0.82328183],\n",
       "       [0.79971842],\n",
       "       [0.75982064],\n",
       "       [0.80700314],\n",
       "       [0.77274733],\n",
       "       [0.81806824],\n",
       "       [0.83292239],\n",
       "       [0.81517205],\n",
       "       [0.84250361],\n",
       "       [0.853522  ],\n",
       "       [0.85509664],\n",
       "       [0.79855054],\n",
       "       [0.7680693 ],\n",
       "       [0.73066269],\n",
       "       [0.82178866],\n",
       "       [0.72306624],\n",
       "       [0.69879484],\n",
       "       [0.65709289],\n",
       "       [0.53942014],\n",
       "       [0.41664026],\n",
       "       [0.42626104],\n",
       "       [0.39109748],\n",
       "       [0.29802304],\n",
       "       [0.23348974],\n",
       "       [0.19990041],\n",
       "       [0.22517215],\n",
       "       [0.18766601],\n",
       "       [0.19847761],\n",
       "       [0.20119912],\n",
       "       [0.21793566],\n",
       "       [0.20418321],\n",
       "       [0.18669545],\n",
       "       [0.1975305 ],\n",
       "       [0.06228331]])"
      ]
     },
     "execution_count": 30,
     "metadata": {},
     "output_type": "execute_result"
    }
   ],
   "source": [
    "# Scaling data\n",
    "\n",
    "scaler=MinMaxScaler(feature_range=(0,1))\n",
    "df1=scaler.fit_transform(np.array(df1).reshape(-1,1))\n",
    "\n",
    "df1"
   ]
  },
  {
   "cell_type": "code",
   "execution_count": null,
   "metadata": {},
   "outputs": [],
   "source": []
  },
  {
   "cell_type": "markdown",
   "metadata": {},
   "source": [
    "### Train Test Split"
   ]
  },
  {
   "cell_type": "code",
   "execution_count": 31,
   "metadata": {},
   "outputs": [],
   "source": [
    "training_size=int(len(df1)*0.65)\n",
    "test_size=len(df1)-training_size\n",
    "\n",
    "\n",
    "train_data, test_data = df1[0:training_size,:] , df1[training_size:len(df1),:1]"
   ]
  },
  {
   "cell_type": "code",
   "execution_count": 32,
   "metadata": {},
   "outputs": [],
   "source": [
    "import numpy\n",
    "# convert an array of values into a dataset matrix\n",
    "\n",
    "def create_dataset(dataset, time_step=1):\n",
    "\tdataX, dataY = [], []\n",
    "\tfor i in range(len(dataset)-time_step-1):\n",
    "\t\ta = dataset[i:(i+time_step), 0]   ###i=0, 0,1,2,3-----99   100 \n",
    "\t\tdataX.append(a)\n",
    "\t\tdataY.append(dataset[i + time_step, 0])\n",
    "\treturn numpy.array(dataX), numpy.array(dataY)"
   ]
  },
  {
   "cell_type": "code",
   "execution_count": 33,
   "metadata": {},
   "outputs": [],
   "source": [
    "# reshape into X=t,t+1,t+2,t+3 and Y=t+4\n",
    "\n",
    "time_step = 50\n",
    "X_train, y_train = create_dataset(train_data, time_step)\n",
    "X_test, ytest = create_dataset(test_data, time_step)"
   ]
  },
  {
   "cell_type": "code",
   "execution_count": 34,
   "metadata": {},
   "outputs": [
    {
     "data": {
      "text/plain": [
       "(130, 50)"
      ]
     },
     "execution_count": 34,
     "metadata": {},
     "output_type": "execute_result"
    }
   ],
   "source": [
    "X_train.shape"
   ]
  },
  {
   "cell_type": "markdown",
   "metadata": {},
   "source": [
    "### Reshape input to be [samples, timesteps, features] "
   ]
  },
  {
   "cell_type": "code",
   "execution_count": 35,
   "metadata": {},
   "outputs": [],
   "source": [
    "X_train =X_train.reshape(X_train.shape[0],X_train.shape[1] , 1)\n",
    "X_test = X_test.reshape(X_test.shape[0],X_test.shape[1] , 1)"
   ]
  },
  {
   "cell_type": "code",
   "execution_count": 36,
   "metadata": {},
   "outputs": [
    {
     "data": {
      "text/plain": [
       "array([[[0.00445695],\n",
       "        [0.        ],\n",
       "        [0.24115216],\n",
       "        ...,\n",
       "        [0.78749502],\n",
       "        [0.77240899],\n",
       "        [0.808579  ]],\n",
       "\n",
       "       [[0.        ],\n",
       "        [0.24115216],\n",
       "        [0.80198687],\n",
       "        ...,\n",
       "        [0.77240899],\n",
       "        [0.808579  ],\n",
       "        [0.76205208]],\n",
       "\n",
       "       [[0.24115216],\n",
       "        [0.80198687],\n",
       "        [0.81652623],\n",
       "        ...,\n",
       "        [0.808579  ],\n",
       "        [0.76205208],\n",
       "        [0.7611219 ]],\n",
       "\n",
       "       ...,\n",
       "\n",
       "       [[0.5229268 ],\n",
       "        [0.52456946],\n",
       "        [0.53802629],\n",
       "        ...,\n",
       "        [0.82516911],\n",
       "        [0.82633913],\n",
       "        [0.8236945 ]],\n",
       "\n",
       "       [[0.52456946],\n",
       "        [0.53802629],\n",
       "        [0.29621887],\n",
       "        ...,\n",
       "        [0.82633913],\n",
       "        [0.8236945 ],\n",
       "        [0.82226303]],\n",
       "\n",
       "       [[0.53802629],\n",
       "        [0.29621887],\n",
       "        [0.31862776],\n",
       "        ...,\n",
       "        [0.8236945 ],\n",
       "        [0.82226303],\n",
       "        [0.82164131]]])"
      ]
     },
     "execution_count": 36,
     "metadata": {},
     "output_type": "execute_result"
    }
   ],
   "source": [
    "X_train"
   ]
  },
  {
   "cell_type": "markdown",
   "metadata": {},
   "source": [
    "### Creating and Training LSTM Model "
   ]
  },
  {
   "cell_type": "code",
   "execution_count": 37,
   "metadata": {},
   "outputs": [],
   "source": [
    "model=Sequential()\n",
    "model.add(LSTM(120,return_sequences=True,input_shape=(50,1)))\n",
    "model.add(LSTM(100,return_sequences=True))\n",
    "model.add(LSTM(50))\n",
    "model.add(Dense(1))\n",
    "model.compile(loss='mean_squared_error',optimizer='adam')"
   ]
  },
  {
   "cell_type": "code",
   "execution_count": 38,
   "metadata": {},
   "outputs": [
    {
     "name": "stdout",
     "output_type": "stream",
     "text": [
      "Epoch 1/100\n",
      "3/3 [==============================] - 2s 581ms/step - loss: 0.3797 - val_loss: 0.0543\n",
      "Epoch 2/100\n",
      "3/3 [==============================] - 0s 27ms/step - loss: 0.0910 - val_loss: 0.1031\n",
      "Epoch 3/100\n",
      "3/3 [==============================] - 0s 27ms/step - loss: 0.0582 - val_loss: 0.0475\n",
      "Epoch 4/100\n",
      "3/3 [==============================] - 0s 27ms/step - loss: 0.0606 - val_loss: 0.0444\n",
      "Epoch 5/100\n",
      "3/3 [==============================] - 0s 29ms/step - loss: 0.0485 - val_loss: 0.0505\n",
      "Epoch 6/100\n",
      "3/3 [==============================] - 0s 29ms/step - loss: 0.0439 - val_loss: 0.0891\n",
      "Epoch 7/100\n",
      "3/3 [==============================] - 0s 29ms/step - loss: 0.0625 - val_loss: 0.0622\n",
      "Epoch 8/100\n",
      "3/3 [==============================] - 0s 28ms/step - loss: 0.0426 - val_loss: 0.0383\n",
      "Epoch 9/100\n",
      "3/3 [==============================] - 0s 29ms/step - loss: 0.0399 - val_loss: 0.0394\n",
      "Epoch 10/100\n",
      "3/3 [==============================] - 0s 30ms/step - loss: 0.0414 - val_loss: 0.0380\n",
      "Epoch 11/100\n",
      "3/3 [==============================] - 0s 30ms/step - loss: 0.0354 - val_loss: 0.0460\n",
      "Epoch 12/100\n",
      "3/3 [==============================] - 0s 31ms/step - loss: 0.0378 - val_loss: 0.0488\n",
      "Epoch 13/100\n",
      "3/3 [==============================] - 0s 28ms/step - loss: 0.0359 - val_loss: 0.0375\n",
      "Epoch 14/100\n",
      "3/3 [==============================] - 0s 30ms/step - loss: 0.0338 - val_loss: 0.0367\n",
      "Epoch 15/100\n",
      "3/3 [==============================] - 0s 29ms/step - loss: 0.0340 - val_loss: 0.0375\n",
      "Epoch 16/100\n",
      "3/3 [==============================] - 0s 29ms/step - loss: 0.0321 - val_loss: 0.0377\n",
      "Epoch 17/100\n",
      "3/3 [==============================] - 0s 29ms/step - loss: 0.0316 - val_loss: 0.0372\n",
      "Epoch 18/100\n",
      "3/3 [==============================] - 0s 29ms/step - loss: 0.0305 - val_loss: 0.0342\n",
      "Epoch 19/100\n",
      "3/3 [==============================] - 0s 29ms/step - loss: 0.0292 - val_loss: 0.0334\n",
      "Epoch 20/100\n",
      "3/3 [==============================] - 0s 29ms/step - loss: 0.0283 - val_loss: 0.0329\n",
      "Epoch 21/100\n",
      "3/3 [==============================] - 0s 28ms/step - loss: 0.0279 - val_loss: 0.0312\n",
      "Epoch 22/100\n",
      "3/3 [==============================] - 0s 29ms/step - loss: 0.0260 - val_loss: 0.0244\n",
      "Epoch 23/100\n",
      "3/3 [==============================] - 0s 27ms/step - loss: 0.0240 - val_loss: 0.0216\n",
      "Epoch 24/100\n",
      "3/3 [==============================] - 0s 26ms/step - loss: 0.0224 - val_loss: 0.0216\n",
      "Epoch 25/100\n",
      "3/3 [==============================] - 0s 29ms/step - loss: 0.0218 - val_loss: 0.0175\n",
      "Epoch 26/100\n",
      "3/3 [==============================] - 0s 28ms/step - loss: 0.0213 - val_loss: 0.0164\n",
      "Epoch 27/100\n",
      "3/3 [==============================] - 0s 29ms/step - loss: 0.0207 - val_loss: 0.0186\n",
      "Epoch 28/100\n",
      "3/3 [==============================] - 0s 29ms/step - loss: 0.0209 - val_loss: 0.0207\n",
      "Epoch 29/100\n",
      "3/3 [==============================] - 0s 29ms/step - loss: 0.0256 - val_loss: 0.0165\n",
      "Epoch 30/100\n",
      "3/3 [==============================] - 0s 29ms/step - loss: 0.0197 - val_loss: 0.0188\n",
      "Epoch 31/100\n",
      "3/3 [==============================] - 0s 27ms/step - loss: 0.0205 - val_loss: 0.0165\n",
      "Epoch 32/100\n",
      "3/3 [==============================] - 0s 29ms/step - loss: 0.0197 - val_loss: 0.0188\n",
      "Epoch 33/100\n",
      "3/3 [==============================] - 0s 27ms/step - loss: 0.0214 - val_loss: 0.0161\n",
      "Epoch 34/100\n",
      "3/3 [==============================] - 0s 29ms/step - loss: 0.0189 - val_loss: 0.0161\n",
      "Epoch 35/100\n",
      "3/3 [==============================] - 0s 27ms/step - loss: 0.0190 - val_loss: 0.0153\n",
      "Epoch 36/100\n",
      "3/3 [==============================] - 0s 28ms/step - loss: 0.0244 - val_loss: 0.0139\n",
      "Epoch 37/100\n",
      "3/3 [==============================] - 0s 28ms/step - loss: 0.0205 - val_loss: 0.0212\n",
      "Epoch 38/100\n",
      "3/3 [==============================] - 0s 30ms/step - loss: 0.0219 - val_loss: 0.0155\n",
      "Epoch 39/100\n",
      "3/3 [==============================] - 0s 29ms/step - loss: 0.0216 - val_loss: 0.0223\n",
      "Epoch 40/100\n",
      "3/3 [==============================] - 0s 31ms/step - loss: 0.0225 - val_loss: 0.0268\n",
      "Epoch 41/100\n",
      "3/3 [==============================] - 0s 29ms/step - loss: 0.0283 - val_loss: 0.0448\n",
      "Epoch 42/100\n",
      "3/3 [==============================] - 0s 20ms/step - loss: 0.0335 - val_loss: 0.0241\n",
      "Epoch 43/100\n",
      "3/3 [==============================] - 0s 26ms/step - loss: 0.0218 - val_loss: 0.0260\n",
      "Epoch 44/100\n",
      "3/3 [==============================] - 0s 31ms/step - loss: 0.0262 - val_loss: 0.0249\n",
      "Epoch 45/100\n",
      "3/3 [==============================] - 0s 28ms/step - loss: 0.0244 - val_loss: 0.0197\n",
      "Epoch 46/100\n",
      "3/3 [==============================] - 0s 29ms/step - loss: 0.0202 - val_loss: 0.0175\n",
      "Epoch 47/100\n",
      "3/3 [==============================] - 0s 29ms/step - loss: 0.0186 - val_loss: 0.0174\n",
      "Epoch 48/100\n",
      "3/3 [==============================] - 0s 28ms/step - loss: 0.0187 - val_loss: 0.0151\n",
      "Epoch 49/100\n",
      "3/3 [==============================] - 0s 28ms/step - loss: 0.0176 - val_loss: 0.0132\n",
      "Epoch 50/100\n",
      "3/3 [==============================] - 0s 29ms/step - loss: 0.0176 - val_loss: 0.0128\n",
      "Epoch 51/100\n",
      "3/3 [==============================] - 0s 30ms/step - loss: 0.0179 - val_loss: 0.0130\n",
      "Epoch 52/100\n",
      "3/3 [==============================] - 0s 29ms/step - loss: 0.0169 - val_loss: 0.0142\n",
      "Epoch 53/100\n",
      "3/3 [==============================] - 0s 30ms/step - loss: 0.0172 - val_loss: 0.0130\n",
      "Epoch 54/100\n",
      "3/3 [==============================] - 0s 30ms/step - loss: 0.0168 - val_loss: 0.0130\n",
      "Epoch 55/100\n",
      "3/3 [==============================] - 0s 30ms/step - loss: 0.0170 - val_loss: 0.0130\n",
      "Epoch 56/100\n",
      "3/3 [==============================] - 0s 30ms/step - loss: 0.0170 - val_loss: 0.0129\n",
      "Epoch 57/100\n",
      "3/3 [==============================] - 0s 28ms/step - loss: 0.0170 - val_loss: 0.0119\n",
      "Epoch 58/100\n",
      "3/3 [==============================] - 0s 28ms/step - loss: 0.0161 - val_loss: 0.0146\n",
      "Epoch 59/100\n",
      "3/3 [==============================] - 0s 33ms/step - loss: 0.0178 - val_loss: 0.0104\n",
      "Epoch 60/100\n",
      "3/3 [==============================] - 0s 26ms/step - loss: 0.0153 - val_loss: 0.0141\n",
      "Epoch 61/100\n",
      "3/3 [==============================] - 0s 28ms/step - loss: 0.0186 - val_loss: 0.0123\n",
      "Epoch 62/100\n",
      "3/3 [==============================] - 0s 29ms/step - loss: 0.0160 - val_loss: 0.0132\n",
      "Epoch 63/100\n",
      "3/3 [==============================] - 0s 29ms/step - loss: 0.0170 - val_loss: 0.0103\n",
      "Epoch 64/100\n",
      "3/3 [==============================] - 0s 31ms/step - loss: 0.0163 - val_loss: 0.0138\n",
      "Epoch 65/100\n",
      "3/3 [==============================] - 0s 29ms/step - loss: 0.0152 - val_loss: 0.0150\n",
      "Epoch 66/100\n",
      "3/3 [==============================] - 0s 29ms/step - loss: 0.0209 - val_loss: 0.0118\n",
      "Epoch 67/100\n",
      "3/3 [==============================] - 0s 27ms/step - loss: 0.0153 - val_loss: 0.0174\n",
      "Epoch 68/100\n",
      "3/3 [==============================] - 0s 28ms/step - loss: 0.0180 - val_loss: 0.0104\n",
      "Epoch 69/100\n",
      "3/3 [==============================] - 0s 21ms/step - loss: 0.0156 - val_loss: 0.0169\n",
      "Epoch 70/100\n",
      "3/3 [==============================] - 0s 31ms/step - loss: 0.0188 - val_loss: 0.0130\n",
      "Epoch 71/100\n",
      "3/3 [==============================] - 0s 31ms/step - loss: 0.0205 - val_loss: 0.0309\n",
      "Epoch 72/100\n",
      "3/3 [==============================] - 0s 30ms/step - loss: 0.0280 - val_loss: 0.0166\n",
      "Epoch 73/100\n",
      "3/3 [==============================] - 0s 30ms/step - loss: 0.0185 - val_loss: 0.0240\n",
      "Epoch 74/100\n",
      "3/3 [==============================] - 0s 18ms/step - loss: 0.0233 - val_loss: 0.0159\n",
      "Epoch 75/100\n",
      "3/3 [==============================] - 0s 24ms/step - loss: 0.0165 - val_loss: 0.0124\n",
      "Epoch 76/100\n",
      "3/3 [==============================] - 0s 30ms/step - loss: 0.0150 - val_loss: 0.0123\n",
      "Epoch 77/100\n",
      "3/3 [==============================] - 0s 29ms/step - loss: 0.0142 - val_loss: 0.0094\n",
      "Epoch 78/100\n",
      "3/3 [==============================] - 0s 30ms/step - loss: 0.0148 - val_loss: 0.0084\n",
      "Epoch 79/100\n",
      "3/3 [==============================] - 0s 27ms/step - loss: 0.0135 - val_loss: 0.0108\n",
      "Epoch 80/100\n",
      "3/3 [==============================] - 0s 30ms/step - loss: 0.0143 - val_loss: 0.0114\n",
      "Epoch 81/100\n",
      "3/3 [==============================] - 0s 30ms/step - loss: 0.0155 - val_loss: 0.0144\n",
      "Epoch 82/100\n",
      "3/3 [==============================] - 0s 31ms/step - loss: 0.0157 - val_loss: 0.0093\n",
      "Epoch 83/100\n",
      "3/3 [==============================] - 0s 31ms/step - loss: 0.0136 - val_loss: 0.0145\n"
     ]
    },
    {
     "name": "stdout",
     "output_type": "stream",
     "text": [
      "Epoch 84/100\n",
      "3/3 [==============================] - 0s 28ms/step - loss: 0.0166 - val_loss: 0.0105\n",
      "Epoch 85/100\n",
      "3/3 [==============================] - 0s 26ms/step - loss: 0.0131 - val_loss: 0.0126\n",
      "Epoch 86/100\n",
      "3/3 [==============================] - 0s 24ms/step - loss: 0.0154 - val_loss: 0.0125\n",
      "Epoch 87/100\n",
      "3/3 [==============================] - 0s 29ms/step - loss: 0.0143 - val_loss: 0.0110\n",
      "Epoch 88/100\n",
      "3/3 [==============================] - 0s 30ms/step - loss: 0.0139 - val_loss: 0.0103\n",
      "Epoch 89/100\n",
      "3/3 [==============================] - 0s 28ms/step - loss: 0.0133 - val_loss: 0.0107\n",
      "Epoch 90/100\n",
      "3/3 [==============================] - 0s 29ms/step - loss: 0.0167 - val_loss: 0.0110\n",
      "Epoch 91/100\n",
      "3/3 [==============================] - 0s 28ms/step - loss: 0.0172 - val_loss: 0.0087\n",
      "Epoch 92/100\n",
      "3/3 [==============================] - 0s 28ms/step - loss: 0.0137 - val_loss: 0.0089\n",
      "Epoch 93/100\n",
      "3/3 [==============================] - 0s 28ms/step - loss: 0.0135 - val_loss: 0.0080\n",
      "Epoch 94/100\n",
      "3/3 [==============================] - 0s 29ms/step - loss: 0.0141 - val_loss: 0.0177\n",
      "Epoch 95/100\n",
      "3/3 [==============================] - 0s 29ms/step - loss: 0.0234 - val_loss: 0.0126\n",
      "Epoch 96/100\n",
      "3/3 [==============================] - 0s 30ms/step - loss: 0.0171 - val_loss: 0.0259\n",
      "Epoch 97/100\n",
      "3/3 [==============================] - 0s 34ms/step - loss: 0.0249 - val_loss: 0.0239\n",
      "Epoch 98/100\n",
      "3/3 [==============================] - 0s 28ms/step - loss: 0.0213 - val_loss: 0.0120\n",
      "Epoch 99/100\n",
      "3/3 [==============================] - 0s 28ms/step - loss: 0.0146 - val_loss: 0.0086\n",
      "Epoch 100/100\n",
      "3/3 [==============================] - 0s 31ms/step - loss: 0.0130 - val_loss: 0.0076\n"
     ]
    },
    {
     "data": {
      "text/plain": [
       "<tensorflow.python.keras.callbacks.History at 0x24cdb518d48>"
      ]
     },
     "execution_count": 38,
     "metadata": {},
     "output_type": "execute_result"
    }
   ],
   "source": [
    "#Train the model\n",
    "\n",
    "model.fit(X_train,y_train,validation_data=(X_test,ytest),epochs=100,batch_size=64,verbose=1)"
   ]
  },
  {
   "cell_type": "code",
   "execution_count": null,
   "metadata": {},
   "outputs": [],
   "source": []
  },
  {
   "cell_type": "markdown",
   "metadata": {},
   "source": [
    "###  Predicted Test data and plot the output"
   ]
  },
  {
   "cell_type": "code",
   "execution_count": 39,
   "metadata": {},
   "outputs": [],
   "source": [
    "train_predict=model.predict(X_train)\n",
    "test_predict=model.predict(X_test)"
   ]
  },
  {
   "cell_type": "code",
   "execution_count": 40,
   "metadata": {},
   "outputs": [],
   "source": [
    "train_predict=scaler.inverse_transform(train_predict)\n",
    "test_predict=scaler.inverse_transform(test_predict)"
   ]
  },
  {
   "cell_type": "code",
   "execution_count": 41,
   "metadata": {},
   "outputs": [
    {
     "data": {
      "text/plain": [
       "0.19666200078749793"
      ]
     },
     "execution_count": 41,
     "metadata": {},
     "output_type": "execute_result"
    }
   ],
   "source": [
    "math.sqrt(mean_squared_error(y_train,train_predict))"
   ]
  },
  {
   "cell_type": "code",
   "execution_count": 42,
   "metadata": {},
   "outputs": [
    {
     "data": {
      "text/plain": [
       "0.1911378463151398"
      ]
     },
     "execution_count": 42,
     "metadata": {},
     "output_type": "execute_result"
    }
   ],
   "source": [
    "math.sqrt(mean_squared_error(ytest,test_predict))"
   ]
  },
  {
   "cell_type": "code",
   "execution_count": 43,
   "metadata": {},
   "outputs": [
    {
     "data": {
      "image/png": "[encoded data removed]",
      "text/plain": [
       "<Figure size 432x288 with 1 Axes>"
      ]
     },
     "metadata": {
      "needs_background": "light"
     },
     "output_type": "display_data"
    }
   ],
   "source": [
    "### Plotting \n",
    "# shift train predictions for plotting\n",
    "# look back = timestep\n",
    "\n",
    "look_back=50\n",
    "trainPredictPlot = numpy.empty_like(df1)\n",
    "trainPredictPlot[:, :] = np.nan\n",
    "trainPredictPlot[look_back:len(train_predict)+look_back, :] = train_predict\n",
    "\n",
    "# shift test predictions for plotting\n",
    "testPredictPlot = numpy.empty_like(df1)\n",
    "testPredictPlot[:, :] = numpy.nan\n",
    "testPredictPlot[len(train_predict)+(look_back*2)+1:len(df1)-1, :] = test_predict\n",
    "\n",
    "# plot baseline and predictions\n",
    "plt.plot(scaler.inverse_transform(df1))\n",
    "plt.plot(trainPredictPlot)\n",
    "plt.plot(testPredictPlot)\n",
    "plt.show()\n",
    "\n",
    "#ORANGE = Train predicted Data\n",
    "#GREEN = Test predicted Data"
   ]
  },
  {
   "cell_type": "code",
   "execution_count": null,
   "metadata": {},
   "outputs": [],
   "source": []
  },
  {
   "cell_type": "markdown",
   "metadata": {},
   "source": [
    "## Regression and Decision Tree Regressor"
   ]
  },
  {
   "cell_type": "code",
   "execution_count": 19,
   "metadata": {},
   "outputs": [],
   "source": [
    "df_reg = pd.read_csv('C:\\\\Users\\\\Naravith\\\\Desktop\\\\ปี4\\\\Project - github\\\\Project\\\\RYU\\\\link5.csv')"
   ]
  },
  {
   "cell_type": "code",
   "execution_count": 22,
   "metadata": {},
   "outputs": [
    {
     "data": {
      "text/html": [
       "<div>\n",
       "<style scoped>\n",
       "    .dataframe tbody tr th:only-of-type {\n",
       "        vertical-align: middle;\n",
       "    }\n",
       "\n",
       "    .dataframe tbody tr th {\n",
       "        vertical-align: top;\n",
       "    }\n",
       "\n",
       "    .dataframe thead th {\n",
       "        text-align: right;\n",
       "    }\n",
       "</style>\n",
       "<table border=\"1\" class=\"dataframe\">\n",
       "  <thead>\n",
       "    <tr style=\"text-align: right;\">\n",
       "      <th></th>\n",
       "      <th>BW_Utilization</th>\n",
       "    </tr>\n",
       "  </thead>\n",
       "  <tbody>\n",
       "    <tr>\n",
       "      <td>0</td>\n",
       "      <td>4.144287e-05</td>\n",
       "    </tr>\n",
       "    <tr>\n",
       "      <td>1</td>\n",
       "      <td>9.155273e-07</td>\n",
       "    </tr>\n",
       "    <tr>\n",
       "      <td>2</td>\n",
       "      <td>9.155273e-07</td>\n",
       "    </tr>\n",
       "    <tr>\n",
       "      <td>3</td>\n",
       "      <td>9.155273e-07</td>\n",
       "    </tr>\n",
       "    <tr>\n",
       "      <td>4</td>\n",
       "      <td>4.577637e-07</td>\n",
       "    </tr>\n",
       "    <tr>\n",
       "      <td>...</td>\n",
       "      <td>...</td>\n",
       "    </tr>\n",
       "    <tr>\n",
       "      <td>2137</td>\n",
       "      <td>9.155273e-07</td>\n",
       "    </tr>\n",
       "    <tr>\n",
       "      <td>2138</td>\n",
       "      <td>9.155273e-07</td>\n",
       "    </tr>\n",
       "    <tr>\n",
       "      <td>2139</td>\n",
       "      <td>9.155273e-07</td>\n",
       "    </tr>\n",
       "    <tr>\n",
       "      <td>2140</td>\n",
       "      <td>4.577637e-07</td>\n",
       "    </tr>\n",
       "    <tr>\n",
       "      <td>2141</td>\n",
       "      <td>9.155273e-07</td>\n",
       "    </tr>\n",
       "  </tbody>\n",
       "</table>\n",
       "<p>2142 rows × 1 columns</p>\n",
       "</div>"
      ],
      "text/plain": [
       "      BW_Utilization\n",
       "0       4.144287e-05\n",
       "1       9.155273e-07\n",
       "2       9.155273e-07\n",
       "3       9.155273e-07\n",
       "4       4.577637e-07\n",
       "...              ...\n",
       "2137    9.155273e-07\n",
       "2138    9.155273e-07\n",
       "2139    9.155273e-07\n",
       "2140    4.577637e-07\n",
       "2141    9.155273e-07\n",
       "\n",
       "[2142 rows x 1 columns]"
      ]
     },
     "execution_count": 22,
     "metadata": {},
     "output_type": "execute_result"
    }
   ],
   "source": [
    "df_reg = df_reg[['BW_Utilization']]\n",
    "df_reg"
   ]
  },
  {
   "cell_type": "code",
   "execution_count": 24,
   "metadata": {},
   "outputs": [],
   "source": [
    "future_days = 25"
   ]
  },
  {
   "cell_type": "code",
   "execution_count": 27,
   "metadata": {},
   "outputs": [
    {
     "data": {
      "text/html": [
       "<div>\n",
       "<style scoped>\n",
       "    .dataframe tbody tr th:only-of-type {\n",
       "        vertical-align: middle;\n",
       "    }\n",
       "\n",
       "    .dataframe tbody tr th {\n",
       "        vertical-align: top;\n",
       "    }\n",
       "\n",
       "    .dataframe thead th {\n",
       "        text-align: right;\n",
       "    }\n",
       "</style>\n",
       "<table border=\"1\" class=\"dataframe\">\n",
       "  <thead>\n",
       "    <tr style=\"text-align: right;\">\n",
       "      <th></th>\n",
       "      <th>BW_Utilization</th>\n",
       "      <th>Prediction</th>\n",
       "    </tr>\n",
       "  </thead>\n",
       "  <tbody>\n",
       "    <tr>\n",
       "      <td>2112</td>\n",
       "      <td>4.577637e-07</td>\n",
       "      <td>9.155273e-07</td>\n",
       "    </tr>\n",
       "    <tr>\n",
       "      <td>2113</td>\n",
       "      <td>9.155273e-07</td>\n",
       "      <td>9.155273e-07</td>\n",
       "    </tr>\n",
       "    <tr>\n",
       "      <td>2114</td>\n",
       "      <td>9.155273e-07</td>\n",
       "      <td>9.155273e-07</td>\n",
       "    </tr>\n",
       "    <tr>\n",
       "      <td>2115</td>\n",
       "      <td>4.577637e-07</td>\n",
       "      <td>4.577637e-07</td>\n",
       "    </tr>\n",
       "    <tr>\n",
       "      <td>2116</td>\n",
       "      <td>9.155273e-07</td>\n",
       "      <td>9.155273e-07</td>\n",
       "    </tr>\n",
       "    <tr>\n",
       "      <td>2117</td>\n",
       "      <td>9.155273e-07</td>\n",
       "      <td>NaN</td>\n",
       "    </tr>\n",
       "    <tr>\n",
       "      <td>2118</td>\n",
       "      <td>9.155273e-07</td>\n",
       "      <td>NaN</td>\n",
       "    </tr>\n",
       "    <tr>\n",
       "      <td>2119</td>\n",
       "      <td>4.577637e-07</td>\n",
       "      <td>NaN</td>\n",
       "    </tr>\n",
       "    <tr>\n",
       "      <td>2120</td>\n",
       "      <td>9.155273e-07</td>\n",
       "      <td>NaN</td>\n",
       "    </tr>\n",
       "    <tr>\n",
       "      <td>2121</td>\n",
       "      <td>4.577637e-07</td>\n",
       "      <td>NaN</td>\n",
       "    </tr>\n",
       "    <tr>\n",
       "      <td>2122</td>\n",
       "      <td>9.155273e-07</td>\n",
       "      <td>NaN</td>\n",
       "    </tr>\n",
       "    <tr>\n",
       "      <td>2123</td>\n",
       "      <td>4.577637e-07</td>\n",
       "      <td>NaN</td>\n",
       "    </tr>\n",
       "    <tr>\n",
       "      <td>2124</td>\n",
       "      <td>4.577637e-07</td>\n",
       "      <td>NaN</td>\n",
       "    </tr>\n",
       "    <tr>\n",
       "      <td>2125</td>\n",
       "      <td>9.155273e-07</td>\n",
       "      <td>NaN</td>\n",
       "    </tr>\n",
       "    <tr>\n",
       "      <td>2126</td>\n",
       "      <td>4.577637e-07</td>\n",
       "      <td>NaN</td>\n",
       "    </tr>\n",
       "    <tr>\n",
       "      <td>2127</td>\n",
       "      <td>9.155273e-07</td>\n",
       "      <td>NaN</td>\n",
       "    </tr>\n",
       "    <tr>\n",
       "      <td>2128</td>\n",
       "      <td>9.155273e-07</td>\n",
       "      <td>NaN</td>\n",
       "    </tr>\n",
       "    <tr>\n",
       "      <td>2129</td>\n",
       "      <td>4.577637e-07</td>\n",
       "      <td>NaN</td>\n",
       "    </tr>\n",
       "    <tr>\n",
       "      <td>2130</td>\n",
       "      <td>9.155273e-07</td>\n",
       "      <td>NaN</td>\n",
       "    </tr>\n",
       "    <tr>\n",
       "      <td>2131</td>\n",
       "      <td>9.155273e-07</td>\n",
       "      <td>NaN</td>\n",
       "    </tr>\n",
       "    <tr>\n",
       "      <td>2132</td>\n",
       "      <td>9.155273e-07</td>\n",
       "      <td>NaN</td>\n",
       "    </tr>\n",
       "    <tr>\n",
       "      <td>2133</td>\n",
       "      <td>4.577637e-07</td>\n",
       "      <td>NaN</td>\n",
       "    </tr>\n",
       "    <tr>\n",
       "      <td>2134</td>\n",
       "      <td>9.155273e-07</td>\n",
       "      <td>NaN</td>\n",
       "    </tr>\n",
       "    <tr>\n",
       "      <td>2135</td>\n",
       "      <td>9.155273e-07</td>\n",
       "      <td>NaN</td>\n",
       "    </tr>\n",
       "    <tr>\n",
       "      <td>2136</td>\n",
       "      <td>4.577637e-07</td>\n",
       "      <td>NaN</td>\n",
       "    </tr>\n",
       "    <tr>\n",
       "      <td>2137</td>\n",
       "      <td>9.155273e-07</td>\n",
       "      <td>NaN</td>\n",
       "    </tr>\n",
       "    <tr>\n",
       "      <td>2138</td>\n",
       "      <td>9.155273e-07</td>\n",
       "      <td>NaN</td>\n",
       "    </tr>\n",
       "    <tr>\n",
       "      <td>2139</td>\n",
       "      <td>9.155273e-07</td>\n",
       "      <td>NaN</td>\n",
       "    </tr>\n",
       "    <tr>\n",
       "      <td>2140</td>\n",
       "      <td>4.577637e-07</td>\n",
       "      <td>NaN</td>\n",
       "    </tr>\n",
       "    <tr>\n",
       "      <td>2141</td>\n",
       "      <td>9.155273e-07</td>\n",
       "      <td>NaN</td>\n",
       "    </tr>\n",
       "  </tbody>\n",
       "</table>\n",
       "</div>"
      ],
      "text/plain": [
       "      BW_Utilization    Prediction\n",
       "2112    4.577637e-07  9.155273e-07\n",
       "2113    9.155273e-07  9.155273e-07\n",
       "2114    9.155273e-07  9.155273e-07\n",
       "2115    4.577637e-07  4.577637e-07\n",
       "2116    9.155273e-07  9.155273e-07\n",
       "2117    9.155273e-07           NaN\n",
       "2118    9.155273e-07           NaN\n",
       "2119    4.577637e-07           NaN\n",
       "2120    9.155273e-07           NaN\n",
       "2121    4.577637e-07           NaN\n",
       "2122    9.155273e-07           NaN\n",
       "2123    4.577637e-07           NaN\n",
       "2124    4.577637e-07           NaN\n",
       "2125    9.155273e-07           NaN\n",
       "2126    4.577637e-07           NaN\n",
       "2127    9.155273e-07           NaN\n",
       "2128    9.155273e-07           NaN\n",
       "2129    4.577637e-07           NaN\n",
       "2130    9.155273e-07           NaN\n",
       "2131    9.155273e-07           NaN\n",
       "2132    9.155273e-07           NaN\n",
       "2133    4.577637e-07           NaN\n",
       "2134    9.155273e-07           NaN\n",
       "2135    9.155273e-07           NaN\n",
       "2136    4.577637e-07           NaN\n",
       "2137    9.155273e-07           NaN\n",
       "2138    9.155273e-07           NaN\n",
       "2139    9.155273e-07           NaN\n",
       "2140    4.577637e-07           NaN\n",
       "2141    9.155273e-07           NaN"
      ]
     },
     "execution_count": 27,
     "metadata": {},
     "output_type": "execute_result"
    }
   ],
   "source": [
    "df_reg['Prediction'] = df_reg[['BW_Utilization']].shift(-future_days)\n",
    "df_reg.tail(30)"
   ]
  },
  {
   "cell_type": "code",
   "execution_count": 31,
   "metadata": {},
   "outputs": [
    {
     "data": {
      "text/plain": [
       "array([[4.14428711e-05],\n",
       "       [9.15527344e-07],\n",
       "       [9.15527344e-07],\n",
       "       ...,\n",
       "       [9.15527344e-07],\n",
       "       [4.57763672e-07],\n",
       "       [9.15527344e-07]])"
      ]
     },
     "execution_count": 31,
     "metadata": {},
     "output_type": "execute_result"
    }
   ],
   "source": [
    "# Create the feature dataset (X) and convert to numpy array and remove the last 'x' rows days\n",
    "X = np.array(df_reg.drop(['Prediction'],1))[:-future_days]\n",
    "X"
   ]
  },
  {
   "cell_type": "code",
   "execution_count": 30,
   "metadata": {},
   "outputs": [
    {
     "data": {
      "text/plain": [
       "(2117, 1)"
      ]
     },
     "execution_count": 30,
     "metadata": {},
     "output_type": "execute_result"
    }
   ],
   "source": [
    "X.shape"
   ]
  },
  {
   "cell_type": "code",
   "execution_count": 32,
   "metadata": {},
   "outputs": [],
   "source": [
    "# Create target dataset (y), convert to nparray and get all of target value except the last 'x' rows or days\n",
    "y = np.array(df_reg['Prediction'])[:-future_days]"
   ]
  },
  {
   "cell_type": "code",
   "execution_count": 33,
   "metadata": {},
   "outputs": [
    {
     "data": {
      "text/plain": [
       "array([9.15527344e-07, 4.57763672e-07, 9.15527344e-07, ...,\n",
       "       9.15527344e-07, 4.57763672e-07, 9.15527344e-07])"
      ]
     },
     "execution_count": 33,
     "metadata": {},
     "output_type": "execute_result"
    }
   ],
   "source": [
    "y"
   ]
  },
  {
   "cell_type": "code",
   "execution_count": 37,
   "metadata": {},
   "outputs": [],
   "source": [
    "# Split the data into 75% train and 25% test and create the model\n",
    "x_train, x_test, y_train, y_test = train_test_split(X,y,test_size = 0.25)\n",
    "\n",
    "#Create a model\n",
    "tree = DecisionTreeRegressor().fit(x_train, y_train)\n",
    "lr = LinearRegression().fit(x_train, y_train)"
   ]
  },
  {
   "cell_type": "code",
   "execution_count": 42,
   "metadata": {},
   "outputs": [
    {
     "data": {
      "text/plain": [
       "(1587,)"
      ]
     },
     "execution_count": 42,
     "metadata": {},
     "output_type": "execute_result"
    }
   ],
   "source": [
    "y_train.shape"
   ]
  },
  {
   "cell_type": "code",
   "execution_count": null,
   "metadata": {},
   "outputs": [],
   "source": []
  },
  {
   "cell_type": "code",
   "execution_count": 38,
   "metadata": {},
   "outputs": [
    {
     "data": {
      "text/plain": [
       "array([[9.15527344e-07],\n",
       "       [4.57763672e-07],\n",
       "       [4.57763672e-07],\n",
       "       [4.57763672e-07],\n",
       "       [4.57763672e-07],\n",
       "       [4.57763672e-07],\n",
       "       [4.57763672e-07],\n",
       "       [9.15527344e-07],\n",
       "       [9.15527344e-07],\n",
       "       [4.57763672e-07],\n",
       "       [9.15527344e-07],\n",
       "       [9.15527344e-07],\n",
       "       [9.15527344e-07],\n",
       "       [4.57763672e-07],\n",
       "       [9.15527344e-07],\n",
       "       [9.15527344e-07],\n",
       "       [4.57763672e-07],\n",
       "       [9.15527344e-07],\n",
       "       [9.15527344e-07],\n",
       "       [9.15527344e-07],\n",
       "       [4.57763672e-07],\n",
       "       [9.15527344e-07],\n",
       "       [9.15527344e-07],\n",
       "       [4.57763672e-07],\n",
       "       [9.15527344e-07]])"
      ]
     },
     "execution_count": 38,
     "metadata": {},
     "output_type": "execute_result"
    }
   ],
   "source": [
    "# Get the last 'x' rows of feature dataset (Last 25 days)\n",
    "x_future = df_reg.drop(['Prediction'],1)[:-future_days]\n",
    "x_future = x_future.tail(future_days)\n",
    "\n",
    "#convert to np array\n",
    "x_future = np.array(x_future)\n",
    "x_future\n",
    "\n",
    "# X_Future is the input for model prediction"
   ]
  },
  {
   "cell_type": "code",
   "execution_count": 40,
   "metadata": {},
   "outputs": [
    {
     "name": "stdout",
     "output_type": "stream",
     "text": [
      "[0.01466574 0.02428535 0.02428535 0.02428535 0.02428535 0.02428535\n",
      " 0.02428535 0.01466574 0.01466574 0.02428535 0.01466574 0.01466574\n",
      " 0.01466574 0.02428535 0.01466574 0.01466574 0.02428535 0.01466574\n",
      " 0.01466574 0.01466574 0.02428535 0.01466574 0.01466574 0.02428535\n",
      " 0.01466574]\n"
     ]
    }
   ],
   "source": [
    "tree_prediction = tree.predict(x_future)\n",
    "lr_prediction = lr.predict(x_future)\n",
    "\n",
    "print(tree_prediction)"
   ]
  },
  {
   "cell_type": "code",
   "execution_count": 45,
   "metadata": {},
   "outputs": [
    {
     "data": {
      "text/plain": [
       "(25,)"
      ]
     },
     "execution_count": 45,
     "metadata": {},
     "output_type": "execute_result"
    }
   ],
   "source": [
    "tree_prediction.shape"
   ]
  },
  {
   "cell_type": "code",
   "execution_count": 54,
   "metadata": {},
   "outputs": [
    {
     "data": {
      "text/plain": [
       "0.24496949872095922"
      ]
     },
     "execution_count": 54,
     "metadata": {},
     "output_type": "execute_result"
    }
   ],
   "source": [
    "math.sqrt(mean_squared_error(y_test[-25:],tree_prediction))"
   ]
  },
  {
   "cell_type": "code",
   "execution_count": 55,
   "metadata": {},
   "outputs": [
    {
     "data": {
      "text/plain": [
       "0.24239883311060884"
      ]
     },
     "execution_count": 55,
     "metadata": {},
     "output_type": "execute_result"
    }
   ],
   "source": [
    "math.sqrt(mean_squared_error(y_test[-25:],lr_prediction))"
   ]
  },
  {
   "cell_type": "code",
   "execution_count": null,
   "metadata": {},
   "outputs": [],
   "source": []
  },
  {
   "cell_type": "code",
   "execution_count": null,
   "metadata": {},
   "outputs": [],
   "source": []
  },
  {
   "cell_type": "code",
   "execution_count": null,
   "metadata": {},
   "outputs": [],
   "source": []
  },
  {
   "cell_type": "markdown",
   "metadata": {},
   "source": [
    "### Predict the future 30 days "
   ]
  },
  {
   "cell_type": "code",
   "execution_count": null,
   "metadata": {},
   "outputs": [],
   "source": []
  }
 ],
 "metadata": {
  "kernelspec": {
   "display_name": "Python 3",
   "language": "python",
   "name": "python3"
  },
  "language_info": {
   "codemirror_mode": {
    "name": "ipython",
    "version": 3
   },
   "file_extension": ".py",
   "mimetype": "text/x-python",
   "name": "python",
   "nbconvert_exporter": "python",
   "pygments_lexer": "ipython3",
   "version": "3.7.4"
  }
 },
 "nbformat": 4,
 "nbformat_minor": 2
}
