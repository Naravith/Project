{
 "cells": [
  {
   "cell_type": "markdown",
   "metadata": {},
   "source": [
    "## LSTM "
   ]
  },
  {
   "cell_type": "code",
   "execution_count": 35,
   "metadata": {},
   "outputs": [],
   "source": [
    "import numpy as np\n",
    "import pandas as pd\n",
    "\n",
    "import math\n",
    "\n",
    "from sklearn.metrics import mean_squared_error\n",
    "from sklearn.preprocessing import MinMaxScaler\n",
    "\n",
    "import tensorflow as tf\n",
    "from tensorflow.keras.models import Sequential\n",
    "from tensorflow.keras.layers import Dense\n",
    "from tensorflow.keras.layers import LSTM\n",
    "\n",
    "from sklearn.tree import DecisionTreeRegressor\n",
    "from sklearn.linear_model import LinearRegression\n",
    "from sklearn.model_selection import train_test_split"
   ]
  },
  {
   "cell_type": "code",
   "execution_count": null,
   "metadata": {},
   "outputs": [],
   "source": []
  },
  {
   "cell_type": "code",
   "execution_count": 3,
   "metadata": {},
   "outputs": [
    {
     "data": {
      "text/html": [
       "<div>\n",
       "<style scoped>\n",
       "    .dataframe tbody tr th:only-of-type {\n",
       "        vertical-align: middle;\n",
       "    }\n",
       "\n",
       "    .dataframe tbody tr th {\n",
       "        vertical-align: top;\n",
       "    }\n",
       "\n",
       "    .dataframe thead th {\n",
       "        text-align: right;\n",
       "    }\n",
       "</style>\n",
       "<table border=\"1\" class=\"dataframe\">\n",
       "  <thead>\n",
       "    <tr style=\"text-align: right;\">\n",
       "      <th></th>\n",
       "      <th>Timestamp</th>\n",
       "      <th>Tx_Packet</th>\n",
       "      <th>Rx_Packet</th>\n",
       "      <th>BW_Utilization</th>\n",
       "    </tr>\n",
       "  </thead>\n",
       "  <tbody>\n",
       "    <tr>\n",
       "      <td>0</td>\n",
       "      <td>2020-10-23 06:32:39</td>\n",
       "      <td>40</td>\n",
       "      <td>37</td>\n",
       "      <td>4.144287e-05</td>\n",
       "    </tr>\n",
       "    <tr>\n",
       "      <td>1</td>\n",
       "      <td>2020-10-23 06:32:40</td>\n",
       "      <td>1</td>\n",
       "      <td>1</td>\n",
       "      <td>9.155273e-07</td>\n",
       "    </tr>\n",
       "    <tr>\n",
       "      <td>2</td>\n",
       "      <td>2020-10-23 06:32:41</td>\n",
       "      <td>1</td>\n",
       "      <td>1</td>\n",
       "      <td>9.155273e-07</td>\n",
       "    </tr>\n",
       "    <tr>\n",
       "      <td>3</td>\n",
       "      <td>2020-10-23 06:32:42</td>\n",
       "      <td>1</td>\n",
       "      <td>1</td>\n",
       "      <td>9.155273e-07</td>\n",
       "    </tr>\n",
       "    <tr>\n",
       "      <td>4</td>\n",
       "      <td>2020-10-23 06:32:43</td>\n",
       "      <td>0</td>\n",
       "      <td>1</td>\n",
       "      <td>4.577637e-07</td>\n",
       "    </tr>\n",
       "    <tr>\n",
       "      <td>...</td>\n",
       "      <td>...</td>\n",
       "      <td>...</td>\n",
       "      <td>...</td>\n",
       "      <td>...</td>\n",
       "    </tr>\n",
       "    <tr>\n",
       "      <td>2137</td>\n",
       "      <td>2020-10-23 07:38:40</td>\n",
       "      <td>1</td>\n",
       "      <td>1</td>\n",
       "      <td>9.155273e-07</td>\n",
       "    </tr>\n",
       "    <tr>\n",
       "      <td>2138</td>\n",
       "      <td>2020-10-23 07:38:41</td>\n",
       "      <td>1</td>\n",
       "      <td>1</td>\n",
       "      <td>9.155273e-07</td>\n",
       "    </tr>\n",
       "    <tr>\n",
       "      <td>2139</td>\n",
       "      <td>2020-10-23 07:38:42</td>\n",
       "      <td>1</td>\n",
       "      <td>1</td>\n",
       "      <td>9.155273e-07</td>\n",
       "    </tr>\n",
       "    <tr>\n",
       "      <td>2140</td>\n",
       "      <td>2020-10-23 07:38:43</td>\n",
       "      <td>0</td>\n",
       "      <td>1</td>\n",
       "      <td>4.577637e-07</td>\n",
       "    </tr>\n",
       "    <tr>\n",
       "      <td>2141</td>\n",
       "      <td>2020-10-23 07:38:44</td>\n",
       "      <td>1</td>\n",
       "      <td>1</td>\n",
       "      <td>9.155273e-07</td>\n",
       "    </tr>\n",
       "  </tbody>\n",
       "</table>\n",
       "<p>2142 rows × 4 columns</p>\n",
       "</div>"
      ],
      "text/plain": [
       "                Timestamp  Tx_Packet  Rx_Packet  BW_Utilization\n",
       "0     2020-10-23 06:32:39         40         37    4.144287e-05\n",
       "1     2020-10-23 06:32:40          1          1    9.155273e-07\n",
       "2     2020-10-23 06:32:41          1          1    9.155273e-07\n",
       "3     2020-10-23 06:32:42          1          1    9.155273e-07\n",
       "4     2020-10-23 06:32:43          0          1    4.577637e-07\n",
       "...                   ...        ...        ...             ...\n",
       "2137  2020-10-23 07:38:40          1          1    9.155273e-07\n",
       "2138  2020-10-23 07:38:41          1          1    9.155273e-07\n",
       "2139  2020-10-23 07:38:42          1          1    9.155273e-07\n",
       "2140  2020-10-23 07:38:43          0          1    4.577637e-07\n",
       "2141  2020-10-23 07:38:44          1          1    9.155273e-07\n",
       "\n",
       "[2142 rows x 4 columns]"
      ]
     },
     "execution_count": 3,
     "metadata": {},
     "output_type": "execute_result"
    }
   ],
   "source": [
    "df = pd.read_csv('C:\\\\Users\\\\Naravith\\\\Desktop\\\\ปี4\\\\Project - github\\\\Project\\\\RYU\\\\link5.csv')\n",
    "df"
   ]
  },
  {
   "cell_type": "code",
   "execution_count": 4,
   "metadata": {},
   "outputs": [],
   "source": [
    "# Because we will predict BW Util\n",
    "\n",
    "df1 = df.reset_index()['BW_Utilization']"
   ]
  },
  {
   "cell_type": "code",
   "execution_count": 5,
   "metadata": {},
   "outputs": [
    {
     "data": {
      "text/plain": [
       "[<matplotlib.lines.Line2D at 0x159e6fc1b88>]"
      ]
     },
     "execution_count": 5,
     "metadata": {},
     "output_type": "execute_result"
    }
   ],
   "source": [
    "import matplotlib.pyplot as plt\n",
    "plt.plot(df1)"
   ]
  },
  {
   "cell_type": "code",
   "execution_count": 6,
   "metadata": {},
   "outputs": [
    {
     "data": {
      "text/plain": [
       "array([[6.59953703e-05],\n",
       "       [1.45792423e-06],\n",
       "       [1.45792423e-06],\n",
       "       ...,\n",
       "       [1.45792423e-06],\n",
       "       [7.28962117e-07],\n",
       "       [1.45792423e-06]])"
      ]
     },
     "execution_count": 6,
     "metadata": {},
     "output_type": "execute_result"
    }
   ],
   "source": [
    "# Scaling data\n",
    "\n",
    "scaler=MinMaxScaler(feature_range=(0,1))\n",
    "df1=scaler.fit_transform(np.array(df1).reshape(-1,1))\n",
    "\n",
    "df1"
   ]
  },
  {
   "cell_type": "code",
   "execution_count": null,
   "metadata": {},
   "outputs": [],
   "source": []
  },
  {
   "cell_type": "markdown",
   "metadata": {},
   "source": [
    "### Train Test Split"
   ]
  },
  {
   "cell_type": "code",
   "execution_count": 7,
   "metadata": {},
   "outputs": [],
   "source": [
    "training_size=int(len(df1)*0.65)\n",
    "test_size=len(df1)-training_size\n",
    "\n",
    "\n",
    "train_data, test_data = df1[0:training_size,:] , df1[training_size:len(df1),:1]"
   ]
  },
  {
   "cell_type": "code",
   "execution_count": 8,
   "metadata": {},
   "outputs": [],
   "source": [
    "import numpy\n",
    "# convert an array of values into a dataset matrix\n",
    "\n",
    "def create_dataset(dataset, time_step=1):\n",
    "\tdataX, dataY = [], []\n",
    "\tfor i in range(len(dataset)-time_step-1):\n",
    "\t\ta = dataset[i:(i+time_step), 0]   ###i=0, 0,1,2,3-----99   100 \n",
    "\t\tdataX.append(a)\n",
    "\t\tdataY.append(dataset[i + time_step, 0])\n",
    "\treturn numpy.array(dataX), numpy.array(dataY)"
   ]
  },
  {
   "cell_type": "code",
   "execution_count": 9,
   "metadata": {},
   "outputs": [],
   "source": [
    "# reshape into X=t,t+1,t+2,t+3 and Y=t+4\n",
    "\n",
    "time_step = 100\n",
    "X_train, y_train = create_dataset(train_data, time_step)\n",
    "X_test, ytest = create_dataset(test_data, time_step)"
   ]
  },
  {
   "cell_type": "code",
   "execution_count": null,
   "metadata": {},
   "outputs": [],
   "source": []
  },
  {
   "cell_type": "markdown",
   "metadata": {},
   "source": [
    "### Reshape input to be [samples, timesteps, features] "
   ]
  },
  {
   "cell_type": "code",
   "execution_count": 10,
   "metadata": {},
   "outputs": [],
   "source": [
    "X_train =X_train.reshape(X_train.shape[0],X_train.shape[1] , 1)\n",
    "X_test = X_test.reshape(X_test.shape[0],X_test.shape[1] , 1)"
   ]
  },
  {
   "cell_type": "code",
   "execution_count": 11,
   "metadata": {},
   "outputs": [
    {
     "data": {
      "text/plain": [
       "array([[[6.59953703e-05],\n",
       "        [1.45792423e-06],\n",
       "        [1.45792423e-06],\n",
       "        ...,\n",
       "        [7.71548570e-01],\n",
       "        [7.71090053e-01],\n",
       "        [7.64348319e-01]],\n",
       "\n",
       "       [[1.45792423e-06],\n",
       "        [1.45792423e-06],\n",
       "        [1.45792423e-06],\n",
       "        ...,\n",
       "        [7.71090053e-01],\n",
       "        [7.64348319e-01],\n",
       "        [7.68188638e-01]],\n",
       "\n",
       "       [[1.45792423e-06],\n",
       "        [1.45792423e-06],\n",
       "        [7.28962117e-07],\n",
       "        ...,\n",
       "        [7.64348319e-01],\n",
       "        [7.68188638e-01],\n",
       "        [7.64458538e-01]],\n",
       "\n",
       "       ...,\n",
       "\n",
       "       [[8.12241811e-01],\n",
       "        [8.30372848e-01],\n",
       "        [6.91496817e-01],\n",
       "        ...,\n",
       "        [7.53256966e-01],\n",
       "        [7.27116676e-01],\n",
       "        [7.32572520e-01]],\n",
       "\n",
       "       [[8.30372848e-01],\n",
       "        [6.91496817e-01],\n",
       "        [7.05017023e-01],\n",
       "        ...,\n",
       "        [7.27116676e-01],\n",
       "        [7.32572520e-01],\n",
       "        [7.50869178e-01]],\n",
       "\n",
       "       [[6.91496817e-01],\n",
       "        [7.05017023e-01],\n",
       "        [7.34611573e-01],\n",
       "        ...,\n",
       "        [7.32572520e-01],\n",
       "        [7.50869178e-01],\n",
       "        [7.63672669e-01]]])"
      ]
     },
     "execution_count": 11,
     "metadata": {},
     "output_type": "execute_result"
    }
   ],
   "source": [
    "X_train"
   ]
  },
  {
   "cell_type": "markdown",
   "metadata": {},
   "source": [
    "### Creating and Training LSTM Model "
   ]
  },
  {
   "cell_type": "code",
   "execution_count": 12,
   "metadata": {},
   "outputs": [],
   "source": [
    "model=Sequential()\n",
    "model.add(LSTM(50,return_sequences=True,input_shape=(100,1)))\n",
    "model.add(LSTM(50,return_sequences=True))\n",
    "model.add(LSTM(50))\n",
    "model.add(Dense(1))\n",
    "model.compile(loss='mean_squared_error',optimizer='adam')"
   ]
  },
  {
   "cell_type": "code",
   "execution_count": 13,
   "metadata": {},
   "outputs": [
    {
     "name": "stdout",
     "output_type": "stream",
     "text": [
      "Epoch 1/100\n",
      "21/21 [==============================] - 2s 79ms/step - loss: 0.0545 - val_loss: 0.0038\n",
      "Epoch 2/100\n",
      "21/21 [==============================] - 1s 25ms/step - loss: 0.0088 - val_loss: 0.0014\n",
      "Epoch 3/100\n",
      "21/21 [==============================] - 1s 25ms/step - loss: 0.0067 - val_loss: 0.0018\n",
      "Epoch 4/100\n",
      "21/21 [==============================] - 1s 26ms/step - loss: 0.0058 - val_loss: 0.0012\n",
      "Epoch 5/100\n",
      "21/21 [==============================] - 1s 25ms/step - loss: 0.0054 - val_loss: 0.0011\n",
      "Epoch 6/100\n",
      "21/21 [==============================] - 1s 25ms/step - loss: 0.0053 - val_loss: 0.0010\n",
      "Epoch 7/100\n",
      "21/21 [==============================] - 1s 25ms/step - loss: 0.0049 - val_loss: 9.9813e-04\n",
      "Epoch 8/100\n",
      "21/21 [==============================] - 1s 25ms/step - loss: 0.0047 - val_loss: 9.8305e-04\n",
      "Epoch 9/100\n",
      "21/21 [==============================] - 1s 25ms/step - loss: 0.0047 - val_loss: 8.7006e-04\n",
      "Epoch 10/100\n",
      "21/21 [==============================] - 1s 26ms/step - loss: 0.0043 - val_loss: 8.9325e-04\n",
      "Epoch 11/100\n",
      "21/21 [==============================] - 1s 26ms/step - loss: 0.0042 - val_loss: 7.8155e-04\n",
      "Epoch 12/100\n",
      "21/21 [==============================] - 1s 25ms/step - loss: 0.0040 - val_loss: 7.8009e-04\n",
      "Epoch 13/100\n",
      "21/21 [==============================] - 1s 25ms/step - loss: 0.0039 - val_loss: 7.4297e-04\n",
      "Epoch 14/100\n",
      "21/21 [==============================] - 1s 26ms/step - loss: 0.0038 - val_loss: 7.6095e-04\n",
      "Epoch 15/100\n",
      "21/21 [==============================] - 1s 26ms/step - loss: 0.0037 - val_loss: 7.7509e-04\n",
      "Epoch 16/100\n",
      "21/21 [==============================] - 1s 25ms/step - loss: 0.0039 - val_loss: 6.6704e-04\n",
      "Epoch 17/100\n",
      "21/21 [==============================] - 1s 25ms/step - loss: 0.0034 - val_loss: 6.6933e-04\n",
      "Epoch 18/100\n",
      "21/21 [==============================] - 1s 25ms/step - loss: 0.0034 - val_loss: 8.9646e-04\n",
      "Epoch 19/100\n",
      "21/21 [==============================] - 1s 26ms/step - loss: 0.0034 - val_loss: 5.9307e-04\n",
      "Epoch 20/100\n",
      "21/21 [==============================] - 1s 26ms/step - loss: 0.0031 - val_loss: 6.2719e-04\n",
      "Epoch 21/100\n",
      "21/21 [==============================] - 1s 26ms/step - loss: 0.0031 - val_loss: 5.5967e-04\n",
      "Epoch 22/100\n",
      "21/21 [==============================] - 1s 27ms/step - loss: 0.0030 - val_loss: 6.6926e-04\n",
      "Epoch 23/100\n",
      "21/21 [==============================] - 1s 26ms/step - loss: 0.0031 - val_loss: 6.2045e-04\n",
      "Epoch 24/100\n",
      "21/21 [==============================] - 1s 26ms/step - loss: 0.0029 - val_loss: 6.1183e-04\n",
      "Epoch 25/100\n",
      "21/21 [==============================] - 1s 26ms/step - loss: 0.0028 - val_loss: 6.0046e-04\n",
      "Epoch 26/100\n",
      "21/21 [==============================] - 1s 25ms/step - loss: 0.0030 - val_loss: 6.0207e-04\n",
      "Epoch 27/100\n",
      "21/21 [==============================] - 1s 26ms/step - loss: 0.0027 - val_loss: 4.9353e-04\n",
      "Epoch 28/100\n",
      "21/21 [==============================] - 1s 26ms/step - loss: 0.0026 - val_loss: 5.0496e-04\n",
      "Epoch 29/100\n",
      "21/21 [==============================] - 1s 25ms/step - loss: 0.0026 - val_loss: 4.8165e-04\n",
      "Epoch 30/100\n",
      "21/21 [==============================] - 1s 26ms/step - loss: 0.0026 - val_loss: 6.7501e-04\n",
      "Epoch 31/100\n",
      "21/21 [==============================] - 1s 26ms/step - loss: 0.0026 - val_loss: 4.9703e-04\n",
      "Epoch 32/100\n",
      "21/21 [==============================] - 1s 26ms/step - loss: 0.0025 - val_loss: 5.6875e-04\n",
      "Epoch 33/100\n",
      "21/21 [==============================] - 1s 26ms/step - loss: 0.0025 - val_loss: 5.6377e-04\n",
      "Epoch 34/100\n",
      "21/21 [==============================] - 1s 25ms/step - loss: 0.0023 - val_loss: 4.2570e-04\n",
      "Epoch 35/100\n",
      "21/21 [==============================] - 1s 26ms/step - loss: 0.0023 - val_loss: 8.0868e-04\n",
      "Epoch 36/100\n",
      "21/21 [==============================] - 1s 27ms/step - loss: 0.0025 - val_loss: 4.6468e-04\n",
      "Epoch 37/100\n",
      "21/21 [==============================] - 1s 26ms/step - loss: 0.0023 - val_loss: 4.3707e-04\n",
      "Epoch 38/100\n",
      "21/21 [==============================] - 1s 26ms/step - loss: 0.0022 - val_loss: 4.0526e-04\n",
      "Epoch 39/100\n",
      "21/21 [==============================] - 1s 26ms/step - loss: 0.0021 - val_loss: 4.1472e-04\n",
      "Epoch 40/100\n",
      "21/21 [==============================] - 1s 26ms/step - loss: 0.0021 - val_loss: 3.8293e-04\n",
      "Epoch 41/100\n",
      "21/21 [==============================] - 1s 26ms/step - loss: 0.0020 - val_loss: 4.1165e-04\n",
      "Epoch 42/100\n",
      "21/21 [==============================] - 1s 26ms/step - loss: 0.0021 - val_loss: 4.2157e-04\n",
      "Epoch 43/100\n",
      "21/21 [==============================] - 1s 26ms/step - loss: 0.0020 - val_loss: 5.1228e-04\n",
      "Epoch 44/100\n",
      "21/21 [==============================] - 1s 26ms/step - loss: 0.0021 - val_loss: 3.5557e-04\n",
      "Epoch 45/100\n",
      "21/21 [==============================] - 1s 26ms/step - loss: 0.0019 - val_loss: 3.3639e-04\n",
      "Epoch 46/100\n",
      "21/21 [==============================] - 1s 26ms/step - loss: 0.0021 - val_loss: 3.5034e-04\n",
      "Epoch 47/100\n",
      "21/21 [==============================] - 1s 26ms/step - loss: 0.0019 - val_loss: 3.2434e-04\n",
      "Epoch 48/100\n",
      "21/21 [==============================] - 1s 27ms/step - loss: 0.0018 - val_loss: 3.4429e-04\n",
      "Epoch 49/100\n",
      "21/21 [==============================] - 1s 29ms/step - loss: 0.0017 - val_loss: 3.3019e-04\n",
      "Epoch 50/100\n",
      "21/21 [==============================] - 1s 27ms/step - loss: 0.0018 - val_loss: 2.6260e-04\n",
      "Epoch 51/100\n",
      "21/21 [==============================] - 1s 28ms/step - loss: 0.0017 - val_loss: 3.0270e-04\n",
      "Epoch 52/100\n",
      "21/21 [==============================] - 1s 29ms/step - loss: 0.0017 - val_loss: 6.0988e-04\n",
      "Epoch 53/100\n",
      "21/21 [==============================] - 1s 30ms/step - loss: 0.0018 - val_loss: 2.9820e-04\n",
      "Epoch 54/100\n",
      "21/21 [==============================] - 1s 29ms/step - loss: 0.0017 - val_loss: 4.4221e-04\n",
      "Epoch 55/100\n",
      "21/21 [==============================] - 1s 27ms/step - loss: 0.0016 - val_loss: 8.8976e-04\n",
      "Epoch 56/100\n",
      "21/21 [==============================] - 1s 28ms/step - loss: 0.0019 - val_loss: 2.4787e-04\n",
      "Epoch 57/100\n",
      "21/21 [==============================] - 1s 27ms/step - loss: 0.0016 - val_loss: 3.2968e-04\n",
      "Epoch 58/100\n",
      "21/21 [==============================] - 1s 27ms/step - loss: 0.0016 - val_loss: 2.7424e-04\n",
      "Epoch 59/100\n",
      "21/21 [==============================] - 1s 27ms/step - loss: 0.0015 - val_loss: 2.9780e-04\n",
      "Epoch 60/100\n",
      "21/21 [==============================] - 1s 28ms/step - loss: 0.0016 - val_loss: 4.8307e-04\n",
      "Epoch 61/100\n",
      "21/21 [==============================] - 1s 27ms/step - loss: 0.0015 - val_loss: 2.3700e-04\n",
      "Epoch 62/100\n",
      "21/21 [==============================] - 1s 27ms/step - loss: 0.0015 - val_loss: 3.7214e-04\n",
      "Epoch 63/100\n",
      "21/21 [==============================] - 1s 27ms/step - loss: 0.0016 - val_loss: 4.6886e-04\n",
      "Epoch 64/100\n",
      "21/21 [==============================] - 1s 28ms/step - loss: 0.0017 - val_loss: 4.5693e-04\n",
      "Epoch 65/100\n",
      "21/21 [==============================] - 1s 34ms/step - loss: 0.0014 - val_loss: 2.5272e-04\n",
      "Epoch 66/100\n",
      "21/21 [==============================] - 1s 29ms/step - loss: 0.0015 - val_loss: 2.0460e-04\n",
      "Epoch 67/100\n",
      "21/21 [==============================] - 1s 29ms/step - loss: 0.0014 - val_loss: 4.1617e-04\n",
      "Epoch 68/100\n",
      "21/21 [==============================] - 1s 28ms/step - loss: 0.0015 - val_loss: 3.2647e-04\n",
      "Epoch 69/100\n",
      "21/21 [==============================] - 1s 28ms/step - loss: 0.0014 - val_loss: 2.1893e-04\n",
      "Epoch 70/100\n",
      "21/21 [==============================] - 1s 27ms/step - loss: 0.0014 - val_loss: 4.9130e-04\n",
      "Epoch 71/100\n",
      "21/21 [==============================] - 1s 28ms/step - loss: 0.0014 - val_loss: 2.5733e-04\n",
      "Epoch 72/100\n",
      "21/21 [==============================] - 1s 27ms/step - loss: 0.0013 - val_loss: 2.6177e-04\n",
      "Epoch 73/100\n",
      "21/21 [==============================] - 1s 26ms/step - loss: 0.0014 - val_loss: 2.0367e-04\n",
      "Epoch 74/100\n",
      "21/21 [==============================] - 1s 28ms/step - loss: 0.0015 - val_loss: 1.8744e-04\n",
      "Epoch 75/100\n",
      "21/21 [==============================] - 1s 28ms/step - loss: 0.0013 - val_loss: 4.8185e-04\n",
      "Epoch 76/100\n",
      "21/21 [==============================] - 1s 27ms/step - loss: 0.0018 - val_loss: 2.0307e-04\n",
      "Epoch 77/100\n",
      "21/21 [==============================] - 1s 27ms/step - loss: 0.0014 - val_loss: 1.9595e-04\n",
      "Epoch 78/100\n",
      "21/21 [==============================] - 1s 27ms/step - loss: 0.0013 - val_loss: 2.0258e-04\n",
      "Epoch 79/100\n",
      "21/21 [==============================] - 1s 27ms/step - loss: 0.0014 - val_loss: 2.2330e-04\n",
      "Epoch 80/100\n",
      "21/21 [==============================] - 1s 27ms/step - loss: 0.0013 - val_loss: 2.1780e-04\n",
      "Epoch 81/100\n",
      "21/21 [==============================] - 1s 28ms/step - loss: 0.0014 - val_loss: 1.9797e-04\n",
      "Epoch 82/100\n",
      "21/21 [==============================] - 1s 27ms/step - loss: 0.0012 - val_loss: 2.0597e-04\n",
      "Epoch 83/100\n",
      "21/21 [==============================] - 1s 27ms/step - loss: 0.0013 - val_loss: 2.1882e-04\n",
      "Epoch 84/100\n",
      "21/21 [==============================] - 1s 28ms/step - loss: 0.0013 - val_loss: 2.2753e-04\n",
      "Epoch 85/100\n",
      "21/21 [==============================] - 1s 27ms/step - loss: 0.0013 - val_loss: 2.0132e-04\n",
      "Epoch 86/100\n",
      "21/21 [==============================] - 1s 28ms/step - loss: 0.0012 - val_loss: 4.7509e-04\n",
      "Epoch 87/100\n",
      "21/21 [==============================] - 1s 28ms/step - loss: 0.0016 - val_loss: 2.8312e-04\n",
      "Epoch 88/100\n",
      "21/21 [==============================] - 1s 29ms/step - loss: 0.0017 - val_loss: 2.2597e-04\n",
      "Epoch 89/100\n",
      "21/21 [==============================] - 1s 30ms/step - loss: 0.0014 - val_loss: 1.8582e-04\n",
      "Epoch 90/100\n",
      "21/21 [==============================] - 1s 28ms/step - loss: 0.0013 - val_loss: 1.8837e-04\n",
      "Epoch 91/100\n",
      "21/21 [==============================] - 1s 27ms/step - loss: 0.0013 - val_loss: 1.9773e-04\n",
      "Epoch 92/100\n",
      "21/21 [==============================] - 1s 30ms/step - loss: 0.0013 - val_loss: 2.0213e-04\n",
      "Epoch 93/100\n",
      "21/21 [==============================] - 1s 28ms/step - loss: 0.0012 - val_loss: 1.7863e-04\n",
      "Epoch 94/100\n",
      "21/21 [==============================] - 1s 28ms/step - loss: 0.0012 - val_loss: 2.0934e-04\n",
      "Epoch 95/100\n",
      "21/21 [==============================] - 1s 29ms/step - loss: 0.0012 - val_loss: 3.6616e-04\n",
      "Epoch 96/100\n",
      "21/21 [==============================] - 1s 28ms/step - loss: 0.0013 - val_loss: 3.1123e-04\n",
      "Epoch 97/100\n",
      "21/21 [==============================] - 1s 27ms/step - loss: 0.0013 - val_loss: 3.7676e-04\n",
      "Epoch 98/100\n",
      "21/21 [==============================] - 1s 28ms/step - loss: 0.0016 - val_loss: 1.8680e-04\n",
      "Epoch 99/100\n",
      "21/21 [==============================] - 1s 27ms/step - loss: 0.0013 - val_loss: 3.1467e-04\n",
      "Epoch 100/100\n",
      "21/21 [==============================] - 1s 29ms/step - loss: 0.0013 - val_loss: 2.1097e-04\n"
     ]
    },
    {
     "data": {
      "text/plain": [
       "<tensorflow.python.keras.callbacks.History at 0x1598da37288>"
      ]
     },
     "execution_count": 13,
     "metadata": {},
     "output_type": "execute_result"
    }
   ],
   "source": [
    "#Train the model\n",
    "\n",
    "model.fit(X_train,y_train,validation_data=(X_test,ytest),epochs=100,batch_size=64,verbose=1)"
   ]
  },
  {
   "cell_type": "code",
   "execution_count": null,
   "metadata": {},
   "outputs": [],
   "source": []
  },
  {
   "cell_type": "markdown",
   "metadata": {},
   "source": [
    "###  Predicted Test data and plot the output"
   ]
  },
  {
   "cell_type": "code",
   "execution_count": 14,
   "metadata": {},
   "outputs": [],
   "source": [
    "train_predict=model.predict(X_train)\n",
    "test_predict=model.predict(X_test)"
   ]
  },
  {
   "cell_type": "code",
   "execution_count": 15,
   "metadata": {},
   "outputs": [],
   "source": [
    "train_predict=scaler.inverse_transform(train_predict)\n",
    "test_predict=scaler.inverse_transform(test_predict)"
   ]
  },
  {
   "cell_type": "code",
   "execution_count": 16,
   "metadata": {},
   "outputs": [
    {
     "data": {
      "text/plain": [
       "0.1670417149775353"
      ]
     },
     "execution_count": 16,
     "metadata": {},
     "output_type": "execute_result"
    }
   ],
   "source": [
    "math.sqrt(mean_squared_error(y_train,train_predict))"
   ]
  },
  {
   "cell_type": "code",
   "execution_count": 17,
   "metadata": {},
   "outputs": [
    {
     "data": {
      "text/plain": [
       "0.07409707692090109"
      ]
     },
     "execution_count": 17,
     "metadata": {},
     "output_type": "execute_result"
    }
   ],
   "source": [
    "math.sqrt(mean_squared_error(ytest,test_predict))"
   ]
  },
  {
   "cell_type": "code",
   "execution_count": 18,
   "metadata": {},
   "outputs": [
    {
     "data": {
      "image/png": "[encoded data removed]",
      "text/plain": [
       "<Figure size 432x288 with 1 Axes>"
      ]
     },
     "metadata": {
      "needs_background": "light"
     },
     "output_type": "display_data"
    }
   ],
   "source": [
    "### Plotting \n",
    "# shift train predictions for plotting\n",
    "# look back = timestep\n",
    "\n",
    "look_back=100\n",
    "trainPredictPlot = numpy.empty_like(df1)\n",
    "trainPredictPlot[:, :] = np.nan\n",
    "trainPredictPlot[look_back:len(train_predict)+look_back, :] = train_predict\n",
    "\n",
    "# shift test predictions for plotting\n",
    "testPredictPlot = numpy.empty_like(df1)\n",
    "testPredictPlot[:, :] = numpy.nan\n",
    "testPredictPlot[len(train_predict)+(look_back*2)+1:len(df1)-1, :] = test_predict\n",
    "\n",
    "# plot baseline and predictions\n",
    "plt.plot(scaler.inverse_transform(df1))\n",
    "plt.plot(trainPredictPlot)\n",
    "plt.plot(testPredictPlot)\n",
    "plt.show()\n",
    "\n",
    "#ORANGE = Train predicted Data\n",
    "#GREEN = Test predicted Data"
   ]
  },
  {
   "cell_type": "code",
   "execution_count": null,
   "metadata": {},
   "outputs": [],
   "source": []
  },
  {
   "cell_type": "markdown",
   "metadata": {},
   "source": [
    "## Regression and Decision Tree Regressor"
   ]
  },
  {
   "cell_type": "code",
   "execution_count": 19,
   "metadata": {},
   "outputs": [],
   "source": [
    "df_reg = pd.read_csv('C:\\\\Users\\\\Naravith\\\\Desktop\\\\ปี4\\\\Project - github\\\\Project\\\\RYU\\\\link5.csv')"
   ]
  },
  {
   "cell_type": "code",
   "execution_count": 22,
   "metadata": {},
   "outputs": [
    {
     "data": {
      "text/html": [
       "<div>\n",
       "<style scoped>\n",
       "    .dataframe tbody tr th:only-of-type {\n",
       "        vertical-align: middle;\n",
       "    }\n",
       "\n",
       "    .dataframe tbody tr th {\n",
       "        vertical-align: top;\n",
       "    }\n",
       "\n",
       "    .dataframe thead th {\n",
       "        text-align: right;\n",
       "    }\n",
       "</style>\n",
       "<table border=\"1\" class=\"dataframe\">\n",
       "  <thead>\n",
       "    <tr style=\"text-align: right;\">\n",
       "      <th></th>\n",
       "      <th>BW_Utilization</th>\n",
       "    </tr>\n",
       "  </thead>\n",
       "  <tbody>\n",
       "    <tr>\n",
       "      <td>0</td>\n",
       "      <td>4.144287e-05</td>\n",
       "    </tr>\n",
       "    <tr>\n",
       "      <td>1</td>\n",
       "      <td>9.155273e-07</td>\n",
       "    </tr>\n",
       "    <tr>\n",
       "      <td>2</td>\n",
       "      <td>9.155273e-07</td>\n",
       "    </tr>\n",
       "    <tr>\n",
       "      <td>3</td>\n",
       "      <td>9.155273e-07</td>\n",
       "    </tr>\n",
       "    <tr>\n",
       "      <td>4</td>\n",
       "      <td>4.577637e-07</td>\n",
       "    </tr>\n",
       "    <tr>\n",
       "      <td>...</td>\n",
       "      <td>...</td>\n",
       "    </tr>\n",
       "    <tr>\n",
       "      <td>2137</td>\n",
       "      <td>9.155273e-07</td>\n",
       "    </tr>\n",
       "    <tr>\n",
       "      <td>2138</td>\n",
       "      <td>9.155273e-07</td>\n",
       "    </tr>\n",
       "    <tr>\n",
       "      <td>2139</td>\n",
       "      <td>9.155273e-07</td>\n",
       "    </tr>\n",
       "    <tr>\n",
       "      <td>2140</td>\n",
       "      <td>4.577637e-07</td>\n",
       "    </tr>\n",
       "    <tr>\n",
       "      <td>2141</td>\n",
       "      <td>9.155273e-07</td>\n",
       "    </tr>\n",
       "  </tbody>\n",
       "</table>\n",
       "<p>2142 rows × 1 columns</p>\n",
       "</div>"
      ],
      "text/plain": [
       "      BW_Utilization\n",
       "0       4.144287e-05\n",
       "1       9.155273e-07\n",
       "2       9.155273e-07\n",
       "3       9.155273e-07\n",
       "4       4.577637e-07\n",
       "...              ...\n",
       "2137    9.155273e-07\n",
       "2138    9.155273e-07\n",
       "2139    9.155273e-07\n",
       "2140    4.577637e-07\n",
       "2141    9.155273e-07\n",
       "\n",
       "[2142 rows x 1 columns]"
      ]
     },
     "execution_count": 22,
     "metadata": {},
     "output_type": "execute_result"
    }
   ],
   "source": [
    "df_reg = df_reg[['BW_Utilization']]\n",
    "df_reg"
   ]
  },
  {
   "cell_type": "code",
   "execution_count": 24,
   "metadata": {},
   "outputs": [],
   "source": [
    "future_days = 25"
   ]
  },
  {
   "cell_type": "code",
   "execution_count": 27,
   "metadata": {},
   "outputs": [
    {
     "data": {
      "text/html": [
       "<div>\n",
       "<style scoped>\n",
       "    .dataframe tbody tr th:only-of-type {\n",
       "        vertical-align: middle;\n",
       "    }\n",
       "\n",
       "    .dataframe tbody tr th {\n",
       "        vertical-align: top;\n",
       "    }\n",
       "\n",
       "    .dataframe thead th {\n",
       "        text-align: right;\n",
       "    }\n",
       "</style>\n",
       "<table border=\"1\" class=\"dataframe\">\n",
       "  <thead>\n",
       "    <tr style=\"text-align: right;\">\n",
       "      <th></th>\n",
       "      <th>BW_Utilization</th>\n",
       "      <th>Prediction</th>\n",
       "    </tr>\n",
       "  </thead>\n",
       "  <tbody>\n",
       "    <tr>\n",
       "      <td>2112</td>\n",
       "      <td>4.577637e-07</td>\n",
       "      <td>9.155273e-07</td>\n",
       "    </tr>\n",
       "    <tr>\n",
       "      <td>2113</td>\n",
       "      <td>9.155273e-07</td>\n",
       "      <td>9.155273e-07</td>\n",
       "    </tr>\n",
       "    <tr>\n",
       "      <td>2114</td>\n",
       "      <td>9.155273e-07</td>\n",
       "      <td>9.155273e-07</td>\n",
       "    </tr>\n",
       "    <tr>\n",
       "      <td>2115</td>\n",
       "      <td>4.577637e-07</td>\n",
       "      <td>4.577637e-07</td>\n",
       "    </tr>\n",
       "    <tr>\n",
       "      <td>2116</td>\n",
       "      <td>9.155273e-07</td>\n",
       "      <td>9.155273e-07</td>\n",
       "    </tr>\n",
       "    <tr>\n",
       "      <td>2117</td>\n",
       "      <td>9.155273e-07</td>\n",
       "      <td>NaN</td>\n",
       "    </tr>\n",
       "    <tr>\n",
       "      <td>2118</td>\n",
       "      <td>9.155273e-07</td>\n",
       "      <td>NaN</td>\n",
       "    </tr>\n",
       "    <tr>\n",
       "      <td>2119</td>\n",
       "      <td>4.577637e-07</td>\n",
       "      <td>NaN</td>\n",
       "    </tr>\n",
       "    <tr>\n",
       "      <td>2120</td>\n",
       "      <td>9.155273e-07</td>\n",
       "      <td>NaN</td>\n",
       "    </tr>\n",
       "    <tr>\n",
       "      <td>2121</td>\n",
       "      <td>4.577637e-07</td>\n",
       "      <td>NaN</td>\n",
       "    </tr>\n",
       "    <tr>\n",
       "      <td>2122</td>\n",
       "      <td>9.155273e-07</td>\n",
       "      <td>NaN</td>\n",
       "    </tr>\n",
       "    <tr>\n",
       "      <td>2123</td>\n",
       "      <td>4.577637e-07</td>\n",
       "      <td>NaN</td>\n",
       "    </tr>\n",
       "    <tr>\n",
       "      <td>2124</td>\n",
       "      <td>4.577637e-07</td>\n",
       "      <td>NaN</td>\n",
       "    </tr>\n",
       "    <tr>\n",
       "      <td>2125</td>\n",
       "      <td>9.155273e-07</td>\n",
       "      <td>NaN</td>\n",
       "    </tr>\n",
       "    <tr>\n",
       "      <td>2126</td>\n",
       "      <td>4.577637e-07</td>\n",
       "      <td>NaN</td>\n",
       "    </tr>\n",
       "    <tr>\n",
       "      <td>2127</td>\n",
       "      <td>9.155273e-07</td>\n",
       "      <td>NaN</td>\n",
       "    </tr>\n",
       "    <tr>\n",
       "      <td>2128</td>\n",
       "      <td>9.155273e-07</td>\n",
       "      <td>NaN</td>\n",
       "    </tr>\n",
       "    <tr>\n",
       "      <td>2129</td>\n",
       "      <td>4.577637e-07</td>\n",
       "      <td>NaN</td>\n",
       "    </tr>\n",
       "    <tr>\n",
       "      <td>2130</td>\n",
       "      <td>9.155273e-07</td>\n",
       "      <td>NaN</td>\n",
       "    </tr>\n",
       "    <tr>\n",
       "      <td>2131</td>\n",
       "      <td>9.155273e-07</td>\n",
       "      <td>NaN</td>\n",
       "    </tr>\n",
       "    <tr>\n",
       "      <td>2132</td>\n",
       "      <td>9.155273e-07</td>\n",
       "      <td>NaN</td>\n",
       "    </tr>\n",
       "    <tr>\n",
       "      <td>2133</td>\n",
       "      <td>4.577637e-07</td>\n",
       "      <td>NaN</td>\n",
       "    </tr>\n",
       "    <tr>\n",
       "      <td>2134</td>\n",
       "      <td>9.155273e-07</td>\n",
       "      <td>NaN</td>\n",
       "    </tr>\n",
       "    <tr>\n",
       "      <td>2135</td>\n",
       "      <td>9.155273e-07</td>\n",
       "      <td>NaN</td>\n",
       "    </tr>\n",
       "    <tr>\n",
       "      <td>2136</td>\n",
       "      <td>4.577637e-07</td>\n",
       "      <td>NaN</td>\n",
       "    </tr>\n",
       "    <tr>\n",
       "      <td>2137</td>\n",
       "      <td>9.155273e-07</td>\n",
       "      <td>NaN</td>\n",
       "    </tr>\n",
       "    <tr>\n",
       "      <td>2138</td>\n",
       "      <td>9.155273e-07</td>\n",
       "      <td>NaN</td>\n",
       "    </tr>\n",
       "    <tr>\n",
       "      <td>2139</td>\n",
       "      <td>9.155273e-07</td>\n",
       "      <td>NaN</td>\n",
       "    </tr>\n",
       "    <tr>\n",
       "      <td>2140</td>\n",
       "      <td>4.577637e-07</td>\n",
       "      <td>NaN</td>\n",
       "    </tr>\n",
       "    <tr>\n",
       "      <td>2141</td>\n",
       "      <td>9.155273e-07</td>\n",
       "      <td>NaN</td>\n",
       "    </tr>\n",
       "  </tbody>\n",
       "</table>\n",
       "</div>"
      ],
      "text/plain": [
       "      BW_Utilization    Prediction\n",
       "2112    4.577637e-07  9.155273e-07\n",
       "2113    9.155273e-07  9.155273e-07\n",
       "2114    9.155273e-07  9.155273e-07\n",
       "2115    4.577637e-07  4.577637e-07\n",
       "2116    9.155273e-07  9.155273e-07\n",
       "2117    9.155273e-07           NaN\n",
       "2118    9.155273e-07           NaN\n",
       "2119    4.577637e-07           NaN\n",
       "2120    9.155273e-07           NaN\n",
       "2121    4.577637e-07           NaN\n",
       "2122    9.155273e-07           NaN\n",
       "2123    4.577637e-07           NaN\n",
       "2124    4.577637e-07           NaN\n",
       "2125    9.155273e-07           NaN\n",
       "2126    4.577637e-07           NaN\n",
       "2127    9.155273e-07           NaN\n",
       "2128    9.155273e-07           NaN\n",
       "2129    4.577637e-07           NaN\n",
       "2130    9.155273e-07           NaN\n",
       "2131    9.155273e-07           NaN\n",
       "2132    9.155273e-07           NaN\n",
       "2133    4.577637e-07           NaN\n",
       "2134    9.155273e-07           NaN\n",
       "2135    9.155273e-07           NaN\n",
       "2136    4.577637e-07           NaN\n",
       "2137    9.155273e-07           NaN\n",
       "2138    9.155273e-07           NaN\n",
       "2139    9.155273e-07           NaN\n",
       "2140    4.577637e-07           NaN\n",
       "2141    9.155273e-07           NaN"
      ]
     },
     "execution_count": 27,
     "metadata": {},
     "output_type": "execute_result"
    }
   ],
   "source": [
    "df_reg['Prediction'] = df_reg[['BW_Utilization']].shift(-future_days)\n",
    "df_reg.tail(30)"
   ]
  },
  {
   "cell_type": "code",
   "execution_count": 31,
   "metadata": {},
   "outputs": [
    {
     "data": {
      "text/plain": [
       "array([[4.14428711e-05],\n",
       "       [9.15527344e-07],\n",
       "       [9.15527344e-07],\n",
       "       ...,\n",
       "       [9.15527344e-07],\n",
       "       [4.57763672e-07],\n",
       "       [9.15527344e-07]])"
      ]
     },
     "execution_count": 31,
     "metadata": {},
     "output_type": "execute_result"
    }
   ],
   "source": [
    "# Create the feature dataset (X) and convert to numpy array and remove the last 'x' rows days\n",
    "X = np.array(df_reg.drop(['Prediction'],1))[:-future_days]\n",
    "X"
   ]
  },
  {
   "cell_type": "code",
   "execution_count": 30,
   "metadata": {},
   "outputs": [
    {
     "data": {
      "text/plain": [
       "(2117, 1)"
      ]
     },
     "execution_count": 30,
     "metadata": {},
     "output_type": "execute_result"
    }
   ],
   "source": [
    "X.shape"
   ]
  },
  {
   "cell_type": "code",
   "execution_count": 32,
   "metadata": {},
   "outputs": [],
   "source": [
    "# Create target dataset (y), convert to nparray and get all of target value except the last 'x' rows or days\n",
    "y = np.array(df_reg['Prediction'])[:-future_days]"
   ]
  },
  {
   "cell_type": "code",
   "execution_count": 33,
   "metadata": {},
   "outputs": [
    {
     "data": {
      "text/plain": [
       "array([9.15527344e-07, 4.57763672e-07, 9.15527344e-07, ...,\n",
       "       9.15527344e-07, 4.57763672e-07, 9.15527344e-07])"
      ]
     },
     "execution_count": 33,
     "metadata": {},
     "output_type": "execute_result"
    }
   ],
   "source": [
    "y"
   ]
  },
  {
   "cell_type": "code",
   "execution_count": 37,
   "metadata": {},
   "outputs": [],
   "source": [
    "# Split the data into 75% train and 25% test and create the model\n",
    "x_train, x_test, y_train, y_test = train_test_split(X,y,test_size = 0.25)\n",
    "\n",
    "#Create a model\n",
    "tree = DecisionTreeRegressor().fit(x_train, y_train)\n",
    "lr = LinearRegression().fit(x_train, y_train)"
   ]
  },
  {
   "cell_type": "code",
   "execution_count": 42,
   "metadata": {},
   "outputs": [
    {
     "data": {
      "text/plain": [
       "(1587,)"
      ]
     },
     "execution_count": 42,
     "metadata": {},
     "output_type": "execute_result"
    }
   ],
   "source": [
    "y_train.shape"
   ]
  },
  {
   "cell_type": "code",
   "execution_count": null,
   "metadata": {},
   "outputs": [],
   "source": []
  },
  {
   "cell_type": "code",
   "execution_count": 38,
   "metadata": {},
   "outputs": [
    {
     "data": {
      "text/plain": [
       "array([[9.15527344e-07],\n",
       "       [4.57763672e-07],\n",
       "       [4.57763672e-07],\n",
       "       [4.57763672e-07],\n",
       "       [4.57763672e-07],\n",
       "       [4.57763672e-07],\n",
       "       [4.57763672e-07],\n",
       "       [9.15527344e-07],\n",
       "       [9.15527344e-07],\n",
       "       [4.57763672e-07],\n",
       "       [9.15527344e-07],\n",
       "       [9.15527344e-07],\n",
       "       [9.15527344e-07],\n",
       "       [4.57763672e-07],\n",
       "       [9.15527344e-07],\n",
       "       [9.15527344e-07],\n",
       "       [4.57763672e-07],\n",
       "       [9.15527344e-07],\n",
       "       [9.15527344e-07],\n",
       "       [9.15527344e-07],\n",
       "       [4.57763672e-07],\n",
       "       [9.15527344e-07],\n",
       "       [9.15527344e-07],\n",
       "       [4.57763672e-07],\n",
       "       [9.15527344e-07]])"
      ]
     },
     "execution_count": 38,
     "metadata": {},
     "output_type": "execute_result"
    }
   ],
   "source": [
    "# Get the last 'x' rows of feature dataset (Last 25 days)\n",
    "x_future = df_reg.drop(['Prediction'],1)[:-future_days]\n",
    "x_future = x_future.tail(future_days)\n",
    "\n",
    "#convert to np array\n",
    "x_future = np.array(x_future)\n",
    "x_future\n",
    "\n",
    "# X_Future is the input for model prediction"
   ]
  },
  {
   "cell_type": "code",
   "execution_count": 40,
   "metadata": {},
   "outputs": [
    {
     "name": "stdout",
     "output_type": "stream",
     "text": [
      "[0.01466574 0.02428535 0.02428535 0.02428535 0.02428535 0.02428535\n",
      " 0.02428535 0.01466574 0.01466574 0.02428535 0.01466574 0.01466574\n",
      " 0.01466574 0.02428535 0.01466574 0.01466574 0.02428535 0.01466574\n",
      " 0.01466574 0.01466574 0.02428535 0.01466574 0.01466574 0.02428535\n",
      " 0.01466574]\n"
     ]
    }
   ],
   "source": [
    "tree_prediction = tree.predict(x_future)\n",
    "lr_prediction = lr.predict(x_future)\n",
    "\n",
    "print(tree_prediction)"
   ]
  },
  {
   "cell_type": "code",
   "execution_count": 45,
   "metadata": {},
   "outputs": [
    {
     "data": {
      "text/plain": [
       "(25,)"
      ]
     },
     "execution_count": 45,
     "metadata": {},
     "output_type": "execute_result"
    }
   ],
   "source": [
    "tree_prediction.shape"
   ]
  },
  {
   "cell_type": "code",
   "execution_count": 54,
   "metadata": {},
   "outputs": [
    {
     "data": {
      "text/plain": [
       "0.24496949872095922"
      ]
     },
     "execution_count": 54,
     "metadata": {},
     "output_type": "execute_result"
    }
   ],
   "source": [
    "math.sqrt(mean_squared_error(y_test[-25:],tree_prediction))"
   ]
  },
  {
   "cell_type": "code",
   "execution_count": 55,
   "metadata": {},
   "outputs": [
    {
     "data": {
      "text/plain": [
       "0.24239883311060884"
      ]
     },
     "execution_count": 55,
     "metadata": {},
     "output_type": "execute_result"
    }
   ],
   "source": [
    "math.sqrt(mean_squared_error(y_test[-25:],lr_prediction))"
   ]
  },
  {
   "cell_type": "code",
   "execution_count": null,
   "metadata": {},
   "outputs": [],
   "source": []
  },
  {
   "cell_type": "code",
   "execution_count": null,
   "metadata": {},
   "outputs": [],
   "source": []
  },
  {
   "cell_type": "code",
   "execution_count": null,
   "metadata": {},
   "outputs": [],
   "source": []
  },
  {
   "cell_type": "markdown",
   "metadata": {},
   "source": [
    "### Predict the future 30 days "
   ]
  },
  {
   "cell_type": "code",
   "execution_count": null,
   "metadata": {},
   "outputs": [],
   "source": []
  }
 ],
 "metadata": {
  "kernelspec": {
   "display_name": "Python 3",
   "language": "python",
   "name": "python3"
  },
  "language_info": {
   "codemirror_mode": {
    "name": "ipython",
    "version": 3
   },
   "file_extension": ".py",
   "mimetype": "text/x-python",
   "name": "python",
   "nbconvert_exporter": "python",
   "pygments_lexer": "ipython3",
   "version": "3.7.4"
  }
 },
 "nbformat": 4,
 "nbformat_minor": 2
}
