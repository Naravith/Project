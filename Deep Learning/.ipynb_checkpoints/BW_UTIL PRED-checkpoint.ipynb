{
 "cells": [
  {
   "cell_type": "markdown",
   "metadata": {},
   "source": [
    "# LSTM"
   ]
  },
  {
   "cell_type": "code",
   "execution_count": 1,
   "metadata": {},
   "outputs": [],
   "source": [
    "import numpy as np\n",
    "import pandas as pd\n",
    "\n",
    "import math\n",
    "\n",
    "from sklearn.metrics import mean_squared_error\n",
    "from sklearn.preprocessing import MinMaxScaler\n",
    "\n",
    "import tensorflow as tf\n",
    "from tensorflow.keras.models import Sequential\n",
    "from tensorflow.keras.layers import Dense\n",
    "from tensorflow.keras.layers import LSTM\n",
    "\n",
    "from sklearn.tree import DecisionTreeRegressor\n",
    "from sklearn.linear_model import LinearRegression\n",
    "from sklearn.model_selection import train_test_split"
   ]
  },
  {
   "cell_type": "code",
   "execution_count": 11,
   "metadata": {},
   "outputs": [
    {
     "data": {
      "text/html": [
       "<div>\n",
       "<style scoped>\n",
       "    .dataframe tbody tr th:only-of-type {\n",
       "        vertical-align: middle;\n",
       "    }\n",
       "\n",
       "    .dataframe tbody tr th {\n",
       "        vertical-align: top;\n",
       "    }\n",
       "\n",
       "    .dataframe thead th {\n",
       "        text-align: right;\n",
       "    }\n",
       "</style>\n",
       "<table border=\"1\" class=\"dataframe\">\n",
       "  <thead>\n",
       "    <tr style=\"text-align: right;\">\n",
       "      <th></th>\n",
       "      <th>Timestamp</th>\n",
       "      <th>Tx_Packet</th>\n",
       "      <th>Rx_Packet</th>\n",
       "      <th>Dropped</th>\n",
       "      <th>BW_Utilization</th>\n",
       "    </tr>\n",
       "  </thead>\n",
       "  <tbody>\n",
       "    <tr>\n",
       "      <td>0</td>\n",
       "      <td>2020-11-06 04:30:24</td>\n",
       "      <td>35</td>\n",
       "      <td>40</td>\n",
       "      <td>1</td>\n",
       "      <td>5.350082e+04</td>\n",
       "    </tr>\n",
       "    <tr>\n",
       "      <td>1</td>\n",
       "      <td>2020-11-06 04:31:21</td>\n",
       "      <td>31</td>\n",
       "      <td>32</td>\n",
       "      <td>1</td>\n",
       "      <td>4.268065e+04</td>\n",
       "    </tr>\n",
       "    <tr>\n",
       "      <td>2</td>\n",
       "      <td>2020-11-06 04:36:47</td>\n",
       "      <td>96</td>\n",
       "      <td>5</td>\n",
       "      <td>0</td>\n",
       "      <td>2.316020e+05</td>\n",
       "    </tr>\n",
       "    <tr>\n",
       "      <td>3</td>\n",
       "      <td>2020-11-06 04:36:48</td>\n",
       "      <td>279</td>\n",
       "      <td>1</td>\n",
       "      <td>0</td>\n",
       "      <td>7.290360e+05</td>\n",
       "    </tr>\n",
       "    <tr>\n",
       "      <td>4</td>\n",
       "      <td>2020-11-06 04:36:49</td>\n",
       "      <td>281</td>\n",
       "      <td>1</td>\n",
       "      <td>0</td>\n",
       "      <td>7.342800e+05</td>\n",
       "    </tr>\n",
       "    <tr>\n",
       "      <td>...</td>\n",
       "      <td>...</td>\n",
       "      <td>...</td>\n",
       "      <td>...</td>\n",
       "      <td>...</td>\n",
       "      <td>...</td>\n",
       "    </tr>\n",
       "    <tr>\n",
       "      <td>119</td>\n",
       "      <td>2020-11-06 04:39:39</td>\n",
       "      <td>305</td>\n",
       "      <td>1</td>\n",
       "      <td>0</td>\n",
       "      <td>4.268540e+05</td>\n",
       "    </tr>\n",
       "    <tr>\n",
       "      <td>120</td>\n",
       "      <td>2020-11-06 04:39:40</td>\n",
       "      <td>912</td>\n",
       "      <td>1</td>\n",
       "      <td>0</td>\n",
       "      <td>1.280040e+06</td>\n",
       "    </tr>\n",
       "    <tr>\n",
       "      <td>121</td>\n",
       "      <td>2020-11-06 04:39:41</td>\n",
       "      <td>1077</td>\n",
       "      <td>1</td>\n",
       "      <td>0</td>\n",
       "      <td>1.630458e+06</td>\n",
       "    </tr>\n",
       "    <tr>\n",
       "      <td>122</td>\n",
       "      <td>2020-11-06 04:39:42</td>\n",
       "      <td>1263</td>\n",
       "      <td>3</td>\n",
       "      <td>0</td>\n",
       "      <td>1.792575e+06</td>\n",
       "    </tr>\n",
       "    <tr>\n",
       "      <td>123</td>\n",
       "      <td>2020-11-06 04:39:42</td>\n",
       "      <td>888</td>\n",
       "      <td>8</td>\n",
       "      <td>0</td>\n",
       "      <td>1.242087e+06</td>\n",
       "    </tr>\n",
       "  </tbody>\n",
       "</table>\n",
       "<p>1703 rows × 5 columns</p>\n",
       "</div>"
      ],
      "text/plain": [
       "               Timestamp  Tx_Packet  Rx_Packet  Dropped  BW_Utilization\n",
       "0    2020-11-06 04:30:24         35         40        1    5.350082e+04\n",
       "1    2020-11-06 04:31:21         31         32        1    4.268065e+04\n",
       "2    2020-11-06 04:36:47         96          5        0    2.316020e+05\n",
       "3    2020-11-06 04:36:48        279          1        0    7.290360e+05\n",
       "4    2020-11-06 04:36:49        281          1        0    7.342800e+05\n",
       "..                   ...        ...        ...      ...             ...\n",
       "119  2020-11-06 04:39:39        305          1        0    4.268540e+05\n",
       "120  2020-11-06 04:39:40        912          1        0    1.280040e+06\n",
       "121  2020-11-06 04:39:41       1077          1        0    1.630458e+06\n",
       "122  2020-11-06 04:39:42       1263          3        0    1.792575e+06\n",
       "123  2020-11-06 04:39:42        888          8        0    1.242087e+06\n",
       "\n",
       "[1703 rows x 5 columns]"
      ]
     },
     "execution_count": 11,
     "metadata": {},
     "output_type": "execute_result"
    }
   ],
   "source": [
    "df1 = pd.read_csv('C:\\\\Users\\\\Naravith\\\\Desktop\\\\ปี4\\\\Project - github\\\\Project\\\\RYU\\\\link1.csv')\n",
    "df2 = pd.read_csv('C:\\\\Users\\\\Naravith\\\\Desktop\\\\ปี4\\\\Project - github\\\\Project\\\\RYU\\\\link2.csv')\n",
    "df3 = pd.read_csv('C:\\\\Users\\\\Naravith\\\\Desktop\\\\ปี4\\\\Project - github\\\\Project\\\\RYU\\\\link3.csv')\n",
    "df4 = pd.read_csv('C:\\\\Users\\\\Naravith\\\\Desktop\\\\ปี4\\\\Project - github\\\\Project\\\\RYU\\\\link4.csv')\n",
    "df5 = pd.read_csv('C:\\\\Users\\\\Naravith\\\\Desktop\\\\ปี4\\\\Project - github\\\\Project\\\\RYU\\\\link5.csv')\n",
    "df6 = pd.read_csv('C:\\\\Users\\\\Naravith\\\\Desktop\\\\ปี4\\\\Project - github\\\\Project\\\\RYU\\\\link6.csv')\n",
    "df7 = pd.read_csv('C:\\\\Users\\\\Naravith\\\\Desktop\\\\ปี4\\\\Project - github\\\\Project\\\\RYU\\\\link7.csv')\n",
    "df8 = pd.read_csv('C:\\\\Users\\\\Naravith\\\\Desktop\\\\ปี4\\\\Project - github\\\\Project\\\\RYU\\\\link8.csv')\n",
    "\n",
    "df = pd.concat([df1,df2,df3,df4,df5,df6,df7,df8])\n",
    "df"
   ]
  },
  {
   "cell_type": "code",
   "execution_count": 12,
   "metadata": {},
   "outputs": [],
   "source": [
    "# Because we will predict BW Util\n",
    "\n",
    "df = df.reset_index()['BW_Utilization']"
   ]
  },
  {
   "cell_type": "code",
   "execution_count": 14,
   "metadata": {},
   "outputs": [
    {
     "data": {
      "text/plain": [
       "[<matplotlib.lines.Line2D at 0x1e36ba7dec8>]"
      ]
     },
     "execution_count": 14,
     "metadata": {},
     "output_type": "execute_result"
    },
    {
     "data": {
      "image/png": "[encoded data removed]",
      "text/plain": [
       "<Figure size 1008x360 with 1 Axes>"
      ]
     },
     "metadata": {
      "needs_background": "light"
     },
     "output_type": "display_data"
    }
   ],
   "source": [
    "import matplotlib.pyplot as plt\n",
    "\n",
    "plt.figure(figsize =(14,5))\n",
    "plt.plot(df)"
   ]
  },
  {
   "cell_type": "code",
   "execution_count": 15,
   "metadata": {},
   "outputs": [
    {
     "data": {
      "text/plain": [
       "array([[0.00389524],\n",
       "       [0.00260495],\n",
       "       [0.02513358],\n",
       "       ...,\n",
       "       [0.19194541],\n",
       "       [0.21127766],\n",
       "       [0.14563266]])"
      ]
     },
     "execution_count": 15,
     "metadata": {},
     "output_type": "execute_result"
    }
   ],
   "source": [
    "# Scaling data\n",
    "\n",
    "scaler = MinMaxScaler(feature_range=(0,1))\n",
    "df = scaler.fit_transform(np.array(df).reshape(-1,1))\n",
    "\n",
    "df"
   ]
  },
  {
   "cell_type": "code",
   "execution_count": 16,
   "metadata": {},
   "outputs": [
    {
     "data": {
      "text/plain": [
       "(1703, 1)"
      ]
     },
     "execution_count": 16,
     "metadata": {},
     "output_type": "execute_result"
    }
   ],
   "source": [
    "df.shape"
   ]
  },
  {
   "cell_type": "code",
   "execution_count": 17,
   "metadata": {},
   "outputs": [
    {
     "data": {
      "text/plain": [
       "[<matplotlib.lines.Line2D at 0x1e36bab4d08>]"
      ]
     },
     "execution_count": 17,
     "metadata": {},
     "output_type": "execute_result"
    },
    {
     "data": {
      "image/png": "[encoded data removed]",
      "text/plain": [
       "<Figure size 1008x360 with 1 Axes>"
      ]
     },
     "metadata": {
      "needs_background": "light"
     },
     "output_type": "display_data"
    }
   ],
   "source": [
    "plt.figure(figsize =(14,5))\n",
    "plt.plot(df)"
   ]
  },
  {
   "cell_type": "markdown",
   "metadata": {},
   "source": [
    "### Train - Test Split "
   ]
  },
  {
   "cell_type": "code",
   "execution_count": 47,
   "metadata": {},
   "outputs": [],
   "source": [
    "training_size=int(len(df)*0.75)\n",
    "test_size=len(df)-training_size\n",
    "\n",
    "\n",
    "train_data, test_data = df[0:training_size,:] , df[training_size:len(df),:1]"
   ]
  },
  {
   "cell_type": "code",
   "execution_count": 48,
   "metadata": {},
   "outputs": [],
   "source": [
    "import numpy\n",
    "# convert an array of values into a dataset matrix\n",
    "\n",
    "def create_dataset(dataset, time_step=1):\n",
    "\tdataX, dataY = [], []\n",
    "\tfor i in range(len(dataset)-time_step-1):\n",
    "\t\ta = dataset[i:(i+time_step), 0]   ###i=0, 0,1,2,3-----99   100 \n",
    "\t\tdataX.append(a)\n",
    "\t\tdataY.append(dataset[i + time_step, 0])\n",
    "\treturn numpy.array(dataX), numpy.array(dataY)"
   ]
  },
  {
   "cell_type": "code",
   "execution_count": 49,
   "metadata": {},
   "outputs": [],
   "source": [
    "# reshape into X=t,t+1,t+2,t+3 and Y=t+4\n",
    "\n",
    "time_step = 30\n",
    "X_train, y_train = create_dataset(train_data, time_step)\n",
    "X_test, ytest = create_dataset(test_data, time_step)"
   ]
  },
  {
   "cell_type": "code",
   "execution_count": 50,
   "metadata": {},
   "outputs": [
    {
     "data": {
      "text/plain": [
       "(1246, 30)"
      ]
     },
     "execution_count": 50,
     "metadata": {},
     "output_type": "execute_result"
    }
   ],
   "source": [
    "X_train.shape"
   ]
  },
  {
   "cell_type": "code",
   "execution_count": null,
   "metadata": {},
   "outputs": [],
   "source": []
  },
  {
   "cell_type": "markdown",
   "metadata": {},
   "source": [
    "### Reshape input to be [samples, timesteps, features] "
   ]
  },
  {
   "cell_type": "code",
   "execution_count": 51,
   "metadata": {},
   "outputs": [],
   "source": [
    "X_train =X_train.reshape(X_train.shape[0],X_train.shape[1] , 1)\n",
    "X_test = X_test.reshape(X_test.shape[0],X_test.shape[1] , 1)"
   ]
  },
  {
   "cell_type": "code",
   "execution_count": null,
   "metadata": {},
   "outputs": [],
   "source": []
  },
  {
   "cell_type": "code",
   "execution_count": null,
   "metadata": {},
   "outputs": [],
   "source": []
  },
  {
   "cell_type": "markdown",
   "metadata": {},
   "source": [
    "### Creating and Training LSTM Model "
   ]
  },
  {
   "cell_type": "code",
   "execution_count": 52,
   "metadata": {},
   "outputs": [],
   "source": [
    "model=Sequential()\n",
    "\n",
    "model.add(LSTM(100,dropout=0.5,recurrent_dropout=0.5,return_sequences=True,input_shape=(30,1)))\n",
    "#model.add(LSTM(80,dropout=0.5,recurrent_dropout=0.5,return_sequences=True))\n",
    "model.add(LSTM(50,dropout=0.5,recurrent_dropout=0.5))\n",
    "\n",
    "model.add(Dense(1))\n",
    "model.compile(loss='mean_squared_error',optimizer='adam')"
   ]
  },
  {
   "cell_type": "code",
   "execution_count": 53,
   "metadata": {},
   "outputs": [
    {
     "name": "stdout",
     "output_type": "stream",
     "text": [
      "Train on 1246 samples, validate on 395 samples\n",
      "Epoch 1/20\n",
      "1246/1246 [==============================] - 9s 7ms/sample - loss: 0.1183 - val_loss: 0.0240\n",
      "Epoch 2/20\n",
      "1246/1246 [==============================] - 2s 2ms/sample - loss: 0.0627 - val_loss: 0.0314\n",
      "Epoch 3/20\n",
      "1246/1246 [==============================] - 2s 2ms/sample - loss: 0.0598 - val_loss: 0.0317\n",
      "Epoch 4/20\n",
      "1246/1246 [==============================] - 2s 2ms/sample - loss: 0.0587 - val_loss: 0.0339\n",
      "Epoch 5/20\n",
      "1246/1246 [==============================] - 2s 2ms/sample - loss: 0.0564 - val_loss: 0.0318\n",
      "Epoch 6/20\n",
      "1246/1246 [==============================] - 2s 2ms/sample - loss: 0.0550 - val_loss: 0.0369\n",
      "Epoch 7/20\n",
      "1246/1246 [==============================] - 2s 2ms/sample - loss: 0.0519 - val_loss: 0.0344\n",
      "Epoch 8/20\n",
      "1246/1246 [==============================] - 3s 2ms/sample - loss: 0.0473 - val_loss: 0.0356\n",
      "Epoch 9/20\n",
      "1246/1246 [==============================] - 2s 2ms/sample - loss: 0.0428 - val_loss: 0.0407\n",
      "Epoch 10/20\n",
      "1246/1246 [==============================] - 2s 2ms/sample - loss: 0.0459 - val_loss: 0.0498\n",
      "Epoch 11/20\n",
      "1246/1246 [==============================] - 2s 2ms/sample - loss: 0.0403 - val_loss: 0.0554\n",
      "Epoch 12/20\n",
      "1246/1246 [==============================] - 3s 2ms/sample - loss: 0.0400 - val_loss: 0.0638\n",
      "Epoch 13/20\n",
      "1246/1246 [==============================] - 3s 2ms/sample - loss: 0.0381 - val_loss: 0.0541\n",
      "Epoch 14/20\n",
      "1246/1246 [==============================] - 3s 2ms/sample - loss: 0.0375 - val_loss: 0.0624\n",
      "Epoch 15/20\n",
      "1246/1246 [==============================] - 3s 2ms/sample - loss: 0.0347 - val_loss: 0.0709\n",
      "Epoch 16/20\n",
      "1246/1246 [==============================] - 3s 2ms/sample - loss: 0.0337 - val_loss: 0.0607\n",
      "Epoch 17/20\n",
      "1246/1246 [==============================] - 3s 3ms/sample - loss: 0.0340 - val_loss: 0.0619\n",
      "Epoch 18/20\n",
      "1246/1246 [==============================] - 3s 2ms/sample - loss: 0.0331 - val_loss: 0.0717\n",
      "Epoch 19/20\n",
      "1246/1246 [==============================] - 2s 2ms/sample - loss: 0.0324 - val_loss: 0.0666\n",
      "Epoch 20/20\n",
      "1246/1246 [==============================] - 2s 2ms/sample - loss: 0.0324 - val_loss: 0.0662\n"
     ]
    },
    {
     "data": {
      "text/plain": [
       "<tensorflow.python.keras.callbacks.History at 0x1e3b99b5fc8>"
      ]
     },
     "execution_count": 53,
     "metadata": {},
     "output_type": "execute_result"
    }
   ],
   "source": [
    "#Train the model\n",
    "\n",
    "model.fit(X_train,y_train,validation_data=(X_test,ytest),epochs=20,batch_size=64,verbose=1)"
   ]
  },
  {
   "cell_type": "markdown",
   "metadata": {},
   "source": [
    "## Predicted Test data and plot the output "
   ]
  },
  {
   "cell_type": "code",
   "execution_count": 54,
   "metadata": {},
   "outputs": [],
   "source": [
    "train_predict = model.predict(X_train)\n",
    "test_predict = model.predict(X_test)"
   ]
  },
  {
   "cell_type": "code",
   "execution_count": 55,
   "metadata": {},
   "outputs": [],
   "source": [
    "train_predict = scaler.inverse_transform(train_predict)\n",
    "test_predict = scaler.inverse_transform(test_predict)"
   ]
  },
  {
   "cell_type": "code",
   "execution_count": 56,
   "metadata": {},
   "outputs": [
    {
     "data": {
      "text/plain": [
       "2514808.809762042"
      ]
     },
     "execution_count": 56,
     "metadata": {},
     "output_type": "execute_result"
    }
   ],
   "source": [
    "math.sqrt(mean_squared_error(y_train,train_predict))"
   ]
  },
  {
   "cell_type": "code",
   "execution_count": 57,
   "metadata": {},
   "outputs": [
    {
     "data": {
      "text/plain": [
       "2237895.4963234677"
      ]
     },
     "execution_count": 57,
     "metadata": {},
     "output_type": "execute_result"
    }
   ],
   "source": [
    "math.sqrt(mean_squared_error(ytest,test_predict))"
   ]
  },
  {
   "cell_type": "code",
   "execution_count": 59,
   "metadata": {},
   "outputs": [
    {
     "data": {
      "image/png": "[encoded data removed]",
      "text/plain": [
       "<Figure size 1008x360 with 1 Axes>"
      ]
     },
     "metadata": {
      "needs_background": "light"
     },
     "output_type": "display_data"
    }
   ],
   "source": [
    "### Plotting \n",
    "# shift train predictions for plotting\n",
    "# look back = timestep\n",
    "\n",
    "look_back=30\n",
    "\n",
    "trainPredictPlot = numpy.empty_like(df)\n",
    "trainPredictPlot[:, :] = np.nan\n",
    "trainPredictPlot[look_back:len(train_predict)+look_back, :] = train_predict\n",
    "\n",
    "# shift test predictions for plotting\n",
    "testPredictPlot = numpy.empty_like(df)\n",
    "testPredictPlot[:, :] = numpy.nan\n",
    "testPredictPlot[len(train_predict)+(look_back*2)+1:len(df)-1, :] = test_predict\n",
    "\n",
    "# plot baseline and predictions\n",
    "plt.figure(figsize =(14,5))\n",
    "plt.plot(scaler.inverse_transform(df))\n",
    "plt.plot(trainPredictPlot)\n",
    "plt.plot(testPredictPlot)\n",
    "plt.show()\n",
    "\n",
    "#ORANGE = Train predicted Data\n",
    "#GREEN = Test predicted Data"
   ]
  },
  {
   "cell_type": "code",
   "execution_count": null,
   "metadata": {},
   "outputs": [],
   "source": []
  },
  {
   "cell_type": "code",
   "execution_count": null,
   "metadata": {},
   "outputs": [],
   "source": []
  },
  {
   "cell_type": "code",
   "execution_count": null,
   "metadata": {},
   "outputs": [],
   "source": []
  },
  {
   "cell_type": "code",
   "execution_count": null,
   "metadata": {},
   "outputs": [],
   "source": []
  },
  {
   "cell_type": "code",
   "execution_count": null,
   "metadata": {},
   "outputs": [],
   "source": []
  },
  {
   "cell_type": "code",
   "execution_count": null,
   "metadata": {},
   "outputs": [],
   "source": []
  },
  {
   "cell_type": "markdown",
   "metadata": {},
   "source": [
    "#  Regression and Decision Tree Regressor"
   ]
  },
  {
   "cell_type": "code",
   "execution_count": 23,
   "metadata": {},
   "outputs": [
    {
     "data": {
      "text/html": [
       "<div>\n",
       "<style scoped>\n",
       "    .dataframe tbody tr th:only-of-type {\n",
       "        vertical-align: middle;\n",
       "    }\n",
       "\n",
       "    .dataframe tbody tr th {\n",
       "        vertical-align: top;\n",
       "    }\n",
       "\n",
       "    .dataframe thead th {\n",
       "        text-align: right;\n",
       "    }\n",
       "</style>\n",
       "<table border=\"1\" class=\"dataframe\">\n",
       "  <thead>\n",
       "    <tr style=\"text-align: right;\">\n",
       "      <th></th>\n",
       "      <th>BW_Utilization</th>\n",
       "    </tr>\n",
       "  </thead>\n",
       "  <tbody>\n",
       "    <tr>\n",
       "      <td>0</td>\n",
       "      <td>0.004477</td>\n",
       "    </tr>\n",
       "    <tr>\n",
       "      <td>1</td>\n",
       "      <td>0.001142</td>\n",
       "    </tr>\n",
       "    <tr>\n",
       "      <td>2</td>\n",
       "      <td>0.181570</td>\n",
       "    </tr>\n",
       "    <tr>\n",
       "      <td>3</td>\n",
       "      <td>0.601182</td>\n",
       "    </tr>\n",
       "    <tr>\n",
       "      <td>4</td>\n",
       "      <td>0.612060</td>\n",
       "    </tr>\n",
       "    <tr>\n",
       "      <td>...</td>\n",
       "      <td>...</td>\n",
       "    </tr>\n",
       "    <tr>\n",
       "      <td>274</td>\n",
       "      <td>0.164200</td>\n",
       "    </tr>\n",
       "    <tr>\n",
       "      <td>275</td>\n",
       "      <td>0.153910</td>\n",
       "    </tr>\n",
       "    <tr>\n",
       "      <td>276</td>\n",
       "      <td>0.140826</td>\n",
       "    </tr>\n",
       "    <tr>\n",
       "      <td>277</td>\n",
       "      <td>0.148933</td>\n",
       "    </tr>\n",
       "    <tr>\n",
       "      <td>278</td>\n",
       "      <td>0.047742</td>\n",
       "    </tr>\n",
       "  </tbody>\n",
       "</table>\n",
       "<p>279 rows × 1 columns</p>\n",
       "</div>"
      ],
      "text/plain": [
       "     BW_Utilization\n",
       "0          0.004477\n",
       "1          0.001142\n",
       "2          0.181570\n",
       "3          0.601182\n",
       "4          0.612060\n",
       "..              ...\n",
       "274        0.164200\n",
       "275        0.153910\n",
       "276        0.140826\n",
       "277        0.148933\n",
       "278        0.047742\n",
       "\n",
       "[279 rows x 1 columns]"
      ]
     },
     "execution_count": 23,
     "metadata": {},
     "output_type": "execute_result"
    }
   ],
   "source": [
    "df_reg = pd.read_csv('C:\\\\Users\\\\Naravith\\\\Desktop\\\\ปี4\\\\Project - github\\\\Project\\\\RYU\\\\link4.csv')\n",
    "\n",
    "df_reg = df_reg[['BW_Utilization']]\n",
    "df_reg"
   ]
  },
  {
   "cell_type": "code",
   "execution_count": 24,
   "metadata": {},
   "outputs": [],
   "source": [
    "future_days = 25"
   ]
  },
  {
   "cell_type": "code",
   "execution_count": 25,
   "metadata": {},
   "outputs": [
    {
     "data": {
      "text/html": [
       "<div>\n",
       "<style scoped>\n",
       "    .dataframe tbody tr th:only-of-type {\n",
       "        vertical-align: middle;\n",
       "    }\n",
       "\n",
       "    .dataframe tbody tr th {\n",
       "        vertical-align: top;\n",
       "    }\n",
       "\n",
       "    .dataframe thead th {\n",
       "        text-align: right;\n",
       "    }\n",
       "</style>\n",
       "<table border=\"1\" class=\"dataframe\">\n",
       "  <thead>\n",
       "    <tr style=\"text-align: right;\">\n",
       "      <th></th>\n",
       "      <th>BW_Utilization</th>\n",
       "      <th>Prediction</th>\n",
       "    </tr>\n",
       "  </thead>\n",
       "  <tbody>\n",
       "    <tr>\n",
       "      <td>249</td>\n",
       "      <td>0.579305</td>\n",
       "      <td>0.164200</td>\n",
       "    </tr>\n",
       "    <tr>\n",
       "      <td>250</td>\n",
       "      <td>0.613214</td>\n",
       "      <td>0.153910</td>\n",
       "    </tr>\n",
       "    <tr>\n",
       "      <td>251</td>\n",
       "      <td>0.624327</td>\n",
       "      <td>0.140826</td>\n",
       "    </tr>\n",
       "    <tr>\n",
       "      <td>252</td>\n",
       "      <td>0.611047</td>\n",
       "      <td>0.148933</td>\n",
       "    </tr>\n",
       "    <tr>\n",
       "      <td>253</td>\n",
       "      <td>0.631496</td>\n",
       "      <td>0.047742</td>\n",
       "    </tr>\n",
       "    <tr>\n",
       "      <td>254</td>\n",
       "      <td>0.639740</td>\n",
       "      <td>NaN</td>\n",
       "    </tr>\n",
       "    <tr>\n",
       "      <td>255</td>\n",
       "      <td>0.640918</td>\n",
       "      <td>NaN</td>\n",
       "    </tr>\n",
       "    <tr>\n",
       "      <td>256</td>\n",
       "      <td>0.598611</td>\n",
       "      <td>NaN</td>\n",
       "    </tr>\n",
       "    <tr>\n",
       "      <td>257</td>\n",
       "      <td>0.575805</td>\n",
       "      <td>NaN</td>\n",
       "    </tr>\n",
       "    <tr>\n",
       "      <td>258</td>\n",
       "      <td>0.547818</td>\n",
       "      <td>NaN</td>\n",
       "    </tr>\n",
       "    <tr>\n",
       "      <td>259</td>\n",
       "      <td>0.615997</td>\n",
       "      <td>NaN</td>\n",
       "    </tr>\n",
       "    <tr>\n",
       "      <td>260</td>\n",
       "      <td>0.542134</td>\n",
       "      <td>NaN</td>\n",
       "    </tr>\n",
       "    <tr>\n",
       "      <td>261</td>\n",
       "      <td>0.523974</td>\n",
       "      <td>NaN</td>\n",
       "    </tr>\n",
       "    <tr>\n",
       "      <td>262</td>\n",
       "      <td>0.492773</td>\n",
       "      <td>NaN</td>\n",
       "    </tr>\n",
       "    <tr>\n",
       "      <td>263</td>\n",
       "      <td>0.404732</td>\n",
       "      <td>NaN</td>\n",
       "    </tr>\n",
       "    <tr>\n",
       "      <td>264</td>\n",
       "      <td>0.312869</td>\n",
       "      <td>NaN</td>\n",
       "    </tr>\n",
       "    <tr>\n",
       "      <td>265</td>\n",
       "      <td>0.320067</td>\n",
       "      <td>NaN</td>\n",
       "    </tr>\n",
       "    <tr>\n",
       "      <td>266</td>\n",
       "      <td>0.293758</td>\n",
       "      <td>NaN</td>\n",
       "    </tr>\n",
       "    <tr>\n",
       "      <td>267</td>\n",
       "      <td>0.224120</td>\n",
       "      <td>NaN</td>\n",
       "    </tr>\n",
       "    <tr>\n",
       "      <td>268</td>\n",
       "      <td>0.175837</td>\n",
       "      <td>NaN</td>\n",
       "    </tr>\n",
       "    <tr>\n",
       "      <td>269</td>\n",
       "      <td>0.150706</td>\n",
       "      <td>NaN</td>\n",
       "    </tr>\n",
       "    <tr>\n",
       "      <td>270</td>\n",
       "      <td>0.169614</td>\n",
       "      <td>NaN</td>\n",
       "    </tr>\n",
       "    <tr>\n",
       "      <td>271</td>\n",
       "      <td>0.141552</td>\n",
       "      <td>NaN</td>\n",
       "    </tr>\n",
       "    <tr>\n",
       "      <td>272</td>\n",
       "      <td>0.149641</td>\n",
       "      <td>NaN</td>\n",
       "    </tr>\n",
       "    <tr>\n",
       "      <td>273</td>\n",
       "      <td>0.151678</td>\n",
       "      <td>NaN</td>\n",
       "    </tr>\n",
       "    <tr>\n",
       "      <td>274</td>\n",
       "      <td>0.164200</td>\n",
       "      <td>NaN</td>\n",
       "    </tr>\n",
       "    <tr>\n",
       "      <td>275</td>\n",
       "      <td>0.153910</td>\n",
       "      <td>NaN</td>\n",
       "    </tr>\n",
       "    <tr>\n",
       "      <td>276</td>\n",
       "      <td>0.140826</td>\n",
       "      <td>NaN</td>\n",
       "    </tr>\n",
       "    <tr>\n",
       "      <td>277</td>\n",
       "      <td>0.148933</td>\n",
       "      <td>NaN</td>\n",
       "    </tr>\n",
       "    <tr>\n",
       "      <td>278</td>\n",
       "      <td>0.047742</td>\n",
       "      <td>NaN</td>\n",
       "    </tr>\n",
       "  </tbody>\n",
       "</table>\n",
       "</div>"
      ],
      "text/plain": [
       "     BW_Utilization  Prediction\n",
       "249        0.579305    0.164200\n",
       "250        0.613214    0.153910\n",
       "251        0.624327    0.140826\n",
       "252        0.611047    0.148933\n",
       "253        0.631496    0.047742\n",
       "254        0.639740         NaN\n",
       "255        0.640918         NaN\n",
       "256        0.598611         NaN\n",
       "257        0.575805         NaN\n",
       "258        0.547818         NaN\n",
       "259        0.615997         NaN\n",
       "260        0.542134         NaN\n",
       "261        0.523974         NaN\n",
       "262        0.492773         NaN\n",
       "263        0.404732         NaN\n",
       "264        0.312869         NaN\n",
       "265        0.320067         NaN\n",
       "266        0.293758         NaN\n",
       "267        0.224120         NaN\n",
       "268        0.175837         NaN\n",
       "269        0.150706         NaN\n",
       "270        0.169614         NaN\n",
       "271        0.141552         NaN\n",
       "272        0.149641         NaN\n",
       "273        0.151678         NaN\n",
       "274        0.164200         NaN\n",
       "275        0.153910         NaN\n",
       "276        0.140826         NaN\n",
       "277        0.148933         NaN\n",
       "278        0.047742         NaN"
      ]
     },
     "execution_count": 25,
     "metadata": {},
     "output_type": "execute_result"
    }
   ],
   "source": [
    "df_reg['Prediction'] = df_reg[['BW_Utilization']].shift(-future_days)\n",
    "df_reg.tail(30)"
   ]
  },
  {
   "cell_type": "code",
   "execution_count": 26,
   "metadata": {},
   "outputs": [
    {
     "data": {
      "text/plain": [
       "array([[0.004477  ],\n",
       "       [0.00114235],\n",
       "       [0.18157021],\n",
       "       [0.60118164],\n",
       "       [0.61205986],\n",
       "       [0.6183448 ],\n",
       "       [0.6241301 ],\n",
       "       [0.59890114],\n",
       "       [0.63363548],\n",
       "       [0.62194687],\n",
       "       [0.61796562],\n",
       "       [0.62250053],\n",
       "       [0.62757828],\n",
       "       [0.63336197],\n",
       "       [0.61567513],\n",
       "       [0.63200279],\n",
       "       [0.61021942],\n",
       "       [0.64174812],\n",
       "       [0.58085937],\n",
       "       [0.59640182],\n",
       "       [0.56082405],\n",
       "       [0.64853096],\n",
       "       [0.6351033 ],\n",
       "       [0.61953392],\n",
       "       [0.62341759],\n",
       "       [0.62826393],\n",
       "       [0.62592545],\n",
       "       [0.60809319],\n",
       "       [0.61666634],\n",
       "       [0.62016663],\n",
       "       [0.60701309],\n",
       "       [0.63200111],\n",
       "       [0.61420601],\n",
       "       [0.61367676],\n",
       "       [0.6196817 ],\n",
       "       [0.61642204],\n",
       "       [0.615298  ],\n",
       "       [0.61428291],\n",
       "       [0.61763397],\n",
       "       [0.62536598],\n",
       "       [0.60308411],\n",
       "       [0.60884178],\n",
       "       [0.62622627],\n",
       "       [0.63294495],\n",
       "       [0.62277496],\n",
       "       [0.60787369],\n",
       "       [0.60995407],\n",
       "       [0.59033897],\n",
       "       [0.57905174],\n",
       "       [0.60611382],\n",
       "       [0.5713028 ],\n",
       "       [0.57060684],\n",
       "       [0.39800499],\n",
       "       [0.40572731],\n",
       "       [0.40680382],\n",
       "       [0.40262009],\n",
       "       [0.39437675],\n",
       "       [0.40724884],\n",
       "       [0.39688957],\n",
       "       [0.41399376],\n",
       "       [0.40334999],\n",
       "       [0.39712677],\n",
       "       [0.38263344],\n",
       "       [0.36329765],\n",
       "       [0.4103598 ],\n",
       "       [0.39644997],\n",
       "       [0.40106468],\n",
       "       [0.41213531],\n",
       "       [0.39776024],\n",
       "       [0.40622864],\n",
       "       [0.38903618],\n",
       "       [0.3930603 ],\n",
       "       [0.39971207],\n",
       "       [0.39061485],\n",
       "       [0.38820221],\n",
       "       [0.39299461],\n",
       "       [0.39300179],\n",
       "       [0.38464767],\n",
       "       [0.39353485],\n",
       "       [0.38516586],\n",
       "       [0.39603462],\n",
       "       [0.39559723],\n",
       "       [0.37077003],\n",
       "       [0.39374527],\n",
       "       [0.36727165],\n",
       "       [0.50103348],\n",
       "       [0.6822847 ],\n",
       "       [0.72085556],\n",
       "       [0.72258835],\n",
       "       [0.74525177],\n",
       "       [0.73754524],\n",
       "       [0.74933327],\n",
       "       [0.65032845],\n",
       "       [0.74829193],\n",
       "       [0.68664116],\n",
       "       [0.70155777],\n",
       "       [0.67409019],\n",
       "       [0.61640495],\n",
       "       [0.68972282],\n",
       "       [0.66525833],\n",
       "       [0.68767014],\n",
       "       [0.63377541],\n",
       "       [0.74227448],\n",
       "       [0.62366158],\n",
       "       [0.59161354],\n",
       "       [0.60615555],\n",
       "       [0.61321381],\n",
       "       [0.59646729],\n",
       "       [0.60607666],\n",
       "       [0.67174004],\n",
       "       [0.63161873],\n",
       "       [0.57046738],\n",
       "       [0.59255287],\n",
       "       [0.57975601],\n",
       "       [0.51068367],\n",
       "       [0.50185783],\n",
       "       [0.48530205],\n",
       "       [0.47103004],\n",
       "       [0.5620443 ],\n",
       "       [0.48005241],\n",
       "       [0.41320625],\n",
       "       [0.41576675],\n",
       "       [0.38079933],\n",
       "       [0.38687164],\n",
       "       [0.41409744],\n",
       "       [0.4012632 ],\n",
       "       [0.39529106],\n",
       "       [0.39239143],\n",
       "       [0.39362045],\n",
       "       [0.40368874],\n",
       "       [0.22277061],\n",
       "       [0.23953674],\n",
       "       [0.20772438],\n",
       "       [0.21069756],\n",
       "       [0.20579468],\n",
       "       [0.17346626],\n",
       "       [0.15714439],\n",
       "       [0.1398642 ],\n",
       "       [0.12913795],\n",
       "       [0.14357056],\n",
       "       [0.16153244],\n",
       "       [0.14278481],\n",
       "       [0.15245872],\n",
       "       [0.14991905],\n",
       "       [0.16478363],\n",
       "       [0.00986862],\n",
       "       [0.11101692],\n",
       "       [0.51515778],\n",
       "       [0.61590027],\n",
       "       [0.61766525],\n",
       "       [0.617341  ],\n",
       "       [0.61668327],\n",
       "       [0.61921928],\n",
       "       [0.61299866],\n",
       "       [0.61376465],\n",
       "       [0.61760857],\n",
       "       [0.6160746 ],\n",
       "       [0.61613625],\n",
       "       [0.61634964],\n",
       "       [0.62212219],\n",
       "       [0.61541573],\n",
       "       [0.61813972],\n",
       "       [0.61897301],\n",
       "       [0.61353966],\n",
       "       [0.61600533],\n",
       "       [0.61853378],\n",
       "       [0.61892029],\n",
       "       [0.61080788],\n",
       "       [0.61745384],\n",
       "       [0.62057892],\n",
       "       [0.62083961],\n",
       "       [0.61584656],\n",
       "       [0.6166082 ],\n",
       "       [0.61693214],\n",
       "       [0.61852638],\n",
       "       [0.61940178],\n",
       "       [0.6174231 ],\n",
       "       [0.61635208],\n",
       "       [0.61588692],\n",
       "       [0.61619698],\n",
       "       [0.62081696],\n",
       "       [0.61672234],\n",
       "       [0.61638474],\n",
       "       [0.62161003],\n",
       "       [0.61351593],\n",
       "       [0.61148315],\n",
       "       [0.6145443 ],\n",
       "       [0.61312027],\n",
       "       [0.6103981 ],\n",
       "       [0.61736763],\n",
       "       [0.61901459],\n",
       "       [0.59067299],\n",
       "       [0.5671418 ],\n",
       "       [0.56504768],\n",
       "       [0.56974716],\n",
       "       [0.56823204],\n",
       "       [0.46558739],\n",
       "       [0.39774582],\n",
       "       [0.39751915],\n",
       "       [0.40278564],\n",
       "       [0.40399384],\n",
       "       [0.40836365],\n",
       "       [0.40067963],\n",
       "       [0.39512047],\n",
       "       [0.40157494],\n",
       "       [0.39848289],\n",
       "       [0.40423843],\n",
       "       [0.31330956],\n",
       "       [0.31878914],\n",
       "       [0.32224327],\n",
       "       [0.32564857],\n",
       "       [0.32036026],\n",
       "       [0.31081947],\n",
       "       [0.32045471],\n",
       "       [0.33565384],\n",
       "       [0.3189225 ],\n",
       "       [0.31539253],\n",
       "       [0.31087547],\n",
       "       [0.41171562],\n",
       "       [0.65422241],\n",
       "       [0.65176476],\n",
       "       [0.65779823],\n",
       "       [0.64689285],\n",
       "       [0.61504333],\n",
       "       [0.65582535],\n",
       "       [0.65694138],\n",
       "       [0.650065  ],\n",
       "       [0.56122932],\n",
       "       [0.59433403],\n",
       "       [0.63979553],\n",
       "       [0.60671753],\n",
       "       [0.61566986],\n",
       "       [0.62347633],\n",
       "       [0.62406883],\n",
       "       [0.63376816],\n",
       "       [0.63180885],\n",
       "       [0.62685219],\n",
       "       [0.68342865],\n",
       "       [0.66944298],\n",
       "       [0.63158928],\n",
       "       [0.64950447],\n",
       "       [0.58271011],\n",
       "       [0.60329498],\n",
       "       [0.62526154],\n",
       "       [0.63271049],\n",
       "       [0.61711433],\n",
       "       [0.59948441],\n",
       "       [0.56963326],\n",
       "       [0.60493477],\n",
       "       [0.57930489],\n",
       "       [0.61321358],\n",
       "       [0.62432732],\n",
       "       [0.61104668],\n",
       "       [0.6314959 ]])"
      ]
     },
     "execution_count": 26,
     "metadata": {},
     "output_type": "execute_result"
    }
   ],
   "source": [
    "# Create the feature dataset (X) and convert to numpy array and remove the last 'x' rows days\n",
    "X = np.array(df_reg.drop(['Prediction'],1))[:-future_days]\n",
    "X"
   ]
  },
  {
   "cell_type": "code",
   "execution_count": 27,
   "metadata": {},
   "outputs": [
    {
     "data": {
      "text/plain": [
       "(254, 1)"
      ]
     },
     "execution_count": 27,
     "metadata": {},
     "output_type": "execute_result"
    }
   ],
   "source": [
    "X.shape"
   ]
  },
  {
   "cell_type": "code",
   "execution_count": 29,
   "metadata": {},
   "outputs": [
    {
     "data": {
      "text/plain": [
       "array([0.62826393, 0.62592545, 0.60809319, 0.61666634, 0.62016663,\n",
       "       0.60701309, 0.63200111, 0.61420601, 0.61367676, 0.6196817 ,\n",
       "       0.61642204, 0.615298  , 0.61428291, 0.61763397, 0.62536598,\n",
       "       0.60308411, 0.60884178, 0.62622627, 0.63294495, 0.62277496,\n",
       "       0.60787369, 0.60995407, 0.59033897, 0.57905174, 0.60611382,\n",
       "       0.5713028 , 0.57060684, 0.39800499, 0.40572731, 0.40680382,\n",
       "       0.40262009, 0.39437675, 0.40724884, 0.39688957, 0.41399376,\n",
       "       0.40334999, 0.39712677, 0.38263344, 0.36329765, 0.4103598 ,\n",
       "       0.39644997, 0.40106468, 0.41213531, 0.39776024, 0.40622864,\n",
       "       0.38903618, 0.3930603 , 0.39971207, 0.39061485, 0.38820221,\n",
       "       0.39299461, 0.39300179, 0.38464767, 0.39353485, 0.38516586,\n",
       "       0.39603462, 0.39559723, 0.37077003, 0.39374527, 0.36727165,\n",
       "       0.50103348, 0.6822847 , 0.72085556, 0.72258835, 0.74525177,\n",
       "       0.73754524, 0.74933327, 0.65032845, 0.74829193, 0.68664116,\n",
       "       0.70155777, 0.67409019, 0.61640495, 0.68972282, 0.66525833,\n",
       "       0.68767014, 0.63377541, 0.74227448, 0.62366158, 0.59161354,\n",
       "       0.60615555, 0.61321381, 0.59646729, 0.60607666, 0.67174004,\n",
       "       0.63161873, 0.57046738, 0.59255287, 0.57975601, 0.51068367,\n",
       "       0.50185783, 0.48530205, 0.47103004, 0.5620443 , 0.48005241,\n",
       "       0.41320625, 0.41576675, 0.38079933, 0.38687164, 0.41409744,\n",
       "       0.4012632 , 0.39529106, 0.39239143, 0.39362045, 0.40368874,\n",
       "       0.22277061, 0.23953674, 0.20772438, 0.21069756, 0.20579468,\n",
       "       0.17346626, 0.15714439, 0.1398642 , 0.12913795, 0.14357056,\n",
       "       0.16153244, 0.14278481, 0.15245872, 0.14991905, 0.16478363,\n",
       "       0.00986862, 0.11101692, 0.51515778, 0.61590027, 0.61766525,\n",
       "       0.617341  , 0.61668327, 0.61921928, 0.61299866, 0.61376465,\n",
       "       0.61760857, 0.6160746 , 0.61613625, 0.61634964, 0.62212219,\n",
       "       0.61541573, 0.61813972, 0.61897301, 0.61353966, 0.61600533,\n",
       "       0.61853378, 0.61892029, 0.61080788, 0.61745384, 0.62057892,\n",
       "       0.62083961, 0.61584656, 0.6166082 , 0.61693214, 0.61852638,\n",
       "       0.61940178, 0.6174231 , 0.61635208, 0.61588692, 0.61619698,\n",
       "       0.62081696, 0.61672234, 0.61638474, 0.62161003, 0.61351593,\n",
       "       0.61148315, 0.6145443 , 0.61312027, 0.6103981 , 0.61736763,\n",
       "       0.61901459, 0.59067299, 0.5671418 , 0.56504768, 0.56974716,\n",
       "       0.56823204, 0.46558739, 0.39774582, 0.39751915, 0.40278564,\n",
       "       0.40399384, 0.40836365, 0.40067963, 0.39512047, 0.40157494,\n",
       "       0.39848289, 0.40423843, 0.31330956, 0.31878914, 0.32224327,\n",
       "       0.32564857, 0.32036026, 0.31081947, 0.32045471, 0.33565384,\n",
       "       0.3189225 , 0.31539253, 0.31087547, 0.41171562, 0.65422241,\n",
       "       0.65176476, 0.65779823, 0.64689285, 0.61504333, 0.65582535,\n",
       "       0.65694138, 0.650065  , 0.56122932, 0.59433403, 0.63979553,\n",
       "       0.60671753, 0.61566986, 0.62347633, 0.62406883, 0.63376816,\n",
       "       0.63180885, 0.62685219, 0.68342865, 0.66944298, 0.63158928,\n",
       "       0.64950447, 0.58271011, 0.60329498, 0.62526154, 0.63271049,\n",
       "       0.61711433, 0.59948441, 0.56963326, 0.60493477, 0.57930489,\n",
       "       0.61321358, 0.62432732, 0.61104668, 0.6314959 , 0.63973976,\n",
       "       0.64091789, 0.59861061, 0.57580482, 0.54781754, 0.61599716,\n",
       "       0.54213394, 0.5239743 , 0.49277328, 0.4047316 , 0.3128688 ,\n",
       "       0.32006699, 0.29375793, 0.22412048, 0.17583725, 0.15070602,\n",
       "       0.16961411, 0.14155235, 0.14964149, 0.1516777 , 0.16419983,\n",
       "       0.15391037, 0.14082619, 0.14893288, 0.04774216])"
      ]
     },
     "execution_count": 29,
     "metadata": {},
     "output_type": "execute_result"
    }
   ],
   "source": [
    "# Create target dataset (y), convert to nparray and get all of target value except the last 'x' rows or days\n",
    "y = np.array(df_reg['Prediction'])[:-future_days]\n",
    "y"
   ]
  },
  {
   "cell_type": "code",
   "execution_count": 30,
   "metadata": {},
   "outputs": [],
   "source": [
    "# Split the data into 75% train and 25% test and create the model\n",
    "x_train, x_test, y_train, y_test = train_test_split(X,y,test_size = 0.25)\n",
    "\n",
    "#Create a model\n",
    "tree = DecisionTreeRegressor().fit(x_train, y_train)\n",
    "lr = LinearRegression().fit(x_train, y_train)"
   ]
  },
  {
   "cell_type": "code",
   "execution_count": 31,
   "metadata": {},
   "outputs": [
    {
     "data": {
      "text/plain": [
       "(190,)"
      ]
     },
     "execution_count": 31,
     "metadata": {},
     "output_type": "execute_result"
    }
   ],
   "source": [
    "y_train.shape"
   ]
  },
  {
   "cell_type": "code",
   "execution_count": 32,
   "metadata": {},
   "outputs": [
    {
     "data": {
      "text/plain": [
       "array([[0.63979553],\n",
       "       [0.60671753],\n",
       "       [0.61566986],\n",
       "       [0.62347633],\n",
       "       [0.62406883],\n",
       "       [0.63376816],\n",
       "       [0.63180885],\n",
       "       [0.62685219],\n",
       "       [0.68342865],\n",
       "       [0.66944298],\n",
       "       [0.63158928],\n",
       "       [0.64950447],\n",
       "       [0.58271011],\n",
       "       [0.60329498],\n",
       "       [0.62526154],\n",
       "       [0.63271049],\n",
       "       [0.61711433],\n",
       "       [0.59948441],\n",
       "       [0.56963326],\n",
       "       [0.60493477],\n",
       "       [0.57930489],\n",
       "       [0.61321358],\n",
       "       [0.62432732],\n",
       "       [0.61104668],\n",
       "       [0.6314959 ]])"
      ]
     },
     "execution_count": 32,
     "metadata": {},
     "output_type": "execute_result"
    }
   ],
   "source": [
    "# Get the last 'x' rows of feature dataset (Last 25 days)\n",
    "x_future = df_reg.drop(['Prediction'],1)[:-future_days]\n",
    "x_future = x_future.tail(future_days)\n",
    "\n",
    "#convert to np array\n",
    "x_future = np.array(x_future)\n",
    "x_future\n",
    "\n",
    "# X_Future is the input for model prediction"
   ]
  },
  {
   "cell_type": "code",
   "execution_count": 33,
   "metadata": {},
   "outputs": [
    {
     "name": "stdout",
     "output_type": "stream",
     "text": [
      "[0.63973976 0.64091789 0.62536598 0.57580482 0.54781754 0.61599716\n",
      " 0.54213394 0.5239743  0.57046738 0.4047316  0.3128688  0.62432732\n",
      " 0.29375793 0.22412048 0.17583725 0.15070602 0.16961411 0.14155235\n",
      " 0.14964149 0.1516777  0.16419983 0.15391037 0.63200111 0.14893288\n",
      " 0.3128688 ]\n"
     ]
    }
   ],
   "source": [
    "tree_prediction = tree.predict(x_future)\n",
    "lr_prediction = lr.predict(x_future)\n",
    "\n",
    "print(tree_prediction)"
   ]
  },
  {
   "cell_type": "code",
   "execution_count": 34,
   "metadata": {},
   "outputs": [
    {
     "data": {
      "text/plain": [
       "(25,)"
      ]
     },
     "execution_count": 34,
     "metadata": {},
     "output_type": "execute_result"
    }
   ],
   "source": [
    "tree_prediction.shape"
   ]
  },
  {
   "cell_type": "code",
   "execution_count": 35,
   "metadata": {},
   "outputs": [
    {
     "data": {
      "text/plain": [
       "0.2642422323682812"
      ]
     },
     "execution_count": 35,
     "metadata": {},
     "output_type": "execute_result"
    }
   ],
   "source": [
    "math.sqrt(mean_squared_error(y_test[-25:],tree_prediction))"
   ]
  },
  {
   "cell_type": "code",
   "execution_count": 36,
   "metadata": {},
   "outputs": [
    {
     "data": {
      "text/plain": [
       "0.16338823098774352"
      ]
     },
     "execution_count": 36,
     "metadata": {},
     "output_type": "execute_result"
    }
   ],
   "source": [
    "math.sqrt(mean_squared_error(y_test[-25:],lr_prediction))"
   ]
  },
  {
   "cell_type": "code",
   "execution_count": null,
   "metadata": {},
   "outputs": [],
   "source": []
  }
 ],
 "metadata": {
  "kernelspec": {
   "display_name": "TensorFlow2-GPU",
   "language": "python",
   "name": "base"
  },
  "language_info": {
   "codemirror_mode": {
    "name": "ipython",
    "version": 3
   },
   "file_extension": ".py",
   "mimetype": "text/x-python",
   "name": "python",
   "nbconvert_exporter": "python",
   "pygments_lexer": "ipython3",
   "version": "3.7.4"
  }
 },
 "nbformat": 4,
 "nbformat_minor": 2
}
