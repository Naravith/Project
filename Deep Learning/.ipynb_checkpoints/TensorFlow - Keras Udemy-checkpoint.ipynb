{
 "cells": [
  {
   "cell_type": "markdown",
   "metadata": {},
   "source": [
    "# -- The First Section is learned from Udemy course -- "
   ]
  },
  {
   "cell_type": "code",
   "execution_count": 1,
   "metadata": {},
   "outputs": [],
   "source": [
    "import pandas as pd\n",
    "import numpy as np\n",
    "import seaborn as sns\n",
    "\n",
    "from sklearn.model_selection import train_test_split\n",
    "from sklearn.preprocessing import MinMaxScaler\n",
    "from sklearn.metrics import mean_absolute_error, mean_squared_error\n",
    "\n",
    "from tensorflow.keras.models import Sequential\n",
    "from tensorflow.keras.layers import Dense, Activation"
   ]
  },
  {
   "cell_type": "code",
   "execution_count": 2,
   "metadata": {},
   "outputs": [],
   "source": [
    "df = pd.read_csv('C:/Users/Naravith/Desktop/ปี4/Project - github/TensorFlow_FILES/DATA/fake_reg.csv')"
   ]
  },
  {
   "cell_type": "code",
   "execution_count": 3,
   "metadata": {},
   "outputs": [
    {
     "data": {
      "text/html": [
       "<div>\n",
       "<style scoped>\n",
       "    .dataframe tbody tr th:only-of-type {\n",
       "        vertical-align: middle;\n",
       "    }\n",
       "\n",
       "    .dataframe tbody tr th {\n",
       "        vertical-align: top;\n",
       "    }\n",
       "\n",
       "    .dataframe thead th {\n",
       "        text-align: right;\n",
       "    }\n",
       "</style>\n",
       "<table border=\"1\" class=\"dataframe\">\n",
       "  <thead>\n",
       "    <tr style=\"text-align: right;\">\n",
       "      <th></th>\n",
       "      <th>price</th>\n",
       "      <th>feature1</th>\n",
       "      <th>feature2</th>\n",
       "    </tr>\n",
       "  </thead>\n",
       "  <tbody>\n",
       "    <tr>\n",
       "      <td>0</td>\n",
       "      <td>461.527929</td>\n",
       "      <td>999.787558</td>\n",
       "      <td>999.766096</td>\n",
       "    </tr>\n",
       "    <tr>\n",
       "      <td>1</td>\n",
       "      <td>548.130011</td>\n",
       "      <td>998.861615</td>\n",
       "      <td>1001.042403</td>\n",
       "    </tr>\n",
       "    <tr>\n",
       "      <td>2</td>\n",
       "      <td>410.297162</td>\n",
       "      <td>1000.070267</td>\n",
       "      <td>998.844015</td>\n",
       "    </tr>\n",
       "    <tr>\n",
       "      <td>3</td>\n",
       "      <td>540.382220</td>\n",
       "      <td>999.952251</td>\n",
       "      <td>1000.440940</td>\n",
       "    </tr>\n",
       "    <tr>\n",
       "      <td>4</td>\n",
       "      <td>546.024553</td>\n",
       "      <td>1000.446011</td>\n",
       "      <td>1000.338531</td>\n",
       "    </tr>\n",
       "  </tbody>\n",
       "</table>\n",
       "</div>"
      ],
      "text/plain": [
       "        price     feature1     feature2\n",
       "0  461.527929   999.787558   999.766096\n",
       "1  548.130011   998.861615  1001.042403\n",
       "2  410.297162  1000.070267   998.844015\n",
       "3  540.382220   999.952251  1000.440940\n",
       "4  546.024553  1000.446011  1000.338531"
      ]
     },
     "execution_count": 3,
     "metadata": {},
     "output_type": "execute_result"
    }
   ],
   "source": [
    "df.head()"
   ]
  },
  {
   "cell_type": "code",
   "execution_count": 4,
   "metadata": {},
   "outputs": [
    {
     "name": "stdout",
     "output_type": "stream",
     "text": [
      "[[ 999.78755752  999.7660962 ]\n",
      " [ 998.86161491 1001.04240315]\n",
      " [1000.07026691  998.84401463]\n",
      " ...\n",
      " [1001.45164617  998.84760554]\n",
      " [1000.77102275  998.56285086]\n",
      " [ 999.2322436  1001.45140713]]\n"
     ]
    }
   ],
   "source": [
    "X = df[['feature1','feature2']].values\n",
    "print(X)"
   ]
  },
  {
   "cell_type": "code",
   "execution_count": 5,
   "metadata": {},
   "outputs": [],
   "source": [
    "y = df['price'].values"
   ]
  },
  {
   "cell_type": "markdown",
   "metadata": {},
   "source": [
    "# 1. Test - Train Split"
   ]
  },
  {
   "cell_type": "code",
   "execution_count": 6,
   "metadata": {},
   "outputs": [],
   "source": [
    "X_train, X_test, y_train, y_test = train_test_split(X, y, test_size=0.33, random_state=42)"
   ]
  },
  {
   "cell_type": "code",
   "execution_count": 7,
   "metadata": {},
   "outputs": [
    {
     "data": {
      "text/plain": [
       "(670, 2)"
      ]
     },
     "execution_count": 7,
     "metadata": {},
     "output_type": "execute_result"
    }
   ],
   "source": [
    "X_train.shape"
   ]
  },
  {
   "cell_type": "code",
   "execution_count": 8,
   "metadata": {},
   "outputs": [
    {
     "data": {
      "text/plain": [
       "(330, 2)"
      ]
     },
     "execution_count": 8,
     "metadata": {},
     "output_type": "execute_result"
    }
   ],
   "source": [
    "X_test.shape"
   ]
  },
  {
   "cell_type": "markdown",
   "metadata": {},
   "source": [
    "# 2. Scaling Data\n",
    "\n",
    "#### Scale Features, Don't need to scale the label. "
   ]
  },
  {
   "cell_type": "code",
   "execution_count": 9,
   "metadata": {},
   "outputs": [],
   "source": [
    "scaler = MinMaxScaler()"
   ]
  },
  {
   "cell_type": "code",
   "execution_count": 10,
   "metadata": {},
   "outputs": [
    {
     "data": {
      "text/plain": [
       "MinMaxScaler(copy=True, feature_range=(0, 1))"
      ]
     },
     "execution_count": 10,
     "metadata": {},
     "output_type": "execute_result"
    }
   ],
   "source": [
    "# Calculate what's needed for the transformation (Train set only)\n",
    "scaler.fit(X_train)"
   ]
  },
  {
   "cell_type": "code",
   "execution_count": 11,
   "metadata": {},
   "outputs": [],
   "source": [
    "# Perform Transformation\n",
    "X_train = scaler.transform(X_train)"
   ]
  },
  {
   "cell_type": "code",
   "execution_count": 12,
   "metadata": {},
   "outputs": [],
   "source": [
    "X_test = scaler.transform(X_test)"
   ]
  },
  {
   "cell_type": "code",
   "execution_count": 13,
   "metadata": {},
   "outputs": [
    {
     "data": {
      "text/plain": [
       "1.0"
      ]
     },
     "execution_count": 13,
     "metadata": {},
     "output_type": "execute_result"
    }
   ],
   "source": [
    "X_train.max()  # Value is now between 0 - 1"
   ]
  },
  {
   "cell_type": "markdown",
   "metadata": {},
   "source": [
    "# 3. Building and Compile a Model"
   ]
  },
  {
   "cell_type": "markdown",
   "metadata": {},
   "source": [
    "model = Sequential([\n",
    "    Dense(4,activation='relu'),\n",
    "    Dense(2,activation='relu'),\n",
    "    Dense(1)\n",
    "])\n",
    "\n",
    "or using"
   ]
  },
  {
   "cell_type": "code",
   "execution_count": 14,
   "metadata": {},
   "outputs": [],
   "source": [
    "model = Sequential()\n",
    "\n",
    "model.add(Dense(4,activation='relu'))\n",
    "model.add(Dense(4,activation='relu'))\n",
    "model.add(Dense(4,activation='relu'))\n",
    "model.add(Dense(1))\n"
   ]
  },
  {
   "cell_type": "code",
   "execution_count": 33,
   "metadata": {},
   "outputs": [
    {
     "name": "stdout",
     "output_type": "stream",
     "text": [
      "Model: \"sequential\"\n",
      "_________________________________________________________________\n",
      "Layer (type)                 Output Shape              Param #   \n",
      "=================================================================\n",
      "dense (Dense)                (None, 4)                 12        \n",
      "_________________________________________________________________\n",
      "dense_1 (Dense)              (None, 4)                 20        \n",
      "_________________________________________________________________\n",
      "dense_2 (Dense)              (None, 4)                 20        \n",
      "_________________________________________________________________\n",
      "dense_3 (Dense)              (None, 1)                 5         \n",
      "=================================================================\n",
      "Total params: 57\n",
      "Trainable params: 57\n",
      "Non-trainable params: 0\n",
      "_________________________________________________________________\n"
     ]
    }
   ],
   "source": [
    "model.summary()"
   ]
  },
  {
   "cell_type": "code",
   "execution_count": 15,
   "metadata": {},
   "outputs": [],
   "source": [
    "model.compile(\n",
    "    optimizer='rmsprop',\n",
    "    loss='mse'\n",
    ")"
   ]
  },
  {
   "cell_type": "code",
   "execution_count": 16,
   "metadata": {},
   "outputs": [
    {
     "name": "stdout",
     "output_type": "stream",
     "text": [
      "Epoch 1/100\n",
      "21/21 [==============================] - 0s 3ms/step - loss: 256660.3438\n",
      "Epoch 2/100\n",
      "21/21 [==============================] - 0s 2ms/step - loss: 256635.1719\n",
      "Epoch 3/100\n",
      "21/21 [==============================] - 0s 3ms/step - loss: 256613.9531\n",
      "Epoch 4/100\n",
      "21/21 [==============================] - 0s 3ms/step - loss: 256593.0938\n",
      "Epoch 5/100\n",
      "21/21 [==============================] - 0s 3ms/step - loss: 256572.1719\n",
      "Epoch 6/100\n",
      "21/21 [==============================] - 0s 2ms/step - loss: 256551.3125\n",
      "Epoch 7/100\n",
      "21/21 [==============================] - 0s 2ms/step - loss: 256530.3594\n",
      "Epoch 8/100\n",
      "21/21 [==============================] - 0s 2ms/step - loss: 256509.4375\n",
      "Epoch 9/100\n",
      "21/21 [==============================] - 0s 2ms/step - loss: 256488.6406\n",
      "Epoch 10/100\n",
      "21/21 [==============================] - 0s 2ms/step - loss: 256467.7031\n",
      "Epoch 11/100\n",
      "21/21 [==============================] - 0s 2ms/step - loss: 256446.7812\n",
      "Epoch 12/100\n",
      "21/21 [==============================] - 0s 2ms/step - loss: 256425.8906\n",
      "Epoch 13/100\n",
      "21/21 [==============================] - 0s 2ms/step - loss: 256405.0625\n",
      "Epoch 14/100\n",
      "21/21 [==============================] - 0s 2ms/step - loss: 256384.1250\n",
      "Epoch 15/100\n",
      "21/21 [==============================] - 0s 2ms/step - loss: 256363.2188\n",
      "Epoch 16/100\n",
      "21/21 [==============================] - 0s 2ms/step - loss: 256342.3750\n",
      "Epoch 17/100\n",
      "21/21 [==============================] - 0s 2ms/step - loss: 256321.5000\n",
      "Epoch 18/100\n",
      "21/21 [==============================] - 0s 2ms/step - loss: 256300.5625\n",
      "Epoch 19/100\n",
      "21/21 [==============================] - 0s 2ms/step - loss: 256279.7344\n",
      "Epoch 20/100\n",
      "21/21 [==============================] - 0s 2ms/step - loss: 256258.8906\n",
      "Epoch 21/100\n",
      "21/21 [==============================] - 0s 2ms/step - loss: 256238.0000\n",
      "Epoch 22/100\n",
      "21/21 [==============================] - 0s 3ms/step - loss: 256217.0781\n",
      "Epoch 23/100\n",
      "21/21 [==============================] - 0s 5ms/step - loss: 256196.2031\n",
      "Epoch 24/100\n",
      "21/21 [==============================] - 0s 4ms/step - loss: 256175.3125\n",
      "Epoch 25/100\n",
      "21/21 [==============================] - 0s 4ms/step - loss: 256154.4844\n",
      "Epoch 26/100\n",
      "21/21 [==============================] - 0s 3ms/step - loss: 256133.5938\n",
      "Epoch 27/100\n",
      "21/21 [==============================] - 0s 2ms/step - loss: 256112.6875\n",
      "Epoch 28/100\n",
      "21/21 [==============================] - 0s 2ms/step - loss: 256091.8438\n",
      "Epoch 29/100\n",
      "21/21 [==============================] - 0s 2ms/step - loss: 256070.9688\n",
      "Epoch 30/100\n",
      "21/21 [==============================] - 0s 2ms/step - loss: 256050.0938\n",
      "Epoch 31/100\n",
      "21/21 [==============================] - 0s 2ms/step - loss: 256029.2812\n",
      "Epoch 32/100\n",
      "21/21 [==============================] - 0s 4ms/step - loss: 256008.3594\n",
      "Epoch 33/100\n",
      "21/21 [==============================] - 0s 5ms/step - loss: 255987.4375\n",
      "Epoch 34/100\n",
      "21/21 [==============================] - 0s 5ms/step - loss: 255966.6094\n",
      "Epoch 35/100\n",
      "21/21 [==============================] - 0s 5ms/step - loss: 255945.6719\n",
      "Epoch 36/100\n",
      "21/21 [==============================] - 0s 5ms/step - loss: 255924.8281\n",
      "Epoch 37/100\n",
      "21/21 [==============================] - 0s 5ms/step - loss: 255903.9688\n",
      "Epoch 38/100\n",
      "21/21 [==============================] - 0s 5ms/step - loss: 255883.1719\n",
      "Epoch 39/100\n",
      "21/21 [==============================] - 0s 5ms/step - loss: 255862.2344\n",
      "Epoch 40/100\n",
      "21/21 [==============================] - 0s 5ms/step - loss: 255841.4062\n",
      "Epoch 41/100\n",
      "21/21 [==============================] - 0s 5ms/step - loss: 255820.6094\n",
      "Epoch 42/100\n",
      "21/21 [==============================] - 0s 5ms/step - loss: 255799.6406\n",
      "Epoch 43/100\n",
      "21/21 [==============================] - 0s 5ms/step - loss: 255778.7656\n",
      "Epoch 44/100\n",
      "21/21 [==============================] - 0s 5ms/step - loss: 255757.9219\n",
      "Epoch 45/100\n",
      "21/21 [==============================] - 0s 5ms/step - loss: 255737.0469\n",
      "Epoch 46/100\n",
      "21/21 [==============================] - 0s 4ms/step - loss: 255716.2500\n",
      "Epoch 47/100\n",
      "21/21 [==============================] - 0s 4ms/step - loss: 255695.4219\n",
      "Epoch 48/100\n",
      "21/21 [==============================] - 0s 5ms/step - loss: 255674.5312\n",
      "Epoch 49/100\n",
      "21/21 [==============================] - 0s 5ms/step - loss: 255653.7500\n",
      "Epoch 50/100\n",
      "21/21 [==============================] - 0s 4ms/step - loss: 255632.8125\n",
      "Epoch 51/100\n",
      "21/21 [==============================] - 0s 4ms/step - loss: 255611.9844\n",
      "Epoch 52/100\n",
      "21/21 [==============================] - 0s 4ms/step - loss: 255591.0938\n",
      "Epoch 53/100\n",
      "21/21 [==============================] - 0s 5ms/step - loss: 255570.2969\n",
      "Epoch 54/100\n",
      "21/21 [==============================] - 0s 5ms/step - loss: 255549.4219\n",
      "Epoch 55/100\n",
      "21/21 [==============================] - 0s 5ms/step - loss: 255528.5000\n",
      "Epoch 56/100\n",
      "21/21 [==============================] - 0s 5ms/step - loss: 255507.7188\n",
      "Epoch 57/100\n",
      "21/21 [==============================] - 0s 4ms/step - loss: 255486.8750\n",
      "Epoch 58/100\n",
      "21/21 [==============================] - 0s 5ms/step - loss: 255465.9844\n",
      "Epoch 59/100\n",
      "21/21 [==============================] - 0s 5ms/step - loss: 255445.1562\n",
      "Epoch 60/100\n",
      "21/21 [==============================] - 0s 2ms/step - loss: 255424.3281\n",
      "Epoch 61/100\n",
      "21/21 [==============================] - 0s 2ms/step - loss: 255403.4219\n",
      "Epoch 62/100\n",
      "21/21 [==============================] - 0s 2ms/step - loss: 255382.6875\n",
      "Epoch 63/100\n",
      "21/21 [==============================] - 0s 2ms/step - loss: 255361.8125\n",
      "Epoch 64/100\n",
      "21/21 [==============================] - 0s 2ms/step - loss: 255340.9375\n",
      "Epoch 65/100\n",
      "21/21 [==============================] - 0s 2ms/step - loss: 255320.0781\n",
      "Epoch 66/100\n",
      "21/21 [==============================] - 0s 2ms/step - loss: 255299.1719\n",
      "Epoch 67/100\n",
      "21/21 [==============================] - 0s 2ms/step - loss: 255278.3281\n",
      "Epoch 68/100\n",
      "21/21 [==============================] - 0s 2ms/step - loss: 255257.5781\n",
      "Epoch 69/100\n",
      "21/21 [==============================] - 0s 2ms/step - loss: 255236.7031\n",
      "Epoch 70/100\n",
      "21/21 [==============================] - 0s 2ms/step - loss: 255215.8750\n",
      "Epoch 71/100\n",
      "21/21 [==============================] - 0s 2ms/step - loss: 255195.0312\n",
      "Epoch 72/100\n",
      "21/21 [==============================] - 0s 2ms/step - loss: 255174.2031\n",
      "Epoch 73/100\n",
      "21/21 [==============================] - 0s 2ms/step - loss: 255153.4062\n",
      "Epoch 74/100\n",
      "21/21 [==============================] - 0s 2ms/step - loss: 255132.5312\n",
      "Epoch 75/100\n",
      "21/21 [==============================] - 0s 2ms/step - loss: 255111.6875\n",
      "Epoch 76/100\n",
      "21/21 [==============================] - 0s 2ms/step - loss: 255090.8594\n",
      "Epoch 77/100\n",
      "21/21 [==============================] - 0s 2ms/step - loss: 255070.0938\n",
      "Epoch 78/100\n",
      "21/21 [==============================] - 0s 2ms/step - loss: 255049.2188\n",
      "Epoch 79/100\n",
      "21/21 [==============================] - 0s 2ms/step - loss: 255028.4219\n",
      "Epoch 80/100\n",
      "21/21 [==============================] - 0s 3ms/step - loss: 255007.5156\n",
      "Epoch 81/100\n",
      "21/21 [==============================] - 0s 2ms/step - loss: 254986.7031\n",
      "Epoch 82/100\n",
      "21/21 [==============================] - 0s 2ms/step - loss: 254965.9531\n",
      "Epoch 83/100\n",
      "21/21 [==============================] - 0s 2ms/step - loss: 254945.0938\n",
      "Epoch 84/100\n",
      "21/21 [==============================] - 0s 2ms/step - loss: 254924.2031\n",
      "Epoch 85/100\n",
      "21/21 [==============================] - 0s 3ms/step - loss: 254903.4062\n",
      "Epoch 86/100\n",
      "21/21 [==============================] - 0s 3ms/step - loss: 254882.6094\n",
      "Epoch 87/100\n",
      "21/21 [==============================] - 0s 4ms/step - loss: 254861.7344\n",
      "Epoch 88/100\n",
      "21/21 [==============================] - 0s 5ms/step - loss: 254840.9531\n",
      "Epoch 89/100\n",
      "21/21 [==============================] - 0s 5ms/step - loss: 254820.1562\n",
      "Epoch 90/100\n",
      "21/21 [==============================] - 0s 4ms/step - loss: 254799.3594\n",
      "Epoch 91/100\n",
      "21/21 [==============================] - 0s 4ms/step - loss: 254778.5000\n",
      "Epoch 92/100\n",
      "21/21 [==============================] - 0s 4ms/step - loss: 254757.7500\n",
      "Epoch 93/100\n",
      "21/21 [==============================] - 0s 4ms/step - loss: 254736.9531\n",
      "Epoch 94/100\n",
      "21/21 [==============================] - 0s 5ms/step - loss: 254716.1094\n",
      "Epoch 95/100\n",
      "21/21 [==============================] - 0s 4ms/step - loss: 254695.2656\n",
      "Epoch 96/100\n",
      "21/21 [==============================] - 0s 4ms/step - loss: 254674.4375\n",
      "Epoch 97/100\n",
      "21/21 [==============================] - 0s 4ms/step - loss: 254653.5469\n",
      "Epoch 98/100\n",
      "21/21 [==============================] - 0s 5ms/step - loss: 254632.7344\n",
      "Epoch 99/100\n",
      "21/21 [==============================] - 0s 5ms/step - loss: 254611.9375\n",
      "Epoch 100/100\n",
      "21/21 [==============================] - 0s 5ms/step - loss: 254591.1875\n"
     ]
    },
    {
     "data": {
      "text/plain": [
       "<tensorflow.python.keras.callbacks.History at 0x23f15eeb7c8>"
      ]
     },
     "execution_count": 16,
     "metadata": {},
     "output_type": "execute_result"
    }
   ],
   "source": [
    "model.fit(x=X_train, y=y_train, epochs=250, verbose=1)"
   ]
  },
  {
   "cell_type": "code",
   "execution_count": 17,
   "metadata": {
    "scrolled": true
   },
   "outputs": [
    {
     "data": {
      "text/plain": [
       "<matplotlib.axes._subplots.AxesSubplot at 0x23f160dcb88>"
      ]
     },
     "execution_count": 17,
     "metadata": {},
     "output_type": "execute_result"
    },
    {
     "data": {
      "image/png": "[encoded data removed]",
      "text/plain": [
       "<Figure size 432x288 with 1 Axes>"
      ]
     },
     "metadata": {
      "needs_background": "light"
     },
     "output_type": "display_data"
    }
   ],
   "source": [
    "# Looking at Training history\n",
    "\n",
    "loss_df = pd.DataFrame(model.history.history)\n",
    "loss_df.plot()"
   ]
  },
  {
   "cell_type": "markdown",
   "metadata": {},
   "source": [
    "# 4. Evaluate Model"
   ]
  },
  {
   "cell_type": "code",
   "execution_count": 18,
   "metadata": {},
   "outputs": [
    {
     "data": {
      "text/plain": [
       "256955.03125"
      ]
     },
     "execution_count": 18,
     "metadata": {},
     "output_type": "execute_result"
    }
   ],
   "source": [
    "model.evaluate(X_test,y_test,verbose=0)\n",
    "\n",
    "# Calculate the MSE"
   ]
  },
  {
   "cell_type": "code",
   "execution_count": 19,
   "metadata": {},
   "outputs": [],
   "source": [
    "test_predictions = model.predict(X_test)"
   ]
  },
  {
   "cell_type": "code",
   "execution_count": 20,
   "metadata": {},
   "outputs": [
    {
     "data": {
      "text/plain": [
       "array([[2.1078112],\n",
       "       [2.1078112],\n",
       "       [2.1078112],\n",
       "       [2.1078112],\n",
       "       [2.1078112],\n",
       "       [2.1078112],\n",
       "       [2.1078112],\n",
       "       [2.1078112],\n",
       "       [2.1078112],\n",
       "       [2.1078112],\n",
       "       [2.1078112],\n",
       "       [2.1078112],\n",
       "       [2.1078112],\n",
       "       [2.1078112],\n",
       "       [2.1078112],\n",
       "       [2.1078112],\n",
       "       [2.1078112],\n",
       "       [2.1078112],\n",
       "       [2.1078112],\n",
       "       [2.1078112],\n",
       "       [2.1078112],\n",
       "       [2.1078112],\n",
       "       [2.1078112],\n",
       "       [2.1078112],\n",
       "       [2.1078112],\n",
       "       [2.1078112],\n",
       "       [2.1078112],\n",
       "       [2.1078112],\n",
       "       [2.1078112],\n",
       "       [2.1078112],\n",
       "       [2.1078112],\n",
       "       [2.1078112],\n",
       "       [2.1078112],\n",
       "       [2.1078112],\n",
       "       [2.1078112],\n",
       "       [2.1078112],\n",
       "       [2.1078112],\n",
       "       [2.1078112],\n",
       "       [2.1078112],\n",
       "       [2.1078112],\n",
       "       [2.1078112],\n",
       "       [2.1078112],\n",
       "       [2.1078112],\n",
       "       [2.1078112],\n",
       "       [2.1078112],\n",
       "       [2.1078112],\n",
       "       [2.1078112],\n",
       "       [2.1078112],\n",
       "       [2.1078112],\n",
       "       [2.1078112],\n",
       "       [2.1078112],\n",
       "       [2.1078112],\n",
       "       [2.1078112],\n",
       "       [2.1078112],\n",
       "       [2.1078112],\n",
       "       [2.1078112],\n",
       "       [2.1078112],\n",
       "       [2.1078112],\n",
       "       [2.1078112],\n",
       "       [2.1078112],\n",
       "       [2.1078112],\n",
       "       [2.1078112],\n",
       "       [2.1078112],\n",
       "       [2.1078112],\n",
       "       [2.1078112],\n",
       "       [2.1078112],\n",
       "       [2.1078112],\n",
       "       [2.1078112],\n",
       "       [2.1078112],\n",
       "       [2.1078112],\n",
       "       [2.1078112],\n",
       "       [2.1078112],\n",
       "       [2.1078112],\n",
       "       [2.1078112],\n",
       "       [2.1078112],\n",
       "       [2.1078112],\n",
       "       [2.1078112],\n",
       "       [2.1078112],\n",
       "       [2.1078112],\n",
       "       [2.1078112],\n",
       "       [2.1078112],\n",
       "       [2.1078112],\n",
       "       [2.1078112],\n",
       "       [2.1078112],\n",
       "       [2.1078112],\n",
       "       [2.1078112],\n",
       "       [2.1078112],\n",
       "       [2.1078112],\n",
       "       [2.1078112],\n",
       "       [2.1078112],\n",
       "       [2.1078112],\n",
       "       [2.1078112],\n",
       "       [2.1078112],\n",
       "       [2.1078112],\n",
       "       [2.1078112],\n",
       "       [2.1078112],\n",
       "       [2.1078112],\n",
       "       [2.1078112],\n",
       "       [2.1078112],\n",
       "       [2.1078112],\n",
       "       [2.1078112],\n",
       "       [2.1078112],\n",
       "       [2.1078112],\n",
       "       [2.1078112],\n",
       "       [2.1078112],\n",
       "       [2.1078112],\n",
       "       [2.1078112],\n",
       "       [2.1078112],\n",
       "       [2.1078112],\n",
       "       [2.1078112],\n",
       "       [2.1078112],\n",
       "       [2.1078112],\n",
       "       [2.1078112],\n",
       "       [2.1078112],\n",
       "       [2.1078112],\n",
       "       [2.1078112],\n",
       "       [2.1078112],\n",
       "       [2.1078112],\n",
       "       [2.1078112],\n",
       "       [2.1078112],\n",
       "       [2.1078112],\n",
       "       [2.1078112],\n",
       "       [2.1078112],\n",
       "       [2.1078112],\n",
       "       [2.1078112],\n",
       "       [2.1078112],\n",
       "       [2.1078112],\n",
       "       [2.1078112],\n",
       "       [2.1078112],\n",
       "       [2.1078112],\n",
       "       [2.1078112],\n",
       "       [2.1078112],\n",
       "       [2.1078112],\n",
       "       [2.1078112],\n",
       "       [2.1078112],\n",
       "       [2.1078112],\n",
       "       [2.1078112],\n",
       "       [2.1078112],\n",
       "       [2.1078112],\n",
       "       [2.1078112],\n",
       "       [2.1078112],\n",
       "       [2.1078112],\n",
       "       [2.1078112],\n",
       "       [2.1078112],\n",
       "       [2.1078112],\n",
       "       [2.1078112],\n",
       "       [2.1078112],\n",
       "       [2.1078112],\n",
       "       [2.1078112],\n",
       "       [2.1078112],\n",
       "       [2.1078112],\n",
       "       [2.1078112],\n",
       "       [2.1078112],\n",
       "       [2.1078112],\n",
       "       [2.1078112],\n",
       "       [2.1078112],\n",
       "       [2.1078112],\n",
       "       [2.1078112],\n",
       "       [2.1078112],\n",
       "       [2.1078112],\n",
       "       [2.1078112],\n",
       "       [2.1078112],\n",
       "       [2.1078112],\n",
       "       [2.1078112],\n",
       "       [2.1078112],\n",
       "       [2.1078112],\n",
       "       [2.1078112],\n",
       "       [2.1078112],\n",
       "       [2.1078112],\n",
       "       [2.1078112],\n",
       "       [2.1078112],\n",
       "       [2.1078112],\n",
       "       [2.1078112],\n",
       "       [2.1078112],\n",
       "       [2.1078112],\n",
       "       [2.1078112],\n",
       "       [2.1078112],\n",
       "       [2.1078112],\n",
       "       [2.1078112],\n",
       "       [2.1078112],\n",
       "       [2.1078112],\n",
       "       [2.1078112],\n",
       "       [2.1078112],\n",
       "       [2.1078112],\n",
       "       [2.1078112],\n",
       "       [2.1078112],\n",
       "       [2.1078112],\n",
       "       [2.1078112],\n",
       "       [2.1078112],\n",
       "       [2.1078112],\n",
       "       [2.1078112],\n",
       "       [2.1078112],\n",
       "       [2.1078112],\n",
       "       [2.1078112],\n",
       "       [2.1078112],\n",
       "       [2.1078112],\n",
       "       [2.1078112],\n",
       "       [2.1078112],\n",
       "       [2.1078112],\n",
       "       [2.1078112],\n",
       "       [2.1078112],\n",
       "       [2.1078112],\n",
       "       [2.1078112],\n",
       "       [2.1078112],\n",
       "       [2.1078112],\n",
       "       [2.1078112],\n",
       "       [2.1078112],\n",
       "       [2.1078112],\n",
       "       [2.1078112],\n",
       "       [2.1078112],\n",
       "       [2.1078112],\n",
       "       [2.1078112],\n",
       "       [2.1078112],\n",
       "       [2.1078112],\n",
       "       [2.1078112],\n",
       "       [2.1078112],\n",
       "       [2.1078112],\n",
       "       [2.1078112],\n",
       "       [2.1078112],\n",
       "       [2.1078112],\n",
       "       [2.1078112],\n",
       "       [2.1078112],\n",
       "       [2.1078112],\n",
       "       [2.1078112],\n",
       "       [2.1078112],\n",
       "       [2.1078112],\n",
       "       [2.1078112],\n",
       "       [2.1078112],\n",
       "       [2.1078112],\n",
       "       [2.1078112],\n",
       "       [2.1078112],\n",
       "       [2.1078112],\n",
       "       [2.1078112],\n",
       "       [2.1078112],\n",
       "       [2.1078112],\n",
       "       [2.1078112],\n",
       "       [2.1078112],\n",
       "       [2.1078112],\n",
       "       [2.1078112],\n",
       "       [2.1078112],\n",
       "       [2.1078112],\n",
       "       [2.1078112],\n",
       "       [2.1078112],\n",
       "       [2.1078112],\n",
       "       [2.1078112],\n",
       "       [2.1078112],\n",
       "       [2.1078112],\n",
       "       [2.1078112],\n",
       "       [2.1078112],\n",
       "       [2.1078112],\n",
       "       [2.1078112],\n",
       "       [2.1078112],\n",
       "       [2.1078112],\n",
       "       [2.1078112],\n",
       "       [2.1078112],\n",
       "       [2.1078112],\n",
       "       [2.1078112],\n",
       "       [2.1078112],\n",
       "       [2.1078112],\n",
       "       [2.1078112],\n",
       "       [2.1078112],\n",
       "       [2.1078112],\n",
       "       [2.1078112],\n",
       "       [2.1078112],\n",
       "       [2.1078112],\n",
       "       [2.1078112],\n",
       "       [2.1078112],\n",
       "       [2.1078112],\n",
       "       [2.1078112],\n",
       "       [2.1078112],\n",
       "       [2.1078112],\n",
       "       [2.1078112],\n",
       "       [2.1078112],\n",
       "       [2.1078112],\n",
       "       [2.1078112],\n",
       "       [2.1078112],\n",
       "       [2.1078112],\n",
       "       [2.1078112],\n",
       "       [2.1078112],\n",
       "       [2.1078112],\n",
       "       [2.1078112],\n",
       "       [2.1078112],\n",
       "       [2.1078112],\n",
       "       [2.1078112],\n",
       "       [2.1078112],\n",
       "       [2.1078112],\n",
       "       [2.1078112],\n",
       "       [2.1078112],\n",
       "       [2.1078112],\n",
       "       [2.1078112],\n",
       "       [2.1078112],\n",
       "       [2.1078112],\n",
       "       [2.1078112],\n",
       "       [2.1078112],\n",
       "       [2.1078112],\n",
       "       [2.1078112],\n",
       "       [2.1036675],\n",
       "       [2.1078112],\n",
       "       [2.1078112],\n",
       "       [2.1078112],\n",
       "       [2.1078112],\n",
       "       [2.1078112],\n",
       "       [2.1078112],\n",
       "       [2.1078112],\n",
       "       [2.1078112],\n",
       "       [2.1078112],\n",
       "       [2.1078112],\n",
       "       [2.1078112],\n",
       "       [2.1078112],\n",
       "       [2.1078112],\n",
       "       [2.1078112],\n",
       "       [2.1078112],\n",
       "       [2.1078112],\n",
       "       [2.1078112],\n",
       "       [2.1078112],\n",
       "       [2.1078112],\n",
       "       [2.1078112],\n",
       "       [2.1078112],\n",
       "       [2.1078112],\n",
       "       [2.1078112],\n",
       "       [2.1078112],\n",
       "       [2.1078112],\n",
       "       [2.1078112],\n",
       "       [2.1078112],\n",
       "       [2.1078112],\n",
       "       [2.1078112],\n",
       "       [2.1078112],\n",
       "       [2.1078112],\n",
       "       [2.1078112],\n",
       "       [2.1078112]], dtype=float32)"
      ]
     },
     "execution_count": 20,
     "metadata": {},
     "output_type": "execute_result"
    }
   ],
   "source": [
    "test_predictions"
   ]
  },
  {
   "cell_type": "code",
   "execution_count": 21,
   "metadata": {},
   "outputs": [
    {
     "data": {
      "text/plain": [
       "0      2.107811\n",
       "1      2.107811\n",
       "2      2.107811\n",
       "3      2.107811\n",
       "4      2.107811\n",
       "         ...   \n",
       "325    2.107811\n",
       "326    2.107811\n",
       "327    2.107811\n",
       "328    2.107811\n",
       "329    2.107811\n",
       "Length: 330, dtype: float32"
      ]
     },
     "execution_count": 21,
     "metadata": {},
     "output_type": "execute_result"
    }
   ],
   "source": [
    "# Numpy array -> Pandas Series\n",
    "test_predictions = pd.Series(test_predictions.reshape(330,))\n",
    "test_predictions"
   ]
  },
  {
   "cell_type": "code",
   "execution_count": 22,
   "metadata": {},
   "outputs": [],
   "source": [
    "pred_df = pd.DataFrame(y_test,columns=['Test True Y'])"
   ]
  },
  {
   "cell_type": "code",
   "execution_count": 23,
   "metadata": {},
   "outputs": [],
   "source": [
    "pred_df = pd.concat([pred_df,test_predictions], axis=1)"
   ]
  },
  {
   "cell_type": "code",
   "execution_count": 24,
   "metadata": {},
   "outputs": [
    {
     "data": {
      "text/html": [
       "<div>\n",
       "<style scoped>\n",
       "    .dataframe tbody tr th:only-of-type {\n",
       "        vertical-align: middle;\n",
       "    }\n",
       "\n",
       "    .dataframe tbody tr th {\n",
       "        vertical-align: top;\n",
       "    }\n",
       "\n",
       "    .dataframe thead th {\n",
       "        text-align: right;\n",
       "    }\n",
       "</style>\n",
       "<table border=\"1\" class=\"dataframe\">\n",
       "  <thead>\n",
       "    <tr style=\"text-align: right;\">\n",
       "      <th></th>\n",
       "      <th>Test True Y</th>\n",
       "      <th>Model Predictions</th>\n",
       "    </tr>\n",
       "  </thead>\n",
       "  <tbody>\n",
       "    <tr>\n",
       "      <td>0</td>\n",
       "      <td>402.296319</td>\n",
       "      <td>2.107811</td>\n",
       "    </tr>\n",
       "    <tr>\n",
       "      <td>1</td>\n",
       "      <td>624.156198</td>\n",
       "      <td>2.107811</td>\n",
       "    </tr>\n",
       "    <tr>\n",
       "      <td>2</td>\n",
       "      <td>582.455066</td>\n",
       "      <td>2.107811</td>\n",
       "    </tr>\n",
       "    <tr>\n",
       "      <td>3</td>\n",
       "      <td>578.588606</td>\n",
       "      <td>2.107811</td>\n",
       "    </tr>\n",
       "    <tr>\n",
       "      <td>4</td>\n",
       "      <td>371.224104</td>\n",
       "      <td>2.107811</td>\n",
       "    </tr>\n",
       "    <tr>\n",
       "      <td>...</td>\n",
       "      <td>...</td>\n",
       "      <td>...</td>\n",
       "    </tr>\n",
       "    <tr>\n",
       "      <td>325</td>\n",
       "      <td>535.543676</td>\n",
       "      <td>2.107811</td>\n",
       "    </tr>\n",
       "    <tr>\n",
       "      <td>326</td>\n",
       "      <td>425.843651</td>\n",
       "      <td>2.107811</td>\n",
       "    </tr>\n",
       "    <tr>\n",
       "      <td>327</td>\n",
       "      <td>368.920095</td>\n",
       "      <td>2.107811</td>\n",
       "    </tr>\n",
       "    <tr>\n",
       "      <td>328</td>\n",
       "      <td>505.631884</td>\n",
       "      <td>2.107811</td>\n",
       "    </tr>\n",
       "    <tr>\n",
       "      <td>329</td>\n",
       "      <td>489.794598</td>\n",
       "      <td>2.107811</td>\n",
       "    </tr>\n",
       "  </tbody>\n",
       "</table>\n",
       "<p>330 rows × 2 columns</p>\n",
       "</div>"
      ],
      "text/plain": [
       "     Test True Y  Model Predictions\n",
       "0     402.296319           2.107811\n",
       "1     624.156198           2.107811\n",
       "2     582.455066           2.107811\n",
       "3     578.588606           2.107811\n",
       "4     371.224104           2.107811\n",
       "..           ...                ...\n",
       "325   535.543676           2.107811\n",
       "326   425.843651           2.107811\n",
       "327   368.920095           2.107811\n",
       "328   505.631884           2.107811\n",
       "329   489.794598           2.107811\n",
       "\n",
       "[330 rows x 2 columns]"
      ]
     },
     "execution_count": 24,
     "metadata": {},
     "output_type": "execute_result"
    }
   ],
   "source": [
    "pred_df.columns = ['Test True Y','Model Predictions']\n",
    "pred_df"
   ]
  },
  {
   "cell_type": "code",
   "execution_count": 25,
   "metadata": {},
   "outputs": [
    {
     "data": {
      "text/plain": [
       "<matplotlib.axes._subplots.AxesSubplot at 0x23f241c2bc8>"
      ]
     },
     "execution_count": 25,
     "metadata": {},
     "output_type": "execute_result"
    },
    {
     "data": {
      "image/png": "[encoded data removed]",
      "text/plain": [
       "<Figure size 432x288 with 1 Axes>"
      ]
     },
     "metadata": {
      "needs_background": "light"
     },
     "output_type": "display_data"
    }
   ],
   "source": [
    "sns.scatterplot(x='Test True Y', y='Model Predictions', data=pred_df)"
   ]
  },
  {
   "cell_type": "code",
   "execution_count": 26,
   "metadata": {},
   "outputs": [
    {
     "data": {
      "text/plain": [
       "498.1842817610829"
      ]
     },
     "execution_count": 26,
     "metadata": {},
     "output_type": "execute_result"
    }
   ],
   "source": [
    "mean_absolute_error(pred_df['Test True Y'], pred_df['Model Predictions'])"
   ]
  },
  {
   "cell_type": "code",
   "execution_count": 27,
   "metadata": {},
   "outputs": [
    {
     "data": {
      "text/html": [
       "<div>\n",
       "<style scoped>\n",
       "    .dataframe tbody tr th:only-of-type {\n",
       "        vertical-align: middle;\n",
       "    }\n",
       "\n",
       "    .dataframe tbody tr th {\n",
       "        vertical-align: top;\n",
       "    }\n",
       "\n",
       "    .dataframe thead th {\n",
       "        text-align: right;\n",
       "    }\n",
       "</style>\n",
       "<table border=\"1\" class=\"dataframe\">\n",
       "  <thead>\n",
       "    <tr style=\"text-align: right;\">\n",
       "      <th></th>\n",
       "      <th>price</th>\n",
       "      <th>feature1</th>\n",
       "      <th>feature2</th>\n",
       "    </tr>\n",
       "  </thead>\n",
       "  <tbody>\n",
       "    <tr>\n",
       "      <td>count</td>\n",
       "      <td>1000.000000</td>\n",
       "      <td>1000.000000</td>\n",
       "      <td>1000.000000</td>\n",
       "    </tr>\n",
       "    <tr>\n",
       "      <td>mean</td>\n",
       "      <td>498.673029</td>\n",
       "      <td>1000.014171</td>\n",
       "      <td>999.979847</td>\n",
       "    </tr>\n",
       "    <tr>\n",
       "      <td>std</td>\n",
       "      <td>93.785431</td>\n",
       "      <td>0.974018</td>\n",
       "      <td>0.948330</td>\n",
       "    </tr>\n",
       "    <tr>\n",
       "      <td>min</td>\n",
       "      <td>223.346793</td>\n",
       "      <td>997.058347</td>\n",
       "      <td>996.995651</td>\n",
       "    </tr>\n",
       "    <tr>\n",
       "      <td>25%</td>\n",
       "      <td>433.025732</td>\n",
       "      <td>999.332068</td>\n",
       "      <td>999.316106</td>\n",
       "    </tr>\n",
       "    <tr>\n",
       "      <td>50%</td>\n",
       "      <td>502.382117</td>\n",
       "      <td>1000.009915</td>\n",
       "      <td>1000.002243</td>\n",
       "    </tr>\n",
       "    <tr>\n",
       "      <td>75%</td>\n",
       "      <td>564.921588</td>\n",
       "      <td>1000.637580</td>\n",
       "      <td>1000.645380</td>\n",
       "    </tr>\n",
       "    <tr>\n",
       "      <td>max</td>\n",
       "      <td>774.407854</td>\n",
       "      <td>1003.207934</td>\n",
       "      <td>1002.666308</td>\n",
       "    </tr>\n",
       "  </tbody>\n",
       "</table>\n",
       "</div>"
      ],
      "text/plain": [
       "             price     feature1     feature2\n",
       "count  1000.000000  1000.000000  1000.000000\n",
       "mean    498.673029  1000.014171   999.979847\n",
       "std      93.785431     0.974018     0.948330\n",
       "min     223.346793   997.058347   996.995651\n",
       "25%     433.025732   999.332068   999.316106\n",
       "50%     502.382117  1000.009915  1000.002243\n",
       "75%     564.921588  1000.637580  1000.645380\n",
       "max     774.407854  1003.207934  1002.666308"
      ]
     },
     "execution_count": 27,
     "metadata": {},
     "output_type": "execute_result"
    }
   ],
   "source": [
    "df.describe()\n",
    "\n",
    "# See that our MAE is around 4, mean price = 400 which means that\n",
    "# Error of price prediction is just about 1% (4/400) -> Pretty Good"
   ]
  },
  {
   "cell_type": "markdown",
   "metadata": {},
   "source": [
    "# 5. Predict on new set of data "
   ]
  },
  {
   "cell_type": "code",
   "execution_count": 28,
   "metadata": {},
   "outputs": [],
   "source": [
    "new_gem = [[998,1000]]"
   ]
  },
  {
   "cell_type": "code",
   "execution_count": 29,
   "metadata": {},
   "outputs": [],
   "source": [
    "new_gem = scaler.transform(new_gem)"
   ]
  },
  {
   "cell_type": "code",
   "execution_count": 30,
   "metadata": {},
   "outputs": [
    {
     "data": {
      "text/plain": [
       "array([[2.1078112]], dtype=float32)"
      ]
     },
     "execution_count": 30,
     "metadata": {},
     "output_type": "execute_result"
    }
   ],
   "source": [
    "model.predict(new_gem)"
   ]
  },
  {
   "cell_type": "code",
   "execution_count": null,
   "metadata": {},
   "outputs": [],
   "source": []
  },
  {
   "cell_type": "markdown",
   "metadata": {},
   "source": [
    "# 6. Save - Load a model"
   ]
  },
  {
   "cell_type": "code",
   "execution_count": 31,
   "metadata": {},
   "outputs": [],
   "source": [
    "from tensorflow.keras.models import load_model"
   ]
  },
  {
   "cell_type": "code",
   "execution_count": 32,
   "metadata": {},
   "outputs": [],
   "source": [
    "# model.save('my_gem_model.h5')\n",
    "# later_model = load_model('my_gem_model.h5')\n",
    "# later_model.predict(new_gem)"
   ]
  },
  {
   "cell_type": "code",
   "execution_count": null,
   "metadata": {},
   "outputs": [],
   "source": []
  },
  {
   "cell_type": "code",
   "execution_count": null,
   "metadata": {},
   "outputs": [],
   "source": []
  },
  {
   "cell_type": "code",
   "execution_count": null,
   "metadata": {},
   "outputs": [],
   "source": []
  },
  {
   "cell_type": "markdown",
   "metadata": {},
   "source": [
    "# -- The second section is from Keras website --\n",
    "\n",
    "##### https://keras.io/guides/sequential_model/#what-to-do-once-you-have-a-model "
   ]
  },
  {
   "cell_type": "code",
   "execution_count": 1,
   "metadata": {},
   "outputs": [],
   "source": [
    "import numpy as np\n",
    "import tensorflow as tf\n",
    "from tensorflow import keras\n",
    "from tensorflow.keras import layers"
   ]
  },
  {
   "cell_type": "markdown",
   "metadata": {},
   "source": [
    "### The Functional API \n",
    "###### Functional API is a way to create models that are more flexible than the tf.keras.Sequential API"
   ]
  },
  {
   "cell_type": "code",
   "execution_count": 2,
   "metadata": {},
   "outputs": [],
   "source": [
    "inputs = keras.Input(shape=(784,)) \n",
    "# The shape of the data is set as a 784-dimensional vector. \n",
    "# The batch size is always omitted since only the shape of each sample is specified"
   ]
  },
  {
   "cell_type": "code",
   "execution_count": 3,
   "metadata": {},
   "outputs": [
    {
     "data": {
      "text/plain": [
       "TensorShape([None, 784])"
      ]
     },
     "execution_count": 3,
     "metadata": {},
     "output_type": "execute_result"
    }
   ],
   "source": [
    "inputs.shape"
   ]
  },
  {
   "cell_type": "code",
   "execution_count": 4,
   "metadata": {},
   "outputs": [],
   "source": [
    "dense = layers.Dense(64,activation=\"relu\")\n",
    "x = dense(inputs)"
   ]
  },
  {
   "cell_type": "code",
   "execution_count": 6,
   "metadata": {},
   "outputs": [],
   "source": [
    "x = layers.Dense(64, activation=\"relu\")(x)\n",
    "x = layers.Dense(32, activation=\"relu\")(x)\n",
    "\n",
    "# Output Layer\n",
    "outputs = layers.Dense(10)(x)"
   ]
  },
  {
   "cell_type": "code",
   "execution_count": 7,
   "metadata": {},
   "outputs": [],
   "source": [
    "model = keras.Model(inputs=inputs, outputs=outputs, name=\"mnist_model\")"
   ]
  },
  {
   "cell_type": "code",
   "execution_count": 9,
   "metadata": {},
   "outputs": [
    {
     "name": "stdout",
     "output_type": "stream",
     "text": [
      "Model: \"mnist_model\"\n",
      "_________________________________________________________________\n",
      "Layer (type)                 Output Shape              Param #   \n",
      "=================================================================\n",
      "input_1 (InputLayer)         [(None, 784)]             0         \n",
      "_________________________________________________________________\n",
      "dense (Dense)                (None, 64)                50240     \n",
      "_________________________________________________________________\n",
      "dense_1 (Dense)              (None, 64)                4160      \n",
      "_________________________________________________________________\n",
      "dense_2 (Dense)              (None, 64)                4160      \n",
      "_________________________________________________________________\n",
      "dense_3 (Dense)              (None, 32)                2080      \n",
      "_________________________________________________________________\n",
      "dense_4 (Dense)              (None, 10)                330       \n",
      "=================================================================\n",
      "Total params: 60,970\n",
      "Trainable params: 60,970\n",
      "Non-trainable params: 0\n",
      "_________________________________________________________________\n"
     ]
    }
   ],
   "source": [
    "model.summary()"
   ]
  },
  {
   "cell_type": "code",
   "execution_count": null,
   "metadata": {},
   "outputs": [],
   "source": []
  },
  {
   "cell_type": "code",
   "execution_count": null,
   "metadata": {},
   "outputs": [],
   "source": []
  }
 ],
 "metadata": {
  "kernelspec": {
   "display_name": "Python 3",
   "language": "python",
   "name": "python3"
  },
  "language_info": {
   "codemirror_mode": {
    "name": "ipython",
    "version": 3
   },
   "file_extension": ".py",
   "mimetype": "text/x-python",
   "name": "python",
   "nbconvert_exporter": "python",
   "pygments_lexer": "ipython3",
   "version": "3.7.4"
  }
 },
 "nbformat": 4,
 "nbformat_minor": 2
}
