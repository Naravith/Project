{
 "cells": [
  {
   "cell_type": "code",
   "execution_count": 156,
   "metadata": {},
   "outputs": [],
   "source": [
    "import numpy as np\n",
    "import pandas as pd\n",
    "\n",
    "import math\n",
    "\n",
    "from sklearn.metrics import mean_squared_error\n",
    "from sklearn.preprocessing import MinMaxScaler\n",
    "\n",
    "import tensorflow as tf\n",
    "from tensorflow.keras.models import Sequential\n",
    "from tensorflow.keras.layers import Dense\n",
    "from tensorflow.keras.layers import LSTM\n",
    "\n",
    "from sklearn.tree import DecisionTreeRegressor\n",
    "from sklearn.linear_model import LinearRegression\n",
    "from sklearn.model_selection import train_test_split"
   ]
  },
  {
   "cell_type": "code",
   "execution_count": 157,
   "metadata": {},
   "outputs": [
    {
     "data": {
      "text/html": [
       "<div>\n",
       "<style scoped>\n",
       "    .dataframe tbody tr th:only-of-type {\n",
       "        vertical-align: middle;\n",
       "    }\n",
       "\n",
       "    .dataframe tbody tr th {\n",
       "        vertical-align: top;\n",
       "    }\n",
       "\n",
       "    .dataframe thead th {\n",
       "        text-align: right;\n",
       "    }\n",
       "</style>\n",
       "<table border=\"1\" class=\"dataframe\">\n",
       "  <thead>\n",
       "    <tr style=\"text-align: right;\">\n",
       "      <th></th>\n",
       "      <th>Timestamp</th>\n",
       "      <th>Tx_Packet</th>\n",
       "      <th>Rx_Packet</th>\n",
       "      <th>Dropped</th>\n",
       "      <th>BW_Utilization</th>\n",
       "    </tr>\n",
       "  </thead>\n",
       "  <tbody>\n",
       "    <tr>\n",
       "      <th>0</th>\n",
       "      <td>2020-11-06 04:30:24</td>\n",
       "      <td>33</td>\n",
       "      <td>34</td>\n",
       "      <td>0</td>\n",
       "      <td>4.584070e+04</td>\n",
       "    </tr>\n",
       "    <tr>\n",
       "      <th>1</th>\n",
       "      <td>2020-11-06 04:31:21</td>\n",
       "      <td>35</td>\n",
       "      <td>33</td>\n",
       "      <td>0</td>\n",
       "      <td>4.626071e+04</td>\n",
       "    </tr>\n",
       "    <tr>\n",
       "      <th>2</th>\n",
       "      <td>2020-11-06 04:35:26</td>\n",
       "      <td>40</td>\n",
       "      <td>5</td>\n",
       "      <td>0</td>\n",
       "      <td>4.150660e+05</td>\n",
       "    </tr>\n",
       "    <tr>\n",
       "      <th>3</th>\n",
       "      <td>2020-11-06 04:35:27</td>\n",
       "      <td>143</td>\n",
       "      <td>1</td>\n",
       "      <td>0</td>\n",
       "      <td>4.224566e+06</td>\n",
       "    </tr>\n",
       "    <tr>\n",
       "      <th>4</th>\n",
       "      <td>2020-11-06 04:35:28</td>\n",
       "      <td>142</td>\n",
       "      <td>0</td>\n",
       "      <td>0</td>\n",
       "      <td>4.165482e+06</td>\n",
       "    </tr>\n",
       "    <tr>\n",
       "      <th>...</th>\n",
       "      <td>...</td>\n",
       "      <td>...</td>\n",
       "      <td>...</td>\n",
       "      <td>...</td>\n",
       "      <td>...</td>\n",
       "    </tr>\n",
       "    <tr>\n",
       "      <th>120</th>\n",
       "      <td>2020-11-06 04:39:41</td>\n",
       "      <td>327</td>\n",
       "      <td>274</td>\n",
       "      <td>0</td>\n",
       "      <td>8.398220e+05</td>\n",
       "    </tr>\n",
       "    <tr>\n",
       "      <th>121</th>\n",
       "      <td>2020-11-06 04:39:41</td>\n",
       "      <td>217</td>\n",
       "      <td>0</td>\n",
       "      <td>0</td>\n",
       "      <td>3.031080e+05</td>\n",
       "    </tr>\n",
       "    <tr>\n",
       "      <th>122</th>\n",
       "      <td>2020-11-06 04:39:41</td>\n",
       "      <td>304</td>\n",
       "      <td>3</td>\n",
       "      <td>0</td>\n",
       "      <td>4.266560e+05</td>\n",
       "    </tr>\n",
       "    <tr>\n",
       "      <th>123</th>\n",
       "      <td>2020-11-06 04:39:42</td>\n",
       "      <td>913</td>\n",
       "      <td>1</td>\n",
       "      <td>0</td>\n",
       "      <td>1.280100e+06</td>\n",
       "    </tr>\n",
       "    <tr>\n",
       "      <th>124</th>\n",
       "      <td>2020-11-06 04:39:42</td>\n",
       "      <td>613</td>\n",
       "      <td>1</td>\n",
       "      <td>0</td>\n",
       "      <td>8.562560e+05</td>\n",
       "    </tr>\n",
       "  </tbody>\n",
       "</table>\n",
       "<p>3406 rows × 5 columns</p>\n",
       "</div>"
      ],
      "text/plain": [
       "               Timestamp  Tx_Packet  Rx_Packet  Dropped  BW_Utilization\n",
       "0    2020-11-06 04:30:24         33         34        0    4.584070e+04\n",
       "1    2020-11-06 04:31:21         35         33        0    4.626071e+04\n",
       "2    2020-11-06 04:35:26         40          5        0    4.150660e+05\n",
       "3    2020-11-06 04:35:27        143          1        0    4.224566e+06\n",
       "4    2020-11-06 04:35:28        142          0        0    4.165482e+06\n",
       "..                   ...        ...        ...      ...             ...\n",
       "120  2020-11-06 04:39:41        327        274        0    8.398220e+05\n",
       "121  2020-11-06 04:39:41        217          0        0    3.031080e+05\n",
       "122  2020-11-06 04:39:41        304          3        0    4.266560e+05\n",
       "123  2020-11-06 04:39:42        913          1        0    1.280100e+06\n",
       "124  2020-11-06 04:39:42        613          1        0    8.562560e+05\n",
       "\n",
       "[3406 rows x 5 columns]"
      ]
     },
     "execution_count": 157,
     "metadata": {},
     "output_type": "execute_result"
    }
   ],
   "source": [
    "df1 = pd.read_csv('C:\\\\Users\\\\Luxuss\\\\Desktop\\\\SharedFolder\\\\Project\\\\RYU\\\\link7.csv')\n",
    "df2 = pd.read_csv('C:\\\\Users\\\\Luxuss\\\\Desktop\\\\SharedFolder\\\\Project\\\\RYU\\\\link2.csv')\n",
    "df3 = pd.read_csv('C:\\\\Users\\\\Luxuss\\\\Desktop\\\\SharedFolder\\\\Project\\\\RYU\\\\link3.csv')\n",
    "df4 = pd.read_csv('C:\\\\Users\\\\Luxuss\\\\Desktop\\\\SharedFolder\\\\Project\\\\RYU\\\\link4.csv')\n",
    "df5 = pd.read_csv('C:\\\\Users\\\\Luxuss\\\\Desktop\\\\SharedFolder\\\\Project\\\\RYU\\\\link5.csv')\n",
    "df6 = pd.read_csv('C:\\\\Users\\\\Luxuss\\\\Desktop\\\\SharedFolder\\\\Project\\\\RYU\\\\link6.csv')\n",
    "df7 = pd.read_csv('C:\\\\Users\\\\Luxuss\\\\Desktop\\\\SharedFolder\\\\Project\\\\RYU\\\\link1.csv')\n",
    "df8 = pd.read_csv('C:\\\\Users\\\\Luxuss\\\\Desktop\\\\SharedFolder\\\\Project\\\\RYU\\\\link8.csv')\n",
    "\n",
    "df = pd.concat([df1,df2,df3,df4,df5,df6,df7,df8,df2,df1,df7,df6,df8,df4,df5,df3])\n",
    "df"
   ]
  },
  {
   "cell_type": "code",
   "execution_count": 158,
   "metadata": {},
   "outputs": [],
   "source": [
    "# Because we will predict BW Util\n",
    "\n",
    "df = df.reset_index()['BW_Utilization']"
   ]
  },
  {
   "cell_type": "code",
   "execution_count": 159,
   "metadata": {
    "scrolled": false
   },
   "outputs": [
    {
     "data": {
      "text/plain": [
       "[<matplotlib.lines.Line2D at 0x22e18a75288>]"
      ]
     },
     "execution_count": 159,
     "metadata": {},
     "output_type": "execute_result"
    },
    {
     "data": {
      "image/png": "[encoded data removed]",
      "text/plain": [
       "<Figure size 1008x360 with 1 Axes>"
      ]
     },
     "metadata": {
      "needs_background": "light"
     },
     "output_type": "display_data"
    }
   ],
   "source": [
    "import matplotlib.pyplot as plt\n",
    "\n",
    "plt.figure(figsize =(14,5))\n",
    "plt.plot(df)"
   ]
  },
  {
   "cell_type": "code",
   "execution_count": 160,
   "metadata": {},
   "outputs": [
    {
     "data": {
      "text/plain": [
       "array([[0.00298178],\n",
       "       [0.00303186],\n",
       "       [0.04701144],\n",
       "       ...,\n",
       "       [0.04839353],\n",
       "       [0.15016566],\n",
       "       [0.09962279]])"
      ]
     },
     "execution_count": 160,
     "metadata": {},
     "output_type": "execute_result"
    }
   ],
   "source": [
    "# Scaling data\n",
    "\n",
    "scaler = MinMaxScaler(feature_range=(0,1))\n",
    "df = scaler.fit_transform(np.array(df).reshape(-1,1))\n",
    "\n",
    "df"
   ]
  },
  {
   "cell_type": "code",
   "execution_count": 161,
   "metadata": {},
   "outputs": [
    {
     "data": {
      "text/plain": [
       "(3406, 1)"
      ]
     },
     "execution_count": 161,
     "metadata": {},
     "output_type": "execute_result"
    }
   ],
   "source": [
    "df.shape"
   ]
  },
  {
   "cell_type": "code",
   "execution_count": 162,
   "metadata": {},
   "outputs": [
    {
     "data": {
      "text/plain": [
       "[<matplotlib.lines.Line2D at 0x22e18ae1f48>]"
      ]
     },
     "execution_count": 162,
     "metadata": {},
     "output_type": "execute_result"
    },
    {
     "data": {
      "image/png": "[encoded data removed]",
      "text/plain": [
       "<Figure size 1008x360 with 1 Axes>"
      ]
     },
     "metadata": {
      "needs_background": "light"
     },
     "output_type": "display_data"
    }
   ],
   "source": [
    "plt.figure(figsize =(14,5))\n",
    "plt.plot(df)"
   ]
  },
  {
   "cell_type": "code",
   "execution_count": 163,
   "metadata": {},
   "outputs": [],
   "source": [
    "training_size=int(len(df)*0.75)\n",
    "test_size=len(df)-training_size\n",
    "\n",
    "\n",
    "train_data, test_data = df[0:training_size,:] , df[training_size:len(df),:1]"
   ]
  },
  {
   "cell_type": "code",
   "execution_count": 164,
   "metadata": {},
   "outputs": [],
   "source": [
    "import numpy\n",
    "# convert an array of values into a dataset matrix\n",
    "\n",
    "def create_dataset(dataset, time_step=1):\n",
    "\tdataX, dataY = [], []\n",
    "\tfor i in range(len(dataset)-time_step-1):\n",
    "\t\ta = dataset[i:(i+time_step), 0]   ###i=0, 0,1,2,3-----99   100 \n",
    "\t\tdataX.append(a)\n",
    "\t\tdataY.append(dataset[i + time_step, 0])\n",
    "\treturn numpy.array(dataX), numpy.array(dataY)"
   ]
  },
  {
   "cell_type": "code",
   "execution_count": 165,
   "metadata": {},
   "outputs": [],
   "source": [
    "# reshape into X=t,t+1,t+2,t+3 and Y=t+4\n",
    "\n",
    "time_step = 200\n",
    "X_train, y_train = create_dataset(train_data, time_step)\n",
    "X_test, ytest = create_dataset(test_data, time_step)"
   ]
  },
  {
   "cell_type": "code",
   "execution_count": 166,
   "metadata": {},
   "outputs": [
    {
     "data": {
      "text/plain": [
       "(2353, 200)"
      ]
     },
     "execution_count": 166,
     "metadata": {},
     "output_type": "execute_result"
    }
   ],
   "source": [
    "X_train.shape"
   ]
  },
  {
   "cell_type": "code",
   "execution_count": 167,
   "metadata": {},
   "outputs": [],
   "source": [
    "X_train =X_train.reshape(X_train.shape[0],X_train.shape[1] , 1)\n",
    "X_test = X_test.reshape(X_test.shape[0],X_test.shape[1] , 1)"
   ]
  },
  {
   "cell_type": "code",
   "execution_count": 168,
   "metadata": {},
   "outputs": [],
   "source": [
    "from tensorflow.keras.regularizers import l2"
   ]
  },
  {
   "cell_type": "code",
   "execution_count": 169,
   "metadata": {},
   "outputs": [],
   "source": [
    "model=Sequential()\n",
    "\n",
    "model.add(LSTM(100,return_sequences=True,input_shape=(200,1), activation=\"relu\", kernel_regularizer=l2(0.01)\\\n",
    "               , recurrent_regularizer=l2(0.01), bias_regularizer=l2(0.01)))\n",
    "#model.add(LSTM(80, activation=\"relu\",return_sequences=True, kernel_regularizer=l2(0.01), recurrent_regularizer=l2(0.01)\\\n",
    "#               , bias_regularizer=l2(0.01)))\n",
    "model.add(LSTM(50, activation=\"relu\", kernel_regularizer=l2(0.01), recurrent_regularizer=l2(0.01)\\\n",
    "               , bias_regularizer=l2(0.01)))\n",
    "\n",
    "model.add(Dense(1))\n",
    "model.compile(loss='mean_squared_error',optimizer='adam')"
   ]
  },
  {
   "cell_type": "code",
   "execution_count": 170,
   "metadata": {},
   "outputs": [],
   "source": [
    "from tensorflow.keras.callbacks import EarlyStopping\n",
    "\n",
    "earlyStop=EarlyStopping(monitor=\"val_loss\",verbose=1,mode='min',patience=10)"
   ]
  },
  {
   "cell_type": "code",
   "execution_count": 171,
   "metadata": {
    "scrolled": false
   },
   "outputs": [
    {
     "name": "stdout",
     "output_type": "stream",
     "text": [
      "Train on 2353 samples, validate on 651 samples\n",
      "Epoch 1/100\n",
      "2353/2353 [==============================] - 25s 11ms/sample - loss: 3.3844 - val_loss: 2.5179\n",
      "Epoch 2/100\n",
      "2353/2353 [==============================] - 21s 9ms/sample - loss: 2.0780 - val_loss: 1.7283\n",
      "Epoch 3/100\n",
      "2353/2353 [==============================] - 23s 10ms/sample - loss: 1.5325 - val_loss: 1.3714\n",
      "Epoch 4/100\n",
      "2353/2353 [==============================] - 26s 11ms/sample - loss: 1.2697 - val_loss: 1.1822\n",
      "Epoch 5/100\n",
      "2353/2353 [==============================] - 22s 9ms/sample - loss: 1.1178 - val_loss: 1.0604\n",
      "Epoch 6/100\n",
      "2353/2353 [==============================] - 22s 9ms/sample - loss: 1.0113 - val_loss: 0.9657\n",
      "Epoch 7/100\n",
      "2353/2353 [==============================] - 17s 7ms/sample - loss: 0.9239 - val_loss: 0.8848\n",
      "Epoch 8/100\n",
      "2353/2353 [==============================] - 21s 9ms/sample - loss: 0.8469 - val_loss: 0.8120\n",
      "Epoch 9/100\n",
      "2353/2353 [==============================] - 18s 8ms/sample - loss: 0.7767 - val_loss: 0.7440\n",
      "Epoch 10/100\n",
      "2353/2353 [==============================] - 26s 11ms/sample - loss: 0.7116 - val_loss: 0.6814\n",
      "Epoch 11/100\n",
      "2353/2353 [==============================] - 28s 12ms/sample - loss: 0.6511 - val_loss: 0.6232\n",
      "Epoch 12/100\n",
      "2353/2353 [==============================] - 28s 12ms/sample - loss: 0.5949 - val_loss: 0.5698\n",
      "Epoch 13/100\n",
      "2353/2353 [==============================] - 27s 11ms/sample - loss: 0.5427 - val_loss: 0.5187\n",
      "Epoch 14/100\n",
      "2353/2353 [==============================] - 21s 9ms/sample - loss: 0.4942 - val_loss: 0.4722\n",
      "Epoch 15/100\n",
      "2353/2353 [==============================] - 24s 10ms/sample - loss: 0.4494 - val_loss: 0.4305\n",
      "Epoch 16/100\n",
      "2353/2353 [==============================] - 21s 9ms/sample - loss: 0.4079 - val_loss: 0.3895\n",
      "Epoch 17/100\n",
      "2353/2353 [==============================] - 21s 9ms/sample - loss: 0.3697 - val_loss: 0.3526\n",
      "Epoch 18/100\n",
      "2353/2353 [==============================] - 23s 10ms/sample - loss: 0.3343 - val_loss: 0.3189\n",
      "Epoch 19/100\n",
      "2353/2353 [==============================] - 17s 7ms/sample - loss: 0.3019 - val_loss: 0.2885\n",
      "Epoch 20/100\n",
      "2353/2353 [==============================] - 17s 7ms/sample - loss: 0.2721 - val_loss: 0.2595\n",
      "Epoch 21/100\n",
      "2353/2353 [==============================] - 18s 8ms/sample - loss: 0.2449 - val_loss: 0.2331\n",
      "Epoch 22/100\n",
      "2353/2353 [==============================] - 19s 8ms/sample - loss: 0.2199 - val_loss: 0.2105\n",
      "Epoch 23/100\n",
      "2353/2353 [==============================] - 24s 10ms/sample - loss: 0.1973 - val_loss: 0.1880\n",
      "Epoch 24/100\n",
      "2353/2353 [==============================] - 24s 10ms/sample - loss: 0.1767 - val_loss: 0.1682\n",
      "Epoch 25/100\n",
      "2353/2353 [==============================] - 21s 9ms/sample - loss: 0.1580 - val_loss: 0.1510\n",
      "Epoch 26/100\n",
      "2353/2353 [==============================] - 20s 8ms/sample - loss: 0.1412 - val_loss: 0.1353\n",
      "Epoch 27/100\n",
      "2353/2353 [==============================] - 21s 9ms/sample - loss: 0.1260 - val_loss: 0.1214\n",
      "Epoch 28/100\n",
      "2353/2353 [==============================] - 18s 8ms/sample - loss: 0.1124 - val_loss: 0.1081\n",
      "Epoch 29/100\n",
      "2353/2353 [==============================] - 18s 8ms/sample - loss: 0.1001 - val_loss: 0.0960\n",
      "Epoch 30/100\n",
      "2353/2353 [==============================] - 18s 8ms/sample - loss: 0.0894 - val_loss: 0.0859\n",
      "Epoch 31/100\n",
      "2353/2353 [==============================] - 18s 7ms/sample - loss: 0.0796 - val_loss: 0.0766\n",
      "Epoch 32/100\n",
      "2353/2353 [==============================] - 18s 8ms/sample - loss: 0.0710 - val_loss: 0.0687\n",
      "Epoch 33/100\n",
      "2353/2353 [==============================] - 18s 7ms/sample - loss: 0.0637 - val_loss: 0.0620\n",
      "Epoch 34/100\n",
      "2353/2353 [==============================] - 17s 7ms/sample - loss: 0.0567 - val_loss: 0.0552\n",
      "Epoch 35/100\n",
      "2353/2353 [==============================] - 18s 8ms/sample - loss: 0.0507 - val_loss: 0.0497\n",
      "Epoch 36/100\n",
      "2353/2353 [==============================] - 18s 8ms/sample - loss: 0.0455 - val_loss: 0.0447\n",
      "Epoch 37/100\n",
      "2353/2353 [==============================] - 18s 8ms/sample - loss: 0.0409 - val_loss: 0.0407\n",
      "Epoch 38/100\n",
      "2353/2353 [==============================] - 18s 7ms/sample - loss: 0.0371 - val_loss: 0.0384\n",
      "Epoch 39/100\n",
      "2353/2353 [==============================] - 17s 7ms/sample - loss: 0.0337 - val_loss: 0.0334\n",
      "Epoch 40/100\n",
      "2353/2353 [==============================] - 19s 8ms/sample - loss: 0.0307 - val_loss: 0.0314\n",
      "Epoch 41/100\n",
      "2353/2353 [==============================] - 18s 7ms/sample - loss: 0.0281 - val_loss: 0.0297\n",
      "Epoch 42/100\n",
      "2353/2353 [==============================] - 17s 7ms/sample - loss: 0.0259 - val_loss: 0.0263\n",
      "Epoch 43/100\n",
      "2353/2353 [==============================] - 20s 8ms/sample - loss: 0.0242 - val_loss: 0.0246\n",
      "Epoch 44/100\n",
      "2353/2353 [==============================] - 20s 8ms/sample - loss: 0.0225 - val_loss: 0.0231\n",
      "Epoch 45/100\n",
      "2353/2353 [==============================] - 20s 8ms/sample - loss: 0.0209 - val_loss: 0.0217\n",
      "Epoch 46/100\n",
      "2353/2353 [==============================] - 20s 8ms/sample - loss: 0.0200 - val_loss: 0.0211\n",
      "Epoch 47/100\n",
      "2353/2353 [==============================] - 19s 8ms/sample - loss: 0.0188 - val_loss: 0.0195\n",
      "Epoch 48/100\n",
      "2353/2353 [==============================] - 19s 8ms/sample - loss: 0.0180 - val_loss: 0.0188\n",
      "Epoch 49/100\n",
      "2353/2353 [==============================] - 18s 8ms/sample - loss: 0.0171 - val_loss: 0.0181\n",
      "Epoch 50/100\n",
      "2353/2353 [==============================] - 19s 8ms/sample - loss: 0.0165 - val_loss: 0.0174\n",
      "Epoch 51/100\n",
      "2353/2353 [==============================] - 19s 8ms/sample - loss: 0.0160 - val_loss: 0.0169\n",
      "Epoch 52/100\n",
      "2353/2353 [==============================] - 26s 11ms/sample - loss: 0.0156 - val_loss: 0.0164\n",
      "Epoch 53/100\n",
      "2353/2353 [==============================] - 22s 9ms/sample - loss: 0.0150 - val_loss: 0.0160\n",
      "Epoch 54/100\n",
      "2353/2353 [==============================] - 19s 8ms/sample - loss: 0.0148 - val_loss: 0.0160\n",
      "Epoch 55/100\n",
      "2353/2353 [==============================] - 19s 8ms/sample - loss: 0.0144 - val_loss: 0.0167\n",
      "Epoch 56/100\n",
      "2353/2353 [==============================] - 19s 8ms/sample - loss: 0.0141 - val_loss: 0.0151\n",
      "Epoch 57/100\n",
      "2353/2353 [==============================] - 19s 8ms/sample - loss: 0.0138 - val_loss: 0.0148\n",
      "Epoch 58/100\n",
      "2353/2353 [==============================] - 19s 8ms/sample - loss: 0.0135 - val_loss: 0.0150\n",
      "Epoch 59/100\n",
      "2353/2353 [==============================] - 19s 8ms/sample - loss: 0.0133 - val_loss: 0.0144\n",
      "Epoch 60/100\n",
      "2353/2353 [==============================] - 20s 8ms/sample - loss: 0.0131 - val_loss: 0.0141\n",
      "Epoch 61/100\n",
      "2353/2353 [==============================] - 18s 8ms/sample - loss: 0.0129 - val_loss: 0.0141\n",
      "Epoch 62/100\n",
      "2353/2353 [==============================] - 18s 8ms/sample - loss: 0.0127 - val_loss: 0.0138\n",
      "Epoch 63/100\n",
      "2353/2353 [==============================] - 20s 9ms/sample - loss: 0.0125 - val_loss: 0.0136\n",
      "Epoch 64/100\n",
      "2353/2353 [==============================] - 19s 8ms/sample - loss: 0.0124 - val_loss: 0.0135\n",
      "Epoch 65/100\n",
      "2353/2353 [==============================] - 17s 7ms/sample - loss: 0.0123 - val_loss: 0.0135\n",
      "Epoch 66/100\n",
      "2353/2353 [==============================] - 21s 9ms/sample - loss: 0.0120 - val_loss: 0.0131\n",
      "Epoch 67/100\n",
      "2353/2353 [==============================] - 22s 9ms/sample - loss: 0.0119 - val_loss: 0.0130\n",
      "Epoch 68/100\n",
      "2353/2353 [==============================] - 22s 9ms/sample - loss: 0.0120 - val_loss: 0.0129\n",
      "Epoch 69/100\n",
      "2353/2353 [==============================] - 19s 8ms/sample - loss: 0.0117 - val_loss: 0.0127\n",
      "Epoch 70/100\n",
      "2353/2353 [==============================] - 22s 9ms/sample - loss: 0.0115 - val_loss: 0.0129\n",
      "Epoch 71/100\n",
      "2353/2353 [==============================] - 25s 11ms/sample - loss: 0.0115 - val_loss: 0.0126\n",
      "Epoch 72/100\n",
      "2353/2353 [==============================] - 24s 10ms/sample - loss: 0.0114 - val_loss: 0.0126\n",
      "Epoch 73/100\n",
      "2353/2353 [==============================] - 24s 10ms/sample - loss: 0.0113 - val_loss: 0.0124\n",
      "Epoch 74/100\n",
      "2353/2353 [==============================] - 24s 10ms/sample - loss: 0.0112 - val_loss: 0.0123\n",
      "Epoch 75/100\n",
      "2353/2353 [==============================] - 26s 11ms/sample - loss: 0.0111 - val_loss: 0.0122\n",
      "Epoch 76/100\n",
      "2353/2353 [==============================] - 24s 10ms/sample - loss: 0.0110 - val_loss: 0.0122\n",
      "Epoch 77/100\n"
     ]
    },
    {
     "name": "stdout",
     "output_type": "stream",
     "text": [
      "2353/2353 [==============================] - 24s 10ms/sample - loss: 0.0109 - val_loss: 0.0121\n",
      "Epoch 78/100\n",
      "2353/2353 [==============================] - 26s 11ms/sample - loss: 0.0109 - val_loss: 0.0120\n",
      "Epoch 79/100\n",
      "2353/2353 [==============================] - 32s 14ms/sample - loss: 0.0108 - val_loss: 0.0120\n",
      "Epoch 80/100\n",
      "2353/2353 [==============================] - 37s 16ms/sample - loss: 0.0107 - val_loss: 0.0120\n",
      "Epoch 81/100\n",
      "2353/2353 [==============================] - 27s 11ms/sample - loss: 0.0109 - val_loss: 0.0119\n",
      "Epoch 82/100\n",
      "2353/2353 [==============================] - 24s 10ms/sample - loss: 0.0107 - val_loss: 0.0119\n",
      "Epoch 83/100\n",
      "2353/2353 [==============================] - 27s 11ms/sample - loss: 0.0107 - val_loss: 0.0118\n",
      "Epoch 84/100\n",
      "2353/2353 [==============================] - 25s 11ms/sample - loss: 0.0105 - val_loss: 0.0121\n",
      "Epoch 85/100\n",
      "2353/2353 [==============================] - 25s 11ms/sample - loss: 0.0106 - val_loss: 0.0117\n",
      "Epoch 86/100\n",
      "2353/2353 [==============================] - 26s 11ms/sample - loss: 0.0104 - val_loss: 0.0117\n",
      "Epoch 87/100\n",
      "2353/2353 [==============================] - 24s 10ms/sample - loss: 0.0104 - val_loss: 0.0115\n",
      "Epoch 88/100\n",
      "2353/2353 [==============================] - 24s 10ms/sample - loss: 0.0103 - val_loss: 0.0116\n",
      "Epoch 89/100\n",
      "2353/2353 [==============================] - 24s 10ms/sample - loss: 0.0103 - val_loss: 0.0114\n",
      "Epoch 90/100\n",
      "2353/2353 [==============================] - 23s 10ms/sample - loss: 0.0104 - val_loss: 0.0114\n",
      "Epoch 91/100\n",
      "2353/2353 [==============================] - 23s 10ms/sample - loss: 0.0104 - val_loss: 0.0117\n",
      "Epoch 92/100\n",
      "2353/2353 [==============================] - 23s 10ms/sample - loss: 0.0103 - val_loss: 0.0114\n",
      "Epoch 93/100\n",
      "2353/2353 [==============================] - 24s 10ms/sample - loss: 0.0104 - val_loss: 0.0113\n",
      "Epoch 94/100\n",
      "2353/2353 [==============================] - 26s 11ms/sample - loss: 0.0102 - val_loss: 0.0116\n",
      "Epoch 95/100\n",
      "2353/2353 [==============================] - 24s 10ms/sample - loss: 0.0102 - val_loss: 0.0113\n",
      "Epoch 96/100\n",
      "2353/2353 [==============================] - 24s 10ms/sample - loss: 0.0101 - val_loss: 0.0112\n",
      "Epoch 97/100\n",
      "2353/2353 [==============================] - 26s 11ms/sample - loss: 0.0100 - val_loss: 0.0111\n",
      "Epoch 98/100\n",
      "2353/2353 [==============================] - 25s 10ms/sample - loss: 0.0100 - val_loss: 0.0111\n",
      "Epoch 99/100\n",
      "2353/2353 [==============================] - 25s 11ms/sample - loss: 0.0100 - val_loss: 0.0111\n",
      "Epoch 100/100\n",
      "2353/2353 [==============================] - 25s 10ms/sample - loss: 0.0101 - val_loss: 0.0112\n"
     ]
    },
    {
     "data": {
      "text/plain": [
       "<tensorflow.python.keras.callbacks.History at 0x22e18963608>"
      ]
     },
     "execution_count": 171,
     "metadata": {},
     "output_type": "execute_result"
    }
   ],
   "source": [
    "#Train the model\n",
    "\n",
    "model.fit(X_train,y_train,validation_data=(X_test,ytest),epochs=100,batch_size=64,verbose=1,callbacks=[earlyStop])"
   ]
  },
  {
   "cell_type": "code",
   "execution_count": null,
   "metadata": {},
   "outputs": [],
   "source": [
    "train_predict = model.predict(X_train)\n",
    "test_predict = model.predict(X_test)"
   ]
  },
  {
   "cell_type": "code",
   "execution_count": null,
   "metadata": {},
   "outputs": [],
   "source": [
    "math.sqrt(mean_squared_error(y_train,train_predict))"
   ]
  },
  {
   "cell_type": "code",
   "execution_count": null,
   "metadata": {},
   "outputs": [],
   "source": [
    "math.sqrt(mean_squared_error(ytest,test_predict))"
   ]
  },
  {
   "cell_type": "code",
   "execution_count": null,
   "metadata": {},
   "outputs": [],
   "source": [
    "### Plotting \n",
    "# shift train predictions for plotting\n",
    "# look back = timestep\n",
    "\n",
    "look_back=200\n",
    "\n",
    "trainPredictPlot = numpy.empty_like(df)\n",
    "trainPredictPlot[:, :] = np.nan\n",
    "trainPredictPlot[look_back:len(train_predict)+look_back, :] = train_predict\n",
    "\n",
    "# shift test predictions for plotting\n",
    "testPredictPlot = numpy.empty_like(df)\n",
    "testPredictPlot[:, :] = numpy.nan\n",
    "testPredictPlot[len(train_predict)+(look_back*2)+1:len(df)-1, :] = test_predict\n",
    "\n",
    "# plot baseline and predictions\n",
    "plt.figure(figsize =(14,5))\n",
    "#plt.plot(scaler.inverse_transform(df))\n",
    "plt.plot(df)\n",
    "plt.plot(trainPredictPlot)\n",
    "plt.plot(testPredictPlot)\n",
    "plt.show()\n",
    "\n",
    "#ORANGE = Train predicted Data\n",
    "#GREEN = Test predicted Data"
   ]
  },
  {
   "cell_type": "code",
   "execution_count": null,
   "metadata": {},
   "outputs": [],
   "source": [
    "train_predict = model.predict(X_train)\n",
    "test_predict = model.predict(X_test)\n",
    "\n",
    "train_predict = scaler.inverse_transform(train_predict)\n",
    "test_predict = scaler.inverse_transform(test_predict)"
   ]
  },
  {
   "cell_type": "code",
   "execution_count": null,
   "metadata": {},
   "outputs": [],
   "source": [
    "math.sqrt(mean_squared_error(y_train,train_predict))"
   ]
  },
  {
   "cell_type": "code",
   "execution_count": null,
   "metadata": {},
   "outputs": [],
   "source": [
    "math.sqrt(mean_squared_error(ytest,test_predict))"
   ]
  },
  {
   "cell_type": "code",
   "execution_count": null,
   "metadata": {},
   "outputs": [],
   "source": [
    "### Plotting \n",
    "# shift train predictions for plotting\n",
    "# look back = timestep\n",
    "\n",
    "look_back=200\n",
    "\n",
    "trainPredictPlot = numpy.empty_like(df)\n",
    "trainPredictPlot[:, :] = np.nan\n",
    "trainPredictPlot[look_back:len(train_predict)+look_back, :] = train_predict\n",
    "\n",
    "# shift test predictions for plotting\n",
    "testPredictPlot = numpy.empty_like(df)\n",
    "testPredictPlot[:, :] = numpy.nan\n",
    "testPredictPlot[len(train_predict)+(look_back*2)+1:len(df)-1, :] = test_predict\n",
    "\n",
    "# plot baseline and predictions\n",
    "plt.figure(figsize =(14,5))\n",
    "plt.plot(scaler.inverse_transform(df))\n",
    "plt.plot(trainPredictPlot)\n",
    "plt.plot(testPredictPlot)\n",
    "plt.show()\n",
    "\n",
    "#ORANGE = Train predicted Data\n",
    "#GREEN = Test predicted Data"
   ]
  },
  {
   "cell_type": "code",
   "execution_count": null,
   "metadata": {},
   "outputs": [],
   "source": []
  }
 ],
 "metadata": {
  "kernelspec": {
   "display_name": "TensorFlow2-GPU",
   "language": "python",
   "name": "tf2"
  },
  "language_info": {
   "codemirror_mode": {
    "name": "ipython",
    "version": 3
   },
   "file_extension": ".py",
   "mimetype": "text/x-python",
   "name": "python",
   "nbconvert_exporter": "python",
   "pygments_lexer": "ipython3",
   "version": "3.7.9"
  }
 },
 "nbformat": 4,
 "nbformat_minor": 4
}
